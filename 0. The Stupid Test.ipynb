{
 "cells": [
  {
   "cell_type": "markdown",
   "metadata": {},
   "source": [
    "# The Bechdel Test: is it stupider than the stupid test?\n",
    "## No. It measures something meaningful, even if no one can agree on exactly what.\n",
    "\n",
    "The Internet has been afire recently about the recent National Review article by Kyle Smith, <a href='http://www.nationalreview.com/article/449340/bechdel-test-feminist-litmus-test-movies-useless-political-correctness'>If You Like Art, Don’t Take the Bechdel Test</a>. Smith argues that the Bechdel test is nothing more than a political-correctness litmus test, useless for saying anything meaningful about movies.\n",
    "\n",
    "There have already been many interesting responses to the piece, like <a href='http://www.salon.com/2017/07/11/national-review-bechdel-test/'>this one from Salon</a> and <a href='http://ew.com/movies/2017/07/10/kyle-smith-slammed-bechdel-test-takedown/'>this one from Entertainment Weekly</a>. But what can we learn from actually looking at the data?\n",
    "\n",
    "The Bechdel test's origin lies in 1985 comic by <a href='http://dykestowatchoutfor.com/'>Alison Bechdel</a>, author of the print and online comic strip <a href='http://dykestowatchoutfor.com/strip-archive-by-number'>Dykes to Watch Out For</a>. In that particular comic, called <a href='http://dykestowatchoutfor.com/wp-content/uploads/2014/05/The-Rule-cleaned-up.jpg'>The Rule</a>, one female character explains to another a rule she uses to decide what movie to see.\n",
    "\n",
    "<ol>\n",
    "<li>It has to have at least two women in it, who...</li>\n",
    "<li>talk to each other...</li>\n",
    "<li>about something other than a man.</li>\n",
    "</ol>\n",
    "\n",
    "The implication was clear: such a test seems like an absurdly low bar, but shockingly few well-known films actually pass.\n",
    "\n",
    "The test stayed there, and unnammed, until the early 2000s. At that time, it started to be discussed in film schools and on movie blogs, and gained the name of its initial author. In 2013, a chain of theaters in Sweden started <a href='https://www.theguardian.com/world/2013/nov/06/swedish-cinemas-bechdel-test-films-gender-bias'>issuing ratings indicating whether or not their movies passed the Bechdel test</a>. Bechdel herself says that <a href='http://dykestowatchoutfor.com/testy'>she feels some ambivalence about the test being named after her</a>, preferring to credit her friend Liz Wallace for adapting an idea first raised by Virginia Woolf in 1926.\n",
    "\n",
    "The Bechdel test continues to draw attention from both academics and journalists. In 2014, Walt Hickey of fivethirtyeight.com <a href='http://calvinandhobbes.wikia.com/wiki/Calvinball'>gathered data from 1,615 Hollywood films</a> and found that while movies that pass the Bechdel test tend to have lower budgets than those that fail, they do no worse at the box office, whether measured by gross receipts or by profits. <a href='http://www.brianckeegan.com/2014/04/the-need-for-openness-in-data-journalism/'>A follow-up study</a> by Brian Keegan extended Hickey's work, finding that films that pass the test get higher revenues, better ratings from critics, and slightly worse ratings from IMDb users.\n",
    "\n",
    "Last week, the Bechdel test entered the news again, thanks to Smith's National Review article. Smith points out that the test returns some odd results: <em>Showgirls</em> passes, while all three <em>Lord of the Rings</em> movies fail. Given those counterintuitive results, Smith asks, is the Bechdel test even meaningful? Or is it merely a \"feminist Good Housekeeping Seal of approval\" with no purpose other than to beat political correctness into creators and viewers? He suggests the \"cowboy test\": does the movie have a cowboy? The cowboy test, he argues, is just as arbitrary and meaningless as the Bechdel test.\n",
    "\n",
    "Smith's critics might suggest he has an axe to grind, but he makes a valid point. If the Bechdel test is important enough to influence decisions about what movies to make and what movies to see, then it is important enough to evaluate. Never mind whether the Bechdel test measures women's representation in Hollywood. Does the Bechdel test measure <strong>anything</strong>?\n",
    "\n",
    "That is the question I seek to answer here. Note that this question is much easier to answer - we don't need to make any assumptions about what the Bechdel test measures. One of the ways that researchers answer such a question is through <em>convergent validity</em> - how well the test correlates with other measures we are interested in. When the test score goes up, do other variables also go up, or down, or stay the same? The \"other variables\" in this case might include things like budgets, revenue, and ratings. Of course, we already have strong evidence for the convergent validity of the Bechdel test, thanks to the work of Hickey, Keegan, and others. But that might not be enough to satisfy skeptics. Sure, they might say, results of the Bechedel test correlate with these variables - but maybe results of the cowboy test would too.\n",
    "\n",
    "Scoring a broad representative sample of movies on the newly-invented cowboy test would be difficult, but Smith doesn't really care about cowboys - his point is that the test is arbitrary and meaningless. Fortunately, it is easy to make a test that is certain to be meaningless - we can assign a random number 1 or 0 to each movie. That test is even stupider than the cowboy test - so stupid we could call it the \"stupid test.\" What can we say about the convergent validity of the stupid test?\n",
    "\n",
    "Kyle Smith thinks the Bechdel test is stupid. But is it as stupid as the stupid test?"
   ]
  },
  {
   "cell_type": "markdown",
   "metadata": {},
   "source": [
    "## The data\n",
    "\n",
    "I collected data from several websites, following the methods of Hickey and Keegan. I am extremely grateful to Brian Keegan to making all his scripts available - I was able to adapt them to do this study, which saved me literally weeks of work.\n",
    "\n",
    "Movie titles and Bechdel test information come from the <a href='http://bechdeltest.com/'>Bechdel Test Movie List</a> website, which collects user-submitted information about whether movies pass or fail the Bechdel test. Financial data come from <a href='http://www.the-numbers.com/'>The Numbers</a>, supplemented with data for a few titles from the <a href=\"http://omdbapi.com/\">Open Movie Database</a> (OMDb) and <a href='http://www.boxofficemojo.com/'>Box Office Mojo</a>. All figures were corrected for inflation to December 2016 levels using data from the <a href='https://www.bls.gov/cpi/'>Consumer Price Index</a>.\n",
    "\n",
    "I adapted <a href='http://nbviewer.jupyter.org/github/brianckeegan/Bechdel/blob/master/Bechdel_test.ipynb'>Keegan's published scripts</a> into Python 3 scripts that get titles and Bechdel test results from the Bechdel Test Movie List's API and match them to data web-scraped from The Numbers pages using the Python <a href='https://www.crummy.com/software/BeautifulSoup/'>BeautifulSoup</a> module. (Data from Box Office Mojo was added by hand, since their terms of service ask users not to scrape their pages.) The Stupid test was implemented by generating a random-number-based pass or fail with the same probability of passing as the Bechdel test."
   ]
  },
  {
   "cell_type": "code",
   "execution_count": 3,
   "metadata": {
    "collapsed": false
   },
   "outputs": [
    {
     "name": "stdout",
     "output_type": "stream",
     "text": [
      "Dataset loaded\n"
     ]
    }
   ],
   "source": [
    "#from itertools import product\n",
    "#from matplotlib.collections import LineCollection\n",
    "#import statsmodels.formula.api as smf\n",
    "import numpy as np\n",
    "import scipy\n",
    "from scipy.stats import linregress\n",
    "from matplotlib import pyplot as plt\n",
    "from IPython.display import Image, display, HTML\n",
    "import pandas as pd\n",
    "import datetime as datetime\n",
    "import warnings\n",
    "warnings.filterwarnings('ignore')\n",
    "movies_df = pd.read_csv('movies_for_analysis.csv',encoding='utf-8',index_col='imdb_id')\n",
    "movies_df['released'] = pd.to_datetime(movies_df['released'])\n",
    "print('Dataset loaded')"
   ]
  },
  {
   "cell_type": "markdown",
   "metadata": {},
   "source": [
    "## The methods\n",
    "\n",
    "Volunteers on the Bechdel Test Movie List site enter results by filling in entering the link to a movie's IMDb page, then clicking one of these four radio buttons:\n",
    "\n",
    "<ul>\n",
    "<li>This movie doesn't have two (named) female characters.</li>\n",
    "<li>It has at least two women in it;</li>\n",
    "<li>... and they talk to each other;</li>\n",
    "<li>... about something besides a man.</li>\n",
    "</ul>\n",
    "\n",
    "They can optionally click a checkbox labeled, \"Although I think it matches, it's dubious,\" as well as add a comment in a textbox with the following instructions:\n",
    "\n",
    "<blockquote>\n",
    "Please give some information on why this movie got this rating. In particular when a movie matches all tests, it's helpful to describe why it matches (for example, just because two women speak for half a minute in one scene, or because there are actual important female characters that discuss plot-relevant things regularly).\n",
    "</blockquote>\n",
    "\n",
    "This results in a rating of "
   ]
  },
  {
   "cell_type": "code",
   "execution_count": 4,
   "metadata": {
    "collapsed": false
   },
   "outputs": [
    {
     "data": {
      "text/html": [
       "<p>Created new variable with hard pass/fail Bechdel test results: <code>bechdel_passed</code>.</p>"
      ],
      "text/plain": [
       "<IPython.core.display.HTML object>"
      ]
     },
     "metadata": {},
     "output_type": "display_data"
    }
   ],
   "source": [
    "# Create a new variable called 'bechdel_passed': 1 for films that pass the test, 0 for films that fail.\n",
    "movies_df['bechdel_passed'] = np.where(movies_df['bechdel_rating'] == 3, 1, 0)\n",
    "display(HTML('<p>Created new variable with hard pass/fail Bechdel test results: <code>bechdel_passed</code>.</p>'))\n",
    "\n"
   ]
  },
  {
   "cell_type": "code",
   "execution_count": 37,
   "metadata": {
    "collapsed": false
   },
   "outputs": [
    {
     "data": {
      "text/html": [
       "Next question: which movies are we going to study? I grabbed a lot of movies in scripts 1-6, but they won't necessarily all be of interest to us. This is where we decide what is in and what is out."
      ],
      "text/plain": [
       "<IPython.core.display.HTML object>"
      ]
     },
     "metadata": {},
     "output_type": "display_data"
    },
    {
     "data": {
      "text/html": [
       "<p>The Bechdel test site contains movies from as early as 1892."
      ],
      "text/plain": [
       "<IPython.core.display.HTML object>"
      ]
     },
     "metadata": {},
     "output_type": "display_data"
    },
    {
     "data": {
      "text/plain": [
       "studio\n",
       "Universal Pictures                          301\n",
       "Warner Bros. Pictures                       280\n",
       "Paramount Pictures                          242\n",
       "20th Century Fox                            239\n",
       "Sony Pictures Classics                      123\n",
       "Sony Pictures Home Entertainment            117\n",
       "IFC Films                                   114\n",
       "Columbia Pictures                           113\n",
       "MGM                                         111\n",
       "Sony Pictures                               111\n",
       "MGM Home Entertainment                      106\n",
       "Warner Home Video                           105\n",
       "Walt Disney Pictures                         85\n",
       "Miramax Films                                82\n",
       "Magnolia Pictures                            82\n",
       "United Artists                               82\n",
       "Focus Features                               75\n",
       "WARNER BROTHERS PICTURES                     73\n",
       "New Line Cinema                              72\n",
       "Twentieth Century Fox Home Entertainment     71\n",
       "MCA Universal Home Video                     70\n",
       "Warner Bros.                                 69\n",
       "Criterion Collection                         67\n",
       "Buena Vista Pictures                         57\n",
       "Miramax                                      56\n",
       "The Weinstein Company                        55\n",
       "Paramount Home Video                         47\n",
       "Lionsgate Films                              47\n",
       "Buena Vista                                  46\n",
       "Lionsgate                                    42\n",
       "                                           ... \n",
       "New Horizons                                  1\n",
       "New Line Cinema.                              1\n",
       "New Line Cinema/Warner Bros. Pictures         1\n",
       "New Wave Films                                1\n",
       "New Yorker                                    1\n",
       "Moviehead Pictures                            1\n",
       "Newmarket Films LLC                           1\n",
       "Nickelodeon Movies                            1\n",
       "Nine Nights                                   1\n",
       "Nirvana Films                                 1\n",
       "Nonetheless Productions                       1\n",
       "Norador Productions                           1\n",
       "New Cinema                                    1\n",
       "Nepi Film                                     1\n",
       "National Geographic Entertainment             1\n",
       "National Geographic                           1\n",
       "National Film Corporation of America          1\n",
       "National Film Board of Canada                 1\n",
       "Naisu no mori Seisaku Iinkai                  1\n",
       "NRW Film Fund                                 1\n",
       "NEON                                          1\n",
       "NCM                                           1\n",
       "NBC                                           1\n",
       "Myung Film                                    1\n",
       "Myriad Pictures                               1\n",
       "Muse Entertainment Enterprises                1\n",
       "Muse Entertainment                            1\n",
       "Movienet                                      1\n",
       "Moviehouse Entertainment                      1\n",
       "1 Production Film                             1\n",
       "Length: 1374, dtype: int64"
      ]
     },
     "execution_count": 37,
     "metadata": {},
     "output_type": "execute_result"
    }
   ],
   "source": [
    "## Choosing a study sample\n",
    "The resulting dataset contains a huge variety of films , released between \n",
    "\n",
    "\n",
    "display(HTML('Next question: which movies are we going to study? I grabbed a lot of movies in scripts 1-6, but they won\\'t necessarily all be of interest to us. This is where we decide what is in and what is out.'))\n",
    "\n",
    "veryearliestyear = movies_df['bechdel_year'].agg(min)\n",
    "\n",
    "display(HTML('<p>The Bechdel test site contains movies from as early as {0}, released by both major studios and single one-off distributors.'.format(veryearliestyear)))\n",
    "\n",
    "studiolist = movies_df.groupby('studio')\n",
    "\n",
    "studiolist.size().sort_values(ascending=False)"
   ]
  },
  {
   "cell_type": "markdown",
   "metadata": {},
   "source": [
    "### Whose movies?\n",
    "\n",
    "The Bechdel test was invented to discuss Hollywood movies, which is a slightly vague and nebulous term. Ideally we would want to consider releases from \"major Hollywood studios,\" but that is hard to define. This is because of the \"Fox Searchlight problem.\" Fox Searchlight is a subsidiary of Fox that distributes foreign films. Should they be considered as a part of 20th Century Fox, or not?\n",
    "\n",
    "Even if that were easy to define, it would still be hard to put into code, because there are so damn many studios represented. Run the code block below to see just how many."
   ]
  },
  {
   "cell_type": "code",
   "execution_count": 38,
   "metadata": {
    "collapsed": false
   },
   "outputs": [
    {
     "data": {
      "text/html": [
       "<p>The number of unique studios in our dataset (remember, not yet cut on time), according to two sources:"
      ],
      "text/plain": [
       "<IPython.core.display.HTML object>"
      ]
     },
     "metadata": {},
     "output_type": "display_data"
    },
    {
     "name": "stdout",
     "output_type": "stream",
     "text": [
      "Number of studios according to IMDb: 1,374\n",
      "Number of studios according to Box Office Mojo: 202\n",
      "(Those lists certainly overlap)\n"
     ]
    }
   ],
   "source": [
    "display(HTML('<p>The number of unique studios in our dataset (remember, not yet cut on time), according to two sources:'))\n",
    "\n",
    "#movies_df.columns\n",
    "nStudiosIMDb = len(movies_df.groupby('studio'))  # studio data from IMDb\n",
    "nStudiosBOM = len(movies_df.groupby('studio_boxofficemojo')) # studio data from boxofficemojo.com (as of May 2017)\n",
    "\n",
    "print('Number of studios according to IMDb: {0:,.0f}'.format(nStudiosIMDb))\n",
    "print('Number of studios according to Box Office Mojo: {0:,.0f}'.format(nStudiosBOM))\n",
    "print('(Those lists certainly overlap)')"
   ]
  },
  {
   "cell_type": "markdown",
   "metadata": {},
   "source": [
    "So let's try a different approach that is certainly not perfect, but will get us closer to where we want to be: consider only movies made in the US (the value for \"country\" from OMDb includes 'usa')."
   ]
  },
  {
   "cell_type": "code",
   "execution_count": 4,
   "metadata": {
    "collapsed": false
   },
   "outputs": [
    {
     "name": "stdout",
     "output_type": "stream",
     "text": [
      "Selected only movies made in the United States.\n"
     ]
    }
   ],
   "source": [
    "#print('Number of movies before: {:,.0f}'.format(len(movies_df)))\n",
    "movies_df = movies_df[movies_df['usa'] == 1]\n",
    "print('Selected only movies made in the United States.')\n",
    "#print('Number of movies after: {:,.0f}'.format(len(movies_df)))"
   ]
  },
  {
   "cell_type": "markdown",
   "metadata": {},
   "source": [
    "### Movies from when?\n",
    "\n",
    "Assuming we have appropriately selected \"Hollywood movies\" as our object of study, \"Hollywood\" means something very different now than it did many years ago. We are interested mostly in the Hollywood of today, but we do also want to look back a bit to see if the situation has changed. Eliminating the very oldest movies will serve another purpose also: we know that our dataset is less complete for the earliest years, so this eliminates a possible source of bias.\n",
    "\n",
    "So we want to look back into the past, but not too far into the past - but when exactly is our cutoff for which movies to include? I picked 1969, which was the first full year in which MPAA ratings had replaced the Hays Code. That seems like as good a place as any to draw a line between \"Old Hollywood\" and \"Modern Hollywood.\"\n",
    "\n",
    "If you'd like to draw that line at a different point instead, change the value of <code>firstyear</code> in the very first line of the Code block below, then rerun everything below that point."
   ]
  },
  {
   "cell_type": "code",
   "execution_count": 39,
   "metadata": {
    "collapsed": false
   },
   "outputs": [
    {
     "data": {
      "text/html": [
       "<div>\n",
       "<style>\n",
       "    .dataframe thead tr:only-child th {\n",
       "        text-align: right;\n",
       "    }\n",
       "\n",
       "    .dataframe thead th {\n",
       "        text-align: left;\n",
       "    }\n",
       "\n",
       "    .dataframe tbody tr th {\n",
       "        vertical-align: top;\n",
       "    }\n",
       "</style>\n",
       "<table border=\"1\" class=\"dataframe\">\n",
       "  <thead>\n",
       "    <tr style=\"text-align: right;\">\n",
       "      <th></th>\n",
       "      <th>llave</th>\n",
       "      <th>title</th>\n",
       "      <th>released</th>\n",
       "      <th>bechdel_rating</th>\n",
       "      <th>bechdel_dubious</th>\n",
       "      <th>boxoffice_adj</th>\n",
       "      <th>budget_adj</th>\n",
       "      <th>profit_adj</th>\n",
       "      <th>roi_adj</th>\n",
       "      <th>openinggross_adj</th>\n",
       "      <th>...</th>\n",
       "      <th>release_date</th>\n",
       "      <th>releasedate_thenumbers</th>\n",
       "      <th>title_thenumbers</th>\n",
       "      <th>genre_thenumbers</th>\n",
       "      <th>budget_thenumbers</th>\n",
       "      <th>revenue_thenumbers</th>\n",
       "      <th>year_thenumbers</th>\n",
       "      <th>has_trailer_thenumbers</th>\n",
       "      <th>the_numbers_url</th>\n",
       "      <th>factor</th>\n",
       "    </tr>\n",
       "    <tr>\n",
       "      <th>imdb_id</th>\n",
       "      <th></th>\n",
       "      <th></th>\n",
       "      <th></th>\n",
       "      <th></th>\n",
       "      <th></th>\n",
       "      <th></th>\n",
       "      <th></th>\n",
       "      <th></th>\n",
       "      <th></th>\n",
       "      <th></th>\n",
       "      <th></th>\n",
       "      <th></th>\n",
       "      <th></th>\n",
       "      <th></th>\n",
       "      <th></th>\n",
       "      <th></th>\n",
       "      <th></th>\n",
       "      <th></th>\n",
       "      <th></th>\n",
       "      <th></th>\n",
       "      <th></th>\n",
       "    </tr>\n",
       "  </thead>\n",
       "  <tbody>\n",
       "    <tr>\n",
       "      <th>3</th>\n",
       "      <td>pauvrep92rrot</td>\n",
       "      <td>Pauvre Pierrot</td>\n",
       "      <td>1892-10-28</td>\n",
       "      <td>0</td>\n",
       "      <td>0.0</td>\n",
       "      <td>NaN</td>\n",
       "      <td>NaN</td>\n",
       "      <td>NaN</td>\n",
       "      <td>NaN</td>\n",
       "      <td>NaN</td>\n",
       "      <td>...</td>\n",
       "      <td>NaN</td>\n",
       "      <td>NaN</td>\n",
       "      <td>NaN</td>\n",
       "      <td>NaN</td>\n",
       "      <td>NaN</td>\n",
       "      <td>NaN</td>\n",
       "      <td>NaN</td>\n",
       "      <td>NaN</td>\n",
       "      <td>NaN</td>\n",
       "      <td>NaN</td>\n",
       "    </tr>\n",
       "  </tbody>\n",
       "</table>\n",
       "<p>1 rows × 61 columns</p>\n",
       "</div>"
      ],
      "text/plain": [
       "                 llave           title   released  bechdel_rating  \\\n",
       "imdb_id                                                             \n",
       "3        pauvrep92rrot  Pauvre Pierrot 1892-10-28               0   \n",
       "\n",
       "         bechdel_dubious  boxoffice_adj  budget_adj  profit_adj  roi_adj  \\\n",
       "imdb_id                                                                    \n",
       "3                    0.0            NaN         NaN         NaN      NaN   \n",
       "\n",
       "         openinggross_adj   ...    release_date  releasedate_thenumbers  \\\n",
       "imdb_id                     ...                                           \n",
       "3                     NaN   ...             NaN                     NaN   \n",
       "\n",
       "         title_thenumbers  genre_thenumbers  budget_thenumbers  \\\n",
       "imdb_id                                                          \n",
       "3                     NaN               NaN                NaN   \n",
       "\n",
       "         revenue_thenumbers year_thenumbers has_trailer_thenumbers  \\\n",
       "imdb_id                                                              \n",
       "3                       NaN             NaN                    NaN   \n",
       "\n",
       "        the_numbers_url  factor  \n",
       "imdb_id                          \n",
       "3                   NaN     NaN  \n",
       "\n",
       "[1 rows x 61 columns]"
      ]
     },
     "execution_count": 39,
     "metadata": {},
     "output_type": "execute_result"
    }
   ],
   "source": [
    "#firstyear = 1969\n",
    "#movies_df = movies_df[movies_df['bechdel_year'] >= firstyear]\n",
    "#print('Selected only movies released since {:.0f}.'.format(firstyear))\n",
    "movies_df.head(1)"
   ]
  },
  {
   "cell_type": "markdown",
   "metadata": {},
   "source": [
    "Cool, so how many movies does that leave us with? And how many do we have complete data for?\n",
    "\n",
    "Our dataset is such that every movie included has a Bechdel test result, but not every movie has financial data. Run the next Code block to see how many movies we are dealing with."
   ]
  },
  {
   "cell_type": "code",
   "execution_count": 40,
   "metadata": {
    "collapsed": false
   },
   "outputs": [
    {
     "data": {
      "text/html": [
       "<h3>Number of movies in our study sample</h3>"
      ],
      "text/plain": [
       "<IPython.core.display.HTML object>"
      ]
     },
     "metadata": {},
     "output_type": "display_data"
    },
    {
     "name": "stdout",
     "output_type": "stream",
     "text": [
      "Total number of movies: 7,266\n",
      "Movies with Bechdel test results: 7,266\n",
      "\n",
      "Movies with box office receipt data: 4,594\n",
      "Movies with budget, profit, and ROI data: 2,748\n"
     ]
    }
   ],
   "source": [
    "display(HTML('<h3>Number of movies in our study sample</h3>'.format(firstyear)))\n",
    "\n",
    "print('Total number of movies: {:,.0f}'.format(len(movies_df)))\n",
    "print('Movies with Bechdel test results: {:,.0f}'.format(len(movies_df[~pd.isnull(movies_df['bechdel_rating'])])))\n",
    "print('')\n",
    "print('Movies with box office receipt data: {:,.0f}'.format(len(movies_df[~pd.isnull(movies_df['boxoffice_adj'])])))\n",
    "print('Movies with budget, profit, and ROI data: {:,.0f}'.format(len(movies_df[~pd.isnull(movies_df['profit_adj'])])))"
   ]
  },
  {
   "cell_type": "markdown",
   "metadata": {},
   "source": [
    "It's hard to find sample sizes for either the 538 study or Keegan's study (I'll see if I can find them laters), I'm pretty sure ours is the largest study of this kind ever undertaken.\n",
    "\n",
    "w00t!"
   ]
  },
  {
   "cell_type": "markdown",
   "metadata": {},
   "source": [
    "## Whyfore art thou, Bechdel?\n",
    "### (AKA are we using the right methodology to answer our questions?)\n",
    "\n",
    "So now we know which movies are in for our study, and which are out. Next up: considering whether the Bechdel test is even a useful way to understand the representation of women in movies.\n",
    "\n",
    "I have my doubts, and maybe we can come up with a better metric later &mdash; but for now, the Bechdel test seems like the only game in town, so let's roll with it.\n",
    "\n",
    "Next question: how do we treat the Bechdel test? Because it's a three-part test, so you could easily imagine scoring it: zero points if there are one or zero women, one point if there are 2+ but they don't talk to each other, two points if they talk about a man, and three points for a full pass. I'll consider that in an appendix here. But I think it's more in line with the original purpose of the test to consider it as a hard pass/fail. That has another advantage: having only two (ordered) categories makes our analysis easier to undertake, interpret, and explain."
   ]
  },
  {
   "cell_type": "code",
   "execution_count": 5,
   "metadata": {
    "collapsed": false
   },
   "outputs": [
    {
     "data": {
      "text/html": [
       "<p>Created new variable with hard pass/fail Bechdel test results: <code>bechdel_passed</code>.</p>"
      ],
      "text/plain": [
       "<IPython.core.display.HTML object>"
      ]
     },
     "metadata": {},
     "output_type": "display_data"
    }
   ],
   "source": [
    "# Create a new variable called 'bechdel_passed': 1 for films that pass the test, 0 for films that fail.\n",
    "movies_df['bechdel_passed'] = np.where(movies_df['bechdel_rating'] == 3, 1, 0)\n",
    "display(HTML('<p>Created new variable with hard pass/fail Bechdel test results: <code>bechdel_passed</code>.</p>'))"
   ]
  },
  {
   "cell_type": "markdown",
   "metadata": {},
   "source": [
    "Which movies pass or fail the Bechdel test? As I said, I'm not entirely sure the Bechdel test is the right metric for measuring the representation of <a href='https://www.youtube.com/watch?v=KCjMZMxNr-0'>women in film</a>.\n",
    "\n",
    "Let's look at a few movies and apply some common sense check whether we think the Bechdel test is a legit way of looking at the representation of women (in stats lingo: testing for <em>face validity</em>). Run the code block below to see some movies that both fail and pass the Bechdel test. For both failures and passes, the code shows three randomly chosen movies followed by the five highest-grossing movies. They are displayed in a table. The last column of each table has a follow-able link to that movie's entry on the Bechdel test site, so you can see the text from the original submitter explaining why s/he scored that movie the way s/he did.\n",
    "\n",
    "Run the Code block below. Read the four lists of movies and ask yourself (to put it somewhat necessarily bluntly): Do I buy it?"
   ]
  },
  {
   "cell_type": "code",
   "execution_count": null,
   "metadata": {
    "collapsed": false,
    "scrolled": true
   },
   "outputs": [],
   "source": [
    "display(HTML('<h3>Movies that fail the Bechdel test</h3>'))\n",
    "\n",
    "display(HTML('<h4>Three randomly-chosen movies that fail the Bechdel test:</h4>'))\n",
    "random_failers = movies_df.dropna()[['title','bechdel_year','boxoffice_adj','bechdel_site_id']][movies_df['bechdel_passed'] == 0].sample(3).sort_values(['bechdel_year','title']).values.tolist()\n",
    "\n",
    "# Surely there is an easier way to print a pandas dataframe as a well-formatted table?\n",
    "#### Maybe by sending a dictionary of styles to .style.format()? Halp?\n",
    "#### But anyway, this kinda-hacky code does what needs doing.\n",
    "y = '<table>'\n",
    "y += '<tr>'\n",
    "y += '<th>Title</th>'\n",
    "y += '<th>Year</th>'\n",
    "y += '<th>Box office (Dec-2016 $)</th>'\n",
    "y += '<th>Link</th>'\n",
    "y += '</tr>'\n",
    "for row in random_failers:\n",
    "    link = 'http://www.bechdeltest.com/view/'+str(row[3])\n",
    "    link_str = '<a href=\\''+link+'\\' target=\"_blank\">'+link+'</a>'\n",
    "    y += '<tr>'\n",
    "    y += '<td>{:}</td>'.format(row[0])\n",
    "    y += '<td>{:.0f}</td>'.format(row[1])\n",
    "    y += '<td style=\"text-align:right\">${:,.0f}</td>'.format(row[2])\n",
    "    y += '<td>{:}</td>'.format(link_str)\n",
    "    y += '</tr>'\n",
    "y += '</table>'\n",
    "display(HTML(y))\n",
    "\n",
    "display(HTML('<h4>The five highest-grossing movies that fail the Bechdel test:</h2>'))\n",
    "highest_failers = movies_df[['title','bechdel_year','boxoffice_adj','bechdel_site_id']][movies_df['bechdel_passed'] == 0].sort_values('boxoffice_adj',ascending=False).head(5).values.tolist()\n",
    "\n",
    "y = '<table>'\n",
    "y += '<tr>'\n",
    "y += '<th>Title</th>'\n",
    "y += '<th>Year</th>'\n",
    "y += '<th>Box office (Dec-2016 $)</th>'\n",
    "y += '<th>Link</th>'\n",
    "y += '</tr>'\n",
    "for row in highest_failers:\n",
    "    link = 'http://www.bechdeltest.com/view/'+str(row[3])\n",
    "    link_str = '<a href=\\''+link+'\\' target=\"_blank\">'+link+'</a>'\n",
    "    y += '<tr>'\n",
    "    y += '<td>{:}</td>'.format(row[0])\n",
    "    y += '<td>{:.0f}</td>'.format(row[1])\n",
    "    y += '<td style=\"text-align:right\">${:,.0f}</td>'.format(row[2])\n",
    "    y += '<td>{:}</td>'.format(link_str)\n",
    "    y += '</tr>'\n",
    "y += '</table>'\n",
    "display(HTML(y))\n",
    "\n",
    "display(HTML('<h3>Movies that pass the Bechdel test</h3>'))\n",
    "\n",
    "display(HTML('<h4>Three randomly-chosen movies that pass the Bechdel test:</h4>'))\n",
    "random_passers = movies_df.dropna()[['title','bechdel_year','boxoffice_adj','bechdel_site_id']][movies_df['bechdel_passed'] == 1].sample(3).sort_values(['bechdel_year','title']).values.tolist()\n",
    "\n",
    "# Surely there is an easier way to print a pandas dataframe as a well-formatted table?\n",
    "#### Maybe by sending a dictionary of styles to .style.format()? Halp?\n",
    "#### But anyway, this kinda-hacky code does what needs doing.\n",
    "y = '<table>'\n",
    "y += '<tr>'\n",
    "y += '<th>Title</th>'\n",
    "y += '<th>Year</th>'\n",
    "y += '<th>Box office (Dec-2016 $)</th>'\n",
    "y += '<th>Link</th>'\n",
    "y += '</tr>'\n",
    "for row in random_passers:\n",
    "    link = 'http://www.bechdeltest.com/view/'+str(row[3])\n",
    "    link_str = '<a href=\\''+link+'\\' target=\"_blank\">'+link+'</a>'\n",
    "    y += '<tr>'\n",
    "    y += '<td>{:}</td>'.format(row[0])\n",
    "    y += '<td>{:.0f}</td>'.format(row[1])\n",
    "    y += '<td style=\"text-align:right\">${:,.0f}</td>'.format(row[2])\n",
    "    y += '<td>{:}</td>'.format(link_str)\n",
    "    y += '</tr>'\n",
    "y += '</table>'\n",
    "display(HTML(y))\n",
    "\n",
    "display(HTML('<h4>The five highest-grossing movies that pass the Bechdel test:</h2>'))\n",
    "highest_passers = movies_df[['title','bechdel_year','boxoffice_adj','bechdel_site_id']][movies_df['bechdel_passed'] == 1].sort_values('boxoffice_adj',ascending=False).head(5).values.tolist()\n",
    "\n",
    "y = '<table>'\n",
    "y += '<tr>'\n",
    "y += '<th>Title</th>'\n",
    "y += '<th>Year</th>'\n",
    "y += '<th>Box office (Dec-2016 $)</th>'\n",
    "y += '<th>Link</th>'\n",
    "y += '</tr>'\n",
    "for row in highest_passers:\n",
    "    link = 'http://www.bechdeltest.com/view/'+str(row[3])\n",
    "    link_str = '<a href=\\''+link+'\\' target=\"_blank\">'+link+'</a>'\n",
    "    y += '<tr>'\n",
    "    y += '<td>{:}</td>'.format(row[0])\n",
    "    y += '<td>{:.0f}</td>'.format(row[1])\n",
    "    y += '<td style=\"text-align:right\">${:,.0f}</td>'.format(row[2])\n",
    "    y += '<td>{:}</td>'.format(link_str)\n",
    "    y += '</tr>'\n",
    "y += '</table>'\n",
    "display(HTML(y))"
   ]
  },
  {
   "cell_type": "markdown",
   "metadata": {},
   "source": [
    "### Is the list of movies on bechdeltest.com representative of all movies?\n",
    "\n",
    "tl;dr: NO.\n",
    "\n",
    "If have a representative sample, then every movie in the population (all Hollywood movies) has an equal chance of appearing in the sample (the movies listed on bechdeltest.com). If not, then there is some factor or factors that make the movies on the list different from all movies overall. One possibility is that people who submit movies to bechdeltest.com are more likely to notice and submit movies that pass the Bechdel test, so that the percentage of passes in our dataset is greater than the percentage of passes in all movies. Or it could go the other way - people are more likely to notice and report movies that fail.\n",
    "\n",
    "Lots of people have wondered about the representativeness of movies on bechdeltest.com, but AFAIK no one has examined this question empirically. We can't either with the data we have now - but if we start with a complete list of movies from IMDb then join the bechdeltest.com list to it, we maybe can address this question. I'll address it ma&ntilde;ana.\n",
    "\n",
    "This is not a problem as long as we don't generalize beyond our scope. When we state our conclusions, we must be careful to restrict our statements to being about \"movies reported on bechdeltest.com\" and not just \"movies.\" Watch for that in the writeup."
   ]
  },
  {
   "cell_type": "code",
   "execution_count": 41,
   "metadata": {
    "collapsed": false
   },
   "outputs": [
    {
     "ename": "KeyError",
     "evalue": "'bechdel_passed'",
     "output_type": "error",
     "traceback": [
      "\u001b[1;31m\u001b[0m",
      "\u001b[1;31mKeyError\u001b[0mTraceback (most recent call last)",
      "\u001b[1;32m/home/idies/anaconda3/lib/python3.5/site-packages/pandas/core/indexes/base.py\u001b[0m in \u001b[0;36mget_loc\u001b[1;34m(self, key, method, tolerance)\u001b[0m\n\u001b[0;32m   2441\u001b[0m             \u001b[1;32mtry\u001b[0m\u001b[1;33m:\u001b[0m\u001b[1;33m\u001b[0m\u001b[0m\n\u001b[1;32m-> 2442\u001b[1;33m                 \u001b[1;32mreturn\u001b[0m \u001b[0mself\u001b[0m\u001b[1;33m.\u001b[0m\u001b[0m_engine\u001b[0m\u001b[1;33m.\u001b[0m\u001b[0mget_loc\u001b[0m\u001b[1;33m(\u001b[0m\u001b[0mkey\u001b[0m\u001b[1;33m)\u001b[0m\u001b[1;33m\u001b[0m\u001b[0m\n\u001b[0m\u001b[0;32m   2443\u001b[0m             \u001b[1;32mexcept\u001b[0m \u001b[0mKeyError\u001b[0m\u001b[1;33m:\u001b[0m\u001b[1;33m\u001b[0m\u001b[0m\n",
      "\u001b[1;32mpandas/_libs/index.pyx\u001b[0m in \u001b[0;36mpandas._libs.index.IndexEngine.get_loc (pandas/_libs/index.c:5280)\u001b[1;34m()\u001b[0m\n",
      "\u001b[1;32mpandas/_libs/index.pyx\u001b[0m in \u001b[0;36mpandas._libs.index.IndexEngine.get_loc (pandas/_libs/index.c:5126)\u001b[1;34m()\u001b[0m\n",
      "\u001b[1;32mpandas/_libs/hashtable_class_helper.pxi\u001b[0m in \u001b[0;36mpandas._libs.hashtable.PyObjectHashTable.get_item (pandas/_libs/hashtable.c:20523)\u001b[1;34m()\u001b[0m\n",
      "\u001b[1;32mpandas/_libs/hashtable_class_helper.pxi\u001b[0m in \u001b[0;36mpandas._libs.hashtable.PyObjectHashTable.get_item (pandas/_libs/hashtable.c:20477)\u001b[1;34m()\u001b[0m\n",
      "\u001b[1;31mKeyError\u001b[0m: 'bechdel_passed'",
      "\nDuring handling of the above exception, another exception occurred:\n",
      "\u001b[1;31mKeyError\u001b[0mTraceback (most recent call last)",
      "\u001b[1;32m<ipython-input-41-806d3073e726>\u001b[0m in \u001b[0;36m<module>\u001b[1;34m()\u001b[0m\n\u001b[1;32m----> 1\u001b[1;33m \u001b[0mprob\u001b[0m \u001b[1;33m=\u001b[0m \u001b[0mlen\u001b[0m\u001b[1;33m(\u001b[0m\u001b[0mmovies_df\u001b[0m\u001b[1;33m[\u001b[0m\u001b[0mmovies_df\u001b[0m\u001b[1;33m[\u001b[0m\u001b[1;34m'bechdel_passed'\u001b[0m\u001b[1;33m]\u001b[0m \u001b[1;33m==\u001b[0m \u001b[1;36m1\u001b[0m\u001b[1;33m]\u001b[0m\u001b[1;33m)\u001b[0m \u001b[1;33m/\u001b[0m \u001b[0mlen\u001b[0m\u001b[1;33m(\u001b[0m\u001b[0mmovies_df\u001b[0m\u001b[1;33m)\u001b[0m\u001b[1;33m\u001b[0m\u001b[0m\n\u001b[0m\u001b[0;32m      2\u001b[0m \u001b[1;31m#print(prob)\u001b[0m\u001b[1;33m\u001b[0m\u001b[1;33m\u001b[0m\u001b[0m\n\u001b[0;32m      3\u001b[0m \u001b[0mnp\u001b[0m\u001b[1;33m.\u001b[0m\u001b[0mrandom\u001b[0m\u001b[1;33m.\u001b[0m\u001b[0mseed\u001b[0m\u001b[1;33m(\u001b[0m\u001b[1;33m)\u001b[0m\u001b[1;33m\u001b[0m\u001b[0m\n\u001b[0;32m      4\u001b[0m \u001b[0mrandomseeder\u001b[0m \u001b[1;33m=\u001b[0m \u001b[0mnp\u001b[0m\u001b[1;33m.\u001b[0m\u001b[0mrandom\u001b[0m\u001b[1;33m.\u001b[0m\u001b[0mrandom\u001b[0m\u001b[1;33m(\u001b[0m\u001b[0mlen\u001b[0m\u001b[1;33m(\u001b[0m\u001b[0mmovies_df\u001b[0m\u001b[1;33m)\u001b[0m\u001b[1;33m)\u001b[0m\u001b[1;33m\u001b[0m\u001b[0m\n\u001b[0;32m      5\u001b[0m \u001b[0mrandomlist\u001b[0m \u001b[1;33m=\u001b[0m \u001b[0mnp\u001b[0m\u001b[1;33m.\u001b[0m\u001b[0mempty\u001b[0m\u001b[1;33m(\u001b[0m\u001b[0mlen\u001b[0m\u001b[1;33m(\u001b[0m\u001b[0mmovies_df\u001b[0m\u001b[1;33m)\u001b[0m\u001b[1;33m)\u001b[0m\u001b[1;33m\u001b[0m\u001b[0m\n",
      "\u001b[1;32m/home/idies/anaconda3/lib/python3.5/site-packages/pandas/core/frame.py\u001b[0m in \u001b[0;36m__getitem__\u001b[1;34m(self, key)\u001b[0m\n\u001b[0;32m   1962\u001b[0m             \u001b[1;32mreturn\u001b[0m \u001b[0mself\u001b[0m\u001b[1;33m.\u001b[0m\u001b[0m_getitem_multilevel\u001b[0m\u001b[1;33m(\u001b[0m\u001b[0mkey\u001b[0m\u001b[1;33m)\u001b[0m\u001b[1;33m\u001b[0m\u001b[0m\n\u001b[0;32m   1963\u001b[0m         \u001b[1;32melse\u001b[0m\u001b[1;33m:\u001b[0m\u001b[1;33m\u001b[0m\u001b[0m\n\u001b[1;32m-> 1964\u001b[1;33m             \u001b[1;32mreturn\u001b[0m \u001b[0mself\u001b[0m\u001b[1;33m.\u001b[0m\u001b[0m_getitem_column\u001b[0m\u001b[1;33m(\u001b[0m\u001b[0mkey\u001b[0m\u001b[1;33m)\u001b[0m\u001b[1;33m\u001b[0m\u001b[0m\n\u001b[0m\u001b[0;32m   1965\u001b[0m \u001b[1;33m\u001b[0m\u001b[0m\n\u001b[0;32m   1966\u001b[0m     \u001b[1;32mdef\u001b[0m \u001b[0m_getitem_column\u001b[0m\u001b[1;33m(\u001b[0m\u001b[0mself\u001b[0m\u001b[1;33m,\u001b[0m \u001b[0mkey\u001b[0m\u001b[1;33m)\u001b[0m\u001b[1;33m:\u001b[0m\u001b[1;33m\u001b[0m\u001b[0m\n",
      "\u001b[1;32m/home/idies/anaconda3/lib/python3.5/site-packages/pandas/core/frame.py\u001b[0m in \u001b[0;36m_getitem_column\u001b[1;34m(self, key)\u001b[0m\n\u001b[0;32m   1969\u001b[0m         \u001b[1;31m# get column\u001b[0m\u001b[1;33m\u001b[0m\u001b[1;33m\u001b[0m\u001b[0m\n\u001b[0;32m   1970\u001b[0m         \u001b[1;32mif\u001b[0m \u001b[0mself\u001b[0m\u001b[1;33m.\u001b[0m\u001b[0mcolumns\u001b[0m\u001b[1;33m.\u001b[0m\u001b[0mis_unique\u001b[0m\u001b[1;33m:\u001b[0m\u001b[1;33m\u001b[0m\u001b[0m\n\u001b[1;32m-> 1971\u001b[1;33m             \u001b[1;32mreturn\u001b[0m \u001b[0mself\u001b[0m\u001b[1;33m.\u001b[0m\u001b[0m_get_item_cache\u001b[0m\u001b[1;33m(\u001b[0m\u001b[0mkey\u001b[0m\u001b[1;33m)\u001b[0m\u001b[1;33m\u001b[0m\u001b[0m\n\u001b[0m\u001b[0;32m   1972\u001b[0m \u001b[1;33m\u001b[0m\u001b[0m\n\u001b[0;32m   1973\u001b[0m         \u001b[1;31m# duplicate columns & possible reduce dimensionality\u001b[0m\u001b[1;33m\u001b[0m\u001b[1;33m\u001b[0m\u001b[0m\n",
      "\u001b[1;32m/home/idies/anaconda3/lib/python3.5/site-packages/pandas/core/generic.py\u001b[0m in \u001b[0;36m_get_item_cache\u001b[1;34m(self, item)\u001b[0m\n\u001b[0;32m   1643\u001b[0m         \u001b[0mres\u001b[0m \u001b[1;33m=\u001b[0m \u001b[0mcache\u001b[0m\u001b[1;33m.\u001b[0m\u001b[0mget\u001b[0m\u001b[1;33m(\u001b[0m\u001b[0mitem\u001b[0m\u001b[1;33m)\u001b[0m\u001b[1;33m\u001b[0m\u001b[0m\n\u001b[0;32m   1644\u001b[0m         \u001b[1;32mif\u001b[0m \u001b[0mres\u001b[0m \u001b[1;32mis\u001b[0m \u001b[1;32mNone\u001b[0m\u001b[1;33m:\u001b[0m\u001b[1;33m\u001b[0m\u001b[0m\n\u001b[1;32m-> 1645\u001b[1;33m             \u001b[0mvalues\u001b[0m \u001b[1;33m=\u001b[0m \u001b[0mself\u001b[0m\u001b[1;33m.\u001b[0m\u001b[0m_data\u001b[0m\u001b[1;33m.\u001b[0m\u001b[0mget\u001b[0m\u001b[1;33m(\u001b[0m\u001b[0mitem\u001b[0m\u001b[1;33m)\u001b[0m\u001b[1;33m\u001b[0m\u001b[0m\n\u001b[0m\u001b[0;32m   1646\u001b[0m             \u001b[0mres\u001b[0m \u001b[1;33m=\u001b[0m \u001b[0mself\u001b[0m\u001b[1;33m.\u001b[0m\u001b[0m_box_item_values\u001b[0m\u001b[1;33m(\u001b[0m\u001b[0mitem\u001b[0m\u001b[1;33m,\u001b[0m \u001b[0mvalues\u001b[0m\u001b[1;33m)\u001b[0m\u001b[1;33m\u001b[0m\u001b[0m\n\u001b[0;32m   1647\u001b[0m             \u001b[0mcache\u001b[0m\u001b[1;33m[\u001b[0m\u001b[0mitem\u001b[0m\u001b[1;33m]\u001b[0m \u001b[1;33m=\u001b[0m \u001b[0mres\u001b[0m\u001b[1;33m\u001b[0m\u001b[0m\n",
      "\u001b[1;32m/home/idies/anaconda3/lib/python3.5/site-packages/pandas/core/internals.py\u001b[0m in \u001b[0;36mget\u001b[1;34m(self, item, fastpath)\u001b[0m\n\u001b[0;32m   3588\u001b[0m \u001b[1;33m\u001b[0m\u001b[0m\n\u001b[0;32m   3589\u001b[0m             \u001b[1;32mif\u001b[0m \u001b[1;32mnot\u001b[0m \u001b[0misnull\u001b[0m\u001b[1;33m(\u001b[0m\u001b[0mitem\u001b[0m\u001b[1;33m)\u001b[0m\u001b[1;33m:\u001b[0m\u001b[1;33m\u001b[0m\u001b[0m\n\u001b[1;32m-> 3590\u001b[1;33m                 \u001b[0mloc\u001b[0m \u001b[1;33m=\u001b[0m \u001b[0mself\u001b[0m\u001b[1;33m.\u001b[0m\u001b[0mitems\u001b[0m\u001b[1;33m.\u001b[0m\u001b[0mget_loc\u001b[0m\u001b[1;33m(\u001b[0m\u001b[0mitem\u001b[0m\u001b[1;33m)\u001b[0m\u001b[1;33m\u001b[0m\u001b[0m\n\u001b[0m\u001b[0;32m   3591\u001b[0m             \u001b[1;32melse\u001b[0m\u001b[1;33m:\u001b[0m\u001b[1;33m\u001b[0m\u001b[0m\n\u001b[0;32m   3592\u001b[0m                 \u001b[0mindexer\u001b[0m \u001b[1;33m=\u001b[0m \u001b[0mnp\u001b[0m\u001b[1;33m.\u001b[0m\u001b[0marange\u001b[0m\u001b[1;33m(\u001b[0m\u001b[0mlen\u001b[0m\u001b[1;33m(\u001b[0m\u001b[0mself\u001b[0m\u001b[1;33m.\u001b[0m\u001b[0mitems\u001b[0m\u001b[1;33m)\u001b[0m\u001b[1;33m)\u001b[0m\u001b[1;33m[\u001b[0m\u001b[0misnull\u001b[0m\u001b[1;33m(\u001b[0m\u001b[0mself\u001b[0m\u001b[1;33m.\u001b[0m\u001b[0mitems\u001b[0m\u001b[1;33m)\u001b[0m\u001b[1;33m]\u001b[0m\u001b[1;33m\u001b[0m\u001b[0m\n",
      "\u001b[1;32m/home/idies/anaconda3/lib/python3.5/site-packages/pandas/core/indexes/base.py\u001b[0m in \u001b[0;36mget_loc\u001b[1;34m(self, key, method, tolerance)\u001b[0m\n\u001b[0;32m   2442\u001b[0m                 \u001b[1;32mreturn\u001b[0m \u001b[0mself\u001b[0m\u001b[1;33m.\u001b[0m\u001b[0m_engine\u001b[0m\u001b[1;33m.\u001b[0m\u001b[0mget_loc\u001b[0m\u001b[1;33m(\u001b[0m\u001b[0mkey\u001b[0m\u001b[1;33m)\u001b[0m\u001b[1;33m\u001b[0m\u001b[0m\n\u001b[0;32m   2443\u001b[0m             \u001b[1;32mexcept\u001b[0m \u001b[0mKeyError\u001b[0m\u001b[1;33m:\u001b[0m\u001b[1;33m\u001b[0m\u001b[0m\n\u001b[1;32m-> 2444\u001b[1;33m                 \u001b[1;32mreturn\u001b[0m \u001b[0mself\u001b[0m\u001b[1;33m.\u001b[0m\u001b[0m_engine\u001b[0m\u001b[1;33m.\u001b[0m\u001b[0mget_loc\u001b[0m\u001b[1;33m(\u001b[0m\u001b[0mself\u001b[0m\u001b[1;33m.\u001b[0m\u001b[0m_maybe_cast_indexer\u001b[0m\u001b[1;33m(\u001b[0m\u001b[0mkey\u001b[0m\u001b[1;33m)\u001b[0m\u001b[1;33m)\u001b[0m\u001b[1;33m\u001b[0m\u001b[0m\n\u001b[0m\u001b[0;32m   2445\u001b[0m \u001b[1;33m\u001b[0m\u001b[0m\n\u001b[0;32m   2446\u001b[0m         \u001b[0mindexer\u001b[0m \u001b[1;33m=\u001b[0m \u001b[0mself\u001b[0m\u001b[1;33m.\u001b[0m\u001b[0mget_indexer\u001b[0m\u001b[1;33m(\u001b[0m\u001b[1;33m[\u001b[0m\u001b[0mkey\u001b[0m\u001b[1;33m]\u001b[0m\u001b[1;33m,\u001b[0m \u001b[0mmethod\u001b[0m\u001b[1;33m=\u001b[0m\u001b[0mmethod\u001b[0m\u001b[1;33m,\u001b[0m \u001b[0mtolerance\u001b[0m\u001b[1;33m=\u001b[0m\u001b[0mtolerance\u001b[0m\u001b[1;33m)\u001b[0m\u001b[1;33m\u001b[0m\u001b[0m\n",
      "\u001b[1;32mpandas/_libs/index.pyx\u001b[0m in \u001b[0;36mpandas._libs.index.IndexEngine.get_loc (pandas/_libs/index.c:5280)\u001b[1;34m()\u001b[0m\n",
      "\u001b[1;32mpandas/_libs/index.pyx\u001b[0m in \u001b[0;36mpandas._libs.index.IndexEngine.get_loc (pandas/_libs/index.c:5126)\u001b[1;34m()\u001b[0m\n",
      "\u001b[1;32mpandas/_libs/hashtable_class_helper.pxi\u001b[0m in \u001b[0;36mpandas._libs.hashtable.PyObjectHashTable.get_item (pandas/_libs/hashtable.c:20523)\u001b[1;34m()\u001b[0m\n",
      "\u001b[1;32mpandas/_libs/hashtable_class_helper.pxi\u001b[0m in \u001b[0;36mpandas._libs.hashtable.PyObjectHashTable.get_item (pandas/_libs/hashtable.c:20477)\u001b[1;34m()\u001b[0m\n",
      "\u001b[1;31mKeyError\u001b[0m: 'bechdel_passed'"
     ]
    }
   ],
   "source": [
    "prob = len(movies_df[movies_df['bechdel_passed'] == 1]) / len(movies_df)\n",
    "#print(prob)\n",
    "np.random.seed()\n",
    "randomseeder = np.random.random(len(movies_df))\n",
    "randomlist = np.empty(len(movies_df))\n",
    "for i in range(0,len(randomseeder)):\n",
    "    if (randomseeder[i] > prob):\n",
    "        randomlist[i] = 0\n",
    "    else:\n",
    "        randomlist[i] = 1\n",
    "movies_df['stupid_passed'] = randomlist\n",
    "print('Stupid test completed!')\n",
    "\n",
    "print(movies_df.groupby('bechdel_passed').size())\n",
    "print(movies_df.groupby('stupid_passed').size())\n",
    "#movies_df['stupid_passed']"
   ]
  },
  {
   "cell_type": "markdown",
   "metadata": {},
   "source": [
    "# Das Bechdel Test: Results\n",
    "\n",
    "Yay, now we are in a position to explore for results!\n",
    "\n",
    "## How many movies pass the Bechdel test?\n",
    "\n",
    "First-order question: what percentage of movies in our sample pass and fail the Bechdel test?"
   ]
  },
  {
   "cell_type": "code",
   "execution_count": 10,
   "metadata": {
    "collapsed": false
   },
   "outputs": [
    {
     "data": {
      "text/html": [
       "<h3>Bechel test pass/fail results for US-made  movies released since 1969 (n = 4,252)</h3>"
      ],
      "text/plain": [
       "<IPython.core.display.HTML object>"
      ]
     },
     "metadata": {},
     "output_type": "display_data"
    },
    {
     "data": {
      "text/html": [
       "<style  type=\"text/css\" >\n",
       "</style>  \n",
       "<table id=\"T_57ce4ebc_68d2_11e7_b3ab_0242ac110002\" > \n",
       "<thead>    <tr> \n",
       "        <th class=\"blank level0\" ></th> \n",
       "        <th class=\"col_heading level0 col0\" >result</th> \n",
       "        <th class=\"col_heading level0 col1\" >nMovies</th> \n",
       "        <th class=\"col_heading level0 col2\" >percentage</th> \n",
       "    </tr>    <tr> \n",
       "        <th class=\"index_name level0\" >bechdel_passed</th> \n",
       "        <th class=\"blank\" ></th> \n",
       "        <th class=\"blank\" ></th> \n",
       "        <th class=\"blank\" ></th> \n",
       "    </tr></thead> \n",
       "<tbody>    <tr> \n",
       "        <th id=\"T_57ce4ebc_68d2_11e7_b3ab_0242ac110002level0_row0\" class=\"row_heading level0 row0\" >0</th> \n",
       "        <td id=\"T_57ce4ebc_68d2_11e7_b3ab_0242ac110002row0_col0\" class=\"data row0 col0\" >Fail      </td> \n",
       "        <td id=\"T_57ce4ebc_68d2_11e7_b3ab_0242ac110002row0_col1\" class=\"data row0 col1\" >1,745</td> \n",
       "        <td id=\"T_57ce4ebc_68d2_11e7_b3ab_0242ac110002row0_col2\" class=\"data row0 col2\" >41%</td> \n",
       "    </tr>    <tr> \n",
       "        <th id=\"T_57ce4ebc_68d2_11e7_b3ab_0242ac110002level0_row1\" class=\"row_heading level0 row1\" >1</th> \n",
       "        <td id=\"T_57ce4ebc_68d2_11e7_b3ab_0242ac110002row1_col0\" class=\"data row1 col0\" >Pass      </td> \n",
       "        <td id=\"T_57ce4ebc_68d2_11e7_b3ab_0242ac110002row1_col1\" class=\"data row1 col1\" >2,507</td> \n",
       "        <td id=\"T_57ce4ebc_68d2_11e7_b3ab_0242ac110002row1_col2\" class=\"data row1 col2\" >59%</td> \n",
       "    </tr></tbody> \n",
       "</table> "
      ],
      "text/plain": [
       "<pandas.io.formats.style.Styler at 0x7fac2c1dec18>"
      ]
     },
     "execution_count": 10,
     "metadata": {},
     "output_type": "execute_result"
    }
   ],
   "source": [
    "hollywood_string = ''\n",
    "if (int(movies_df['usa'][movies_df['usa'] == 0].size) == 0):\n",
    "    hollywood_string = 'US-made '\n",
    "display(HTML('<h3>Bechel test pass/fail results for {0:} movies released since {1:.0f} (n = {2:,.0f})</h3>'.format(hollywood_string,firstyear,len(movies_df))))\n",
    "bechdel_result_table = pd.DataFrame()\n",
    "bechdel_result_table['nMovies'] = movies_df.groupby('bechdel_passed').size()\n",
    "bechdel_result_table['result'] = ''\n",
    "bechdel_result_table['result'] = np.where(bechdel_result_table.index == 0, 'Fail',bechdel_result_table['result'])\n",
    "bechdel_result_table['result'] = np.where(bechdel_result_table.index == 1, 'Pass',bechdel_result_table['result'])\n",
    "bechdel_result_table['percentage'] = 100 * (bechdel_result_table['nMovies'] / len(movies_df))\n",
    "\n",
    "# I made this table again but only with movies that have profit data - percentages are identical: 41% fail, 59% pass\n",
    "#bechdel_result_table['nMovies'] = movies_df[~pd.isnull(movies_df['profit_adj'])].groupby('bechdel_rating').size()\n",
    "\n",
    "bechdel_result_table[['result','nMovies','percentage']].style.format({'result': '{:10}', 'nMovies': '{:,.0f}', 'percentage': '{0:.0f}%'})"
   ]
  },
  {
   "cell_type": "code",
   "execution_count": 11,
   "metadata": {
    "collapsed": false
   },
   "outputs": [
    {
     "data": {
      "text/html": [
       "<h3>Stupid test pass/fail results for US-made  movies released since 1969 (n = 4,252)</h3>"
      ],
      "text/plain": [
       "<IPython.core.display.HTML object>"
      ]
     },
     "metadata": {},
     "output_type": "display_data"
    },
    {
     "data": {
      "text/html": [
       "<style  type=\"text/css\" >\n",
       "</style>  \n",
       "<table id=\"T_58fcb850_68d2_11e7_b3ab_0242ac110002\" > \n",
       "<thead>    <tr> \n",
       "        <th class=\"blank level0\" ></th> \n",
       "        <th class=\"col_heading level0 col0\" >result</th> \n",
       "        <th class=\"col_heading level0 col1\" >nMovies</th> \n",
       "        <th class=\"col_heading level0 col2\" >percentage</th> \n",
       "    </tr>    <tr> \n",
       "        <th class=\"index_name level0\" >stupid_passed</th> \n",
       "        <th class=\"blank\" ></th> \n",
       "        <th class=\"blank\" ></th> \n",
       "        <th class=\"blank\" ></th> \n",
       "    </tr></thead> \n",
       "<tbody>    <tr> \n",
       "        <th id=\"T_58fcb850_68d2_11e7_b3ab_0242ac110002level0_row0\" class=\"row_heading level0 row0\" >0.0</th> \n",
       "        <td id=\"T_58fcb850_68d2_11e7_b3ab_0242ac110002row0_col0\" class=\"data row0 col0\" >Fail      </td> \n",
       "        <td id=\"T_58fcb850_68d2_11e7_b3ab_0242ac110002row0_col1\" class=\"data row0 col1\" >1,789</td> \n",
       "        <td id=\"T_58fcb850_68d2_11e7_b3ab_0242ac110002row0_col2\" class=\"data row0 col2\" >41%</td> \n",
       "    </tr>    <tr> \n",
       "        <th id=\"T_58fcb850_68d2_11e7_b3ab_0242ac110002level0_row1\" class=\"row_heading level0 row1\" >1.0</th> \n",
       "        <td id=\"T_58fcb850_68d2_11e7_b3ab_0242ac110002row1_col0\" class=\"data row1 col0\" >Pass      </td> \n",
       "        <td id=\"T_58fcb850_68d2_11e7_b3ab_0242ac110002row1_col1\" class=\"data row1 col1\" >2,463</td> \n",
       "        <td id=\"T_58fcb850_68d2_11e7_b3ab_0242ac110002row1_col2\" class=\"data row1 col2\" >59%</td> \n",
       "    </tr></tbody> \n",
       "</table> "
      ],
      "text/plain": [
       "<pandas.io.formats.style.Styler at 0x7fac2c1e8198>"
      ]
     },
     "execution_count": 11,
     "metadata": {},
     "output_type": "execute_result"
    }
   ],
   "source": [
    "display(HTML('<h3>Stupid test pass/fail results for {0:} movies released since {1:.0f} (n = {2:,.0f})</h3>'.format(hollywood_string,firstyear,len(movies_df))))\n",
    "stupid_result_table = pd.DataFrame()\n",
    "stupid_result_table['nMovies'] = movies_df.groupby('stupid_passed').size()\n",
    "stupid_result_table['result'] = ''\n",
    "stupid_result_table['result'] = np.where(bechdel_result_table.index == 0, 'Fail',bechdel_result_table['result'])\n",
    "stupid_result_table['result'] = np.where(bechdel_result_table.index == 1, 'Pass',bechdel_result_table['result'])\n",
    "stupid_result_table['percentage'] = 100 * (bechdel_result_table['nMovies'] / len(movies_df))\n",
    "\n",
    "# I made this table again but only with movies that have profit data - percentages are identical: 41% fail, 59% pass\n",
    "#bechdel_result_table['nMovies'] = movies_df[~pd.isnull(movies_df['profit_adj'])].groupby('bechdel_rating').size()\n",
    "\n",
    "stupid_result_table[['result','nMovies','percentage']].style.format({'result': '{:10}', 'nMovies': '{:,.0f}', 'percentage': '{0:.0f}%'})"
   ]
  },
  {
   "cell_type": "markdown",
   "metadata": {},
   "source": [
    "## Bechdel test results over time\n",
    "\n",
    "Now, we're getting to The Interesting Part (note Winnie-the-Pooh Capitals). Have the results changed over time? If we accept that the Bechdel test is an accurate measure of the representation of women in movies (maybe it isn't, but it's the only game in town for quantiative research into this question), then this is a way of asking: has Hollywood's depiction of women in movies changed over the years? Of course, this change could be positive or negative, but we would hope and expect Bechdel test scores to increase with time.\n",
    "\n",
    "Since the Bechdel test for us is a pass/fail (fail = 0, pass = 1), then asking what is the average score in a given year is the same as asking what percentage of films pass the test in that year. That's what the blue line in the graph below shows. The x-axis shows the year and the y-axis shows the percentage of US-made films released in that year that pass the Bechdel test. Error bars are standard error of the mean (stdev/n); note that they are larger in earlier years, when there are fewer movies in the dataset. The red line is explained below the graph."
   ]
  },
  {
   "cell_type": "code",
   "execution_count": null,
   "metadata": {
    "collapsed": false
   },
   "outputs": [],
   "source": [
    "#firstyear = 1969 # first year after the Hays code ended\n",
    "lastyear = 2017 # last full year in dataset\n",
    "avg_bechdel = movies_df.groupby('bechdel_year')['bechdel_passed'].agg(np.mean)\n",
    "avg_bechdel.index.name = 'date'\n",
    "avg_bechdel.name = 'bechdel'\n",
    "avg_bechdel = avg_bechdel[(avg_bechdel.index >= firstyear) & (avg_bechdel.index <= lastyear)]\n",
    "avg_bechdel = avg_bechdel.reset_index()\n",
    "#avg_bechdel\n",
    "\n",
    "stdevm_bechdel = movies_df.groupby('bechdel_year')['bechdel_passed'].agg(np.std) / movies_df.groupby('bechdel_year')['bechdel_passed'].size()\n",
    "stdevm_bechdel.index.name = 'date'\n",
    "stdevm_bechdel.name = 'bechdel'\n",
    "stdevm_bechdel = stdevm_bechdel[(stdevm_bechdel.index >= firstyear) & (stdevm_bechdel.index <= lastyear)]\n",
    "stdevm_bechdel = stdevm_bechdel.reset_index()\n",
    "\n",
    "# multiply both by 100 to express as percentage\n",
    "avg_bechdel['bechdel'] = avg_bechdel['bechdel'] * 100\n",
    "stdevm_bechdel['bechdel'] = stdevm_bechdel['bechdel'] * 100\n",
    "\n",
    "[slope_b,intercept_b,rvalue_b,pvalue_b,stderr_b] = linregress(avg_bechdel['date'],avg_bechdel['bechdel'])\n",
    "#print(slope,intercept,rvalue)\n",
    "r_squared_b = rvalue_b ** 2\n",
    "\n",
    "predicted_b = pd.DataFrame({\"date\": np.linspace(start=1969.,stop=2969.,num=1001)})\n",
    "predicted_b['bechdel'] = slope_b*predicted_b['date'] + intercept_b\n",
    "\n",
    "# Plot the observed data\n",
    "fig = plt.figure(figsize=(8,4))\n",
    "\n",
    "ax = plt.errorbar(avg_bechdel['date'],avg_bechdel['bechdel'],yerr=stdevm_bechdel['bechdel'],c='b',label='Observed')\n",
    "# Plot the predictions from the model\n",
    "plt.plot(predicted_b['date'],predicted_b['bechdel'],c='r',label='Linear model',lw=3)\n",
    "plt.legend(loc='lower right',fontsize=12)\n",
    "plt.ylim((0,100))\n",
    "plt.xlim((1969,2017))\n",
    "plt.xlabel('Year',fontsize=14)\n",
    "plt.ylabel('Percent of movies that\\npass the Bechdel test',fontsize=14)\n",
    "plt.tick_params(axis='both',labelsize=12)\n",
    "\n",
    "fig.show()\n",
    "\n",
    "print('Each year since {0:.0f}, an additional {1:.2f}% of movies have passed the Bechdel test (r^2 = {2:.2f}, p = {3:.7f}).'.format(firstyear, slope_b, r_squared_b, pvalue_b))\n"
   ]
  },
  {
   "cell_type": "code",
   "execution_count": null,
   "metadata": {
    "collapsed": false
   },
   "outputs": [],
   "source": [
    "\n",
    "\n",
    "\n",
    "avg_stupid = movies_df.groupby('bechdel_year')['stupid_passed'].agg(np.mean)\n",
    "avg_stupid.index.name = 'date'\n",
    "avg_stupid.name = 'stupid'\n",
    "avg_stupid = avg_stupid[(avg_stupid.index >= firstyear) & (avg_stupid.index <= lastyear)]\n",
    "avg_stupid = avg_stupid.reset_index()\n",
    "#avg_bechdel\n",
    "\n",
    "stdevm_stupid = movies_df.groupby('bechdel_year')['stupid_passed'].agg(np.std) / movies_df.groupby('bechdel_year')['stupid_passed'].size()\n",
    "stdevm_stupid.index.name = 'date'\n",
    "stdevm_stupid.name = 'stupid'\n",
    "stdevm_stupid = stdevm_stupid[(stdevm_stupid.index >= firstyear) & (stdevm_stupid.index <= lastyear)]\n",
    "stdevm_stupid = stdevm_stupid.reset_index()\n",
    "\n",
    "# multiply both by 100 to express as percentage\n",
    "avg_stupid['stupid'] = avg_stupid['stupid'] * 100\n",
    "stdevm_stupid['stupid'] = stdevm_stupid['stupid'] * 100\n",
    "\n",
    "[slope_s,intercept_s,rvalue_s,pvalue_s,stderr_s] = linregress(avg_stupid['date'],avg_stupid['stupid'])\n",
    "#print(slope,intercept,rvalue)\n",
    "r_squared_s = rvalue_s ** 2\n",
    "\n",
    "predicted_s = pd.DataFrame({\"date\": np.linspace(start=1969.,stop=2969.,num=1001)})\n",
    "predicted_s['stupid'] = slope_s*predicted_s['date'] + intercept_s\n",
    "\n",
    "\n",
    "# Plot the observed data\n",
    "fig = plt.figure(figsize=(8,4))\n",
    "\n",
    "ax = plt.errorbar(avg_stupid['date'],avg_stupid['stupid'],yerr=stdevm_stupid['stupid'],c='b',label='Observed')\n",
    "# Plot the predictions from the model\n",
    "plt.plot(predicted_s['date'],predicted_s['stupid'],c='r',label='Linear model',lw=3)\n",
    "plt.legend(loc='lower right',fontsize=12)\n",
    "plt.ylim((0,100))\n",
    "plt.xlim((1969,2017))\n",
    "plt.xlabel('Year',fontsize=14)\n",
    "plt.ylabel('Percent of movies that\\npass the Stupid test',fontsize=14)\n",
    "plt.tick_params(axis='both',labelsize=12)\n",
    "\n",
    "fig.show()\n",
    "\n",
    "print('Each year since {0:.0f}, an additional {1:.2f}% of movies have passed the Stupid test (r^2 = {2:.2f}, p = {3:.3f}).'.format(firstyear, slope_s, r_squared_s, pvalue_s))\n"
   ]
  },
  {
   "cell_type": "markdown",
   "metadata": {},
   "source": [
    "The red line is a best-fit statistical model assuming that Bechdel teset scores change linearly with time.\n",
    "\n",
    "The model is described in words below the graph. Each year from 1969 to 2017, an additional 0.49% of movies pass the test. The numbers in parentheses are measures of the degree to which the simple model matches the real-life data. The most important number is r<sup>2</sup>, which varies from 0 to 1. The standards for what r<sup>2</sup> value are \"good enough\" to draw conclusions vary by field and are up to the writer to propose and the reader to evaluate. In this research, r<sup>2</sup> = 0.46 probably counts as a weak effect. It's not compelling, but it's suggestive that Bechdel test scores probably are increasing slowly over time."
   ]
  },
  {
   "cell_type": "markdown",
   "metadata": {},
   "source": [
    "## Bechdel results and budgets\n",
    "\n",
    "The next question - again, one that both fivethirtyeight and Keegan have looked at - is whether there is any relationship between a film's budget and its Bechdel test results. To do that, let's divide our data into two groups: those that fail the Bechdel test and those that pass. Then let's make a histogram that shows how many small-budget vs. big-budget movies are in each category. We don't make any assumptions about what a \"small\" or \"big budget\" is, let's just look at the data."
   ]
  },
  {
   "cell_type": "code",
   "execution_count": null,
   "metadata": {
    "collapsed": false
   },
   "outputs": [],
   "source": [
    "display(HTML('<h3>Budgets of {0:} movies released since {1:.0f} that pass or fail the Bechdel test (n = {2:,.0f})</h3>'.format(hollywood_string,firstyear,len(movies_df))))\n",
    "\n",
    "\n",
    "#x = movies_df['bechdel_passed'].apply(lambda x:float(x)+np.random.normal(0, 0.05))\n",
    "#y = movies_df['budget_adj']\n",
    "bechdel_failer_budgets = movies_df.dropna()['budget_adj'][movies_df['bechdel_passed'] == 0]\n",
    "bechdel_passer_budgets = movies_df.dropna()['budget_adj'][movies_df['bechdel_passed'] == 1]\n",
    "#plt.hist(failer_budgets,bins=30)\n",
    "\n",
    "# Calculate best bin widths by Freedman-Draconis rule.\n",
    "#The bin-width is set to h = 2 * IQR * n^(−1/3).\n",
    "#So the number of bins is (max−min)/h.\n",
    "\n",
    "bechdel_fail_n = len(bechdel_failer_budgets)\n",
    "bechdel_fail_iqr = scipy.stats.iqr(bechdel_failer_budgets)\n",
    "bechdel_fail_binwidth = 2 * bechdel_fail_iqr * (bechdel_fail_n ** (-1/3))\n",
    "bechdel_fail_bins = (np.max(bechdel_failer_budgets) - np.min(bechdel_failer_budgets)) / bechdel_fail_binwidth\n",
    "\n",
    "bechdel_pass_n = len(bechdel_passer_budgets)\n",
    "bechdel_pass_iqr = scipy.stats.iqr(bechdel_passer_budgets)\n",
    "bechdel_pass_binwidth = 2 * bechdel_pass_iqr * (bechdel_pass_n ** (-1/3))\n",
    "bechdel_pass_bins = (np.max(bechdel_passer_budgets) - np.min(bechdel_passer_budgets)) / bechdel_pass_binwidth\n",
    "\n",
    "bechdel_nbins = int(np.round(np.mean([bechdel_fail_bins,bechdel_pass_bins]),0))\n",
    "#print(nbins)\n",
    "\n",
    "fig = plt.figure(figsize=(12,12))\n",
    "\n",
    "ax1 = fig.add_subplot(221)\n",
    "ax1.hist(bechdel_failer_budgets,bins=bechdel_nbins,range=(0,500000000))\n",
    "plt.ylim([0,300])\n",
    "plt.xlabel('Budget (Dec-2016$)')\n",
    "plt.ylabel('Number of movies')\n",
    "plt.title('Fail')\n",
    "\n",
    "ax2 = fig.add_subplot(222)\n",
    "ax2.hist(bechdel_passer_budgets,bins=bechdel_nbins,range=(0,500000000))\n",
    "plt.ylim([0,300])\n",
    "plt.xlabel('Budget (million Dec-2016$)')\n",
    "plt.ylabel('Number of movies')\n",
    "plt.title('Pass')\n",
    "\n",
    "fig.show()\n"
   ]
  },
  {
   "cell_type": "markdown",
   "metadata": {},
   "source": [
    "When faced with data that covers such a wide range, sometimes it helps to plot the data on a logarithmic scale:"
   ]
  },
  {
   "cell_type": "code",
   "execution_count": null,
   "metadata": {
    "collapsed": false
   },
   "outputs": [],
   "source": [
    "fig = plt.figure(figsize=(12,12))\n",
    "\n",
    "bechdel_failer_budgets_logged = np.log10(bechdel_failer_budgets)\n",
    "bechdel_passer_budgets_logged = np.log10(bechdel_passer_budgets)\n",
    "\n",
    "bechdel_faillog_n = len(bechdel_failer_budgets_logged)\n",
    "bechdel_faillog_iqr = scipy.stats.iqr(bechdel_failer_budgets_logged)\n",
    "bechdel_faillog_binwidth = 2 * bechdel_faillog_iqr * (bechdel_faillog_n ** (-1/3))\n",
    "bechdel_faillog_bins = (np.max(bechdel_failer_budgets_logged) - np.min(bechdel_failer_budgets_logged)) / bechdel_faillog_binwidth\n",
    "\n",
    "bechdel_passlog_n = len(bechdel_passer_budgets_logged)\n",
    "bechdel_passlog_iqr = scipy.stats.iqr(bechdel_passer_budgets_logged)\n",
    "bechdel_passlog_binwidth = 2 * bechdel_passlog_iqr * (bechdel_passlog_n ** (-1/3))\n",
    "bechdel_passlog_bins = (np.max(bechdel_passer_budgets_logged) - np.min(bechdel_passer_budgets_logged)) / bechdel_faillog_binwidth\n",
    "\n",
    "bechdel_log_nbins = int(np.round(np.mean([bechdel_faillog_bins,bechdel_passlog_bins]),0))\n",
    "\n",
    "ax1 = fig.add_subplot(221)\n",
    "ax1.hist(bechdel_failer_budgets_logged,bins=bechdel_log_nbins)#,range=(0.1,9))\n",
    "plt.xlim([4,9])\n",
    "plt.ylim([0,100])\n",
    "plt.xlabel('Budget (Dec-2016$): LOG SCALE')\n",
    "plt.ylabel('Number of movies')\n",
    "plt.title('Fail')\n",
    "\n",
    "ax2 = fig.add_subplot(222)\n",
    "ax2.hist(bechdel_passer_budgets_logged,bins=bechdel_log_nbins)#,range=(0,500000000))\n",
    "plt.xlim([4,9])\n",
    "plt.ylim([0,100])\n",
    "plt.xlabel('Budget (million Dec-2016$): LOG SCALE')\n",
    "plt.ylabel('Number of movies')\n",
    "plt.title('Pass')\n",
    "\n",
    "fig.show()"
   ]
  },
  {
   "cell_type": "markdown",
   "metadata": {},
   "source": [
    "The log-scale graph helps us see that there is definitely some difference in budgets between the two groups, although it's hard to tell at a glance what that difference is.\n",
    "\n",
    "The best way to test for differences in data with such wide variation is to look for differences in the median. Finding the median budget in each group means let's line up all the budget values from lowest to highest and picking the one in the middle.\n",
    "\n",
    "What are the median budgets of movies that fail and pass the Bechdel test? Which value is higher, and by how much?"
   ]
  },
  {
   "cell_type": "code",
   "execution_count": null,
   "metadata": {
    "collapsed": false
   },
   "outputs": [],
   "source": [
    "bechdel_failer_n = len(bechdel_failer_budgets)\n",
    "bechdel_passer_n = len(bechdel_passer_budgets)\n",
    "\n",
    "bechdel_failer_median_budget = bechdel_failer_budgets.agg(np.median)\n",
    "bechdel_passer_median_budget = bechdel_passer_budgets.agg(np.median)\n",
    "\n",
    "print('Movies that fail the Bechdel test have a median budget of ${0:,.0f} (n={1:.0f}).'.format(bechdel_failer_median_budget, bechdel_failer_n))\n",
    "print('Movies that pass the Bechdel test have a median budget of ${0:,.0f} (n={1:.0f}).'.format(bechdel_passer_median_budget, bechdel_passer_n))\n",
    "\n",
    "bechdel_median_difference = bechdel_passer_median_budget - bechdel_failer_median_budget\n",
    "bechdel_direction_string = '<b>'\n",
    "if (bechdel_median_difference < 0):\n",
    "    bechdel_direction_string += 'lower than'\n",
    "elif (bechdel_median_difference > 0):\n",
    "    bechdel_direction_string += 'higher than'\n",
    "else:\n",
    "    bechdel_direction_string += 'equal to'\n",
    "bechdel_direction_string += '</b>'\n",
    "bechdel_median_difference = abs(bechdel_median_difference)\n",
    "\n",
    "display(HTML('<p>Movies that pass the Bechdel test have a median budget ${0:,.0f} {1:} those that fail.</p>.'.format(bechdel_median_difference,bechdel_direction_string)))"
   ]
  },
  {
   "cell_type": "markdown",
   "metadata": {},
   "source": [
    "Is that difference in median budget statistically significant? That question calls for a Mann-Whitney U test."
   ]
  },
  {
   "cell_type": "code",
   "execution_count": null,
   "metadata": {
    "collapsed": false
   },
   "outputs": [],
   "source": [
    "display(HTML('<p>Is the difference in median budgets statistically significant?</p>'))\n",
    "[ustat, pvalue] = scipy.stats.mannwhitneyu(bechdel_failer_budgets, bechdel_passer_budgets, use_continuity=True, alternative='two-sided')\n",
    "\n",
    "if (pvalue < .05):\n",
    "    print('YES')\n",
    "else:\n",
    "    print('NO')\n",
    "\n",
    "print('p-value: ',pvalue)\n",
    "\n",
    "bechdel_pbc = scipy.stats.pointbiserialr(movies_df.dropna()['bechdel_passed'],movies_df.dropna()['budget'])[0]\n",
    "if (bechdel_pbc > 0):\n",
    "    bechdel_sign = 'higher'\n",
    "elif (bechdel_pbc < 0):\n",
    "    bechdel_sign = 'lower'\n",
    "else:\n",
    "    bechdel_sign = 'equal'\n",
    "print('\\n')\n",
    "print('Effect size: Passing the Bechdel test is weakly associated with {0:} budgets (r_pb = {1:.2f}).'.format(bechdel_sign, bechdel_pbc))"
   ]
  },
  {
   "cell_type": "markdown",
   "metadata": {},
   "source": [
    "## Stupid results and budgets\n",
    "\n",
    "The next question - again, one that both fivethirtyeight and Keegan have looked at - is whether there is any relationship between a film's budget and its Bechdel test results. To do that, let's divide our data into two groups: those that fail the Bechdel test and those that pass. Then let's make a histogram that shows how many small-budget vs. big-budget movies are in each category. We don't make any assumptions about what a \"small\" or \"big budget\" is, let's just look at the data."
   ]
  },
  {
   "cell_type": "code",
   "execution_count": 13,
   "metadata": {
    "collapsed": false
   },
   "outputs": [
    {
     "data": {
      "text/html": [
       "<h3>Budgets of US-made  movies released since 1969 that pass or fail the Stupid test (n = 4,252)</h3>"
      ],
      "text/plain": [
       "<IPython.core.display.HTML object>"
      ]
     },
     "metadata": {},
     "output_type": "display_data"
    },
    {
     "data": {
      "image/png": "[encoded data removed]",
      "text/plain": [
       "<matplotlib.figure.Figure at 0x7fac31391d68>"
      ]
     },
     "metadata": {},
     "output_type": "display_data"
    }
   ],
   "source": [
    "display(HTML('<h3>Budgets of {0:} movies released since {1:.0f} that pass or fail the Stupid test (n = {2:,.0f})</h3>'.format(hollywood_string,firstyear,len(movies_df))))\n",
    "\n",
    "#x = movies_df['bechdel_passed'].apply(lambda x:float(x)+np.random.normal(0, 0.05))\n",
    "#y = movies_df['budget_adj']\n",
    "stupid_failer_budgets = movies_df.dropna()['budget_adj'][movies_df['stupid_passed'] == 0]\n",
    "stupid_passer_budgets = movies_df.dropna()['budget_adj'][movies_df['stupid_passed'] == 1]\n",
    "#plt.hist(failer_budgets,bins=30)\n",
    "\n",
    "# Calculate best bin widths by Freedman-Draconis rule.\n",
    "#The bin-width is set to h = 2 * IQR * n^(−1/3).\n",
    "#So the number of bins is (max−min)/h.\n",
    "\n",
    "stupid_fail_n = len(stupid_failer_budgets)\n",
    "stupid_fail_iqr = scipy.stats.iqr(stupid_failer_budgets)\n",
    "stupid_fail_binwidth = 2 * stupid_fail_iqr * (stupid_fail_n ** (-1/3))\n",
    "stupid_fail_bins = (np.max(stupid_failer_budgets) - np.min(stupid_failer_budgets)) / stupid_fail_binwidth\n",
    "\n",
    "stupid_pass_n = len(stupid_passer_budgets)\n",
    "stupid_pass_iqr = scipy.stats.iqr(stupid_passer_budgets)\n",
    "stupid_pass_binwidth = 2 * stupid_pass_iqr * (stupid_pass_n ** (-1/3))\n",
    "stupid_pass_bins = (np.max(stupid_passer_budgets) - np.min(stupid_passer_budgets)) / stupid_pass_binwidth\n",
    "\n",
    "stupid_nbins = int(np.round(np.mean([stupid_fail_bins,stupid_pass_bins]),0))\n",
    "#print(nbins)\n",
    "\n",
    "fig = plt.figure(figsize=(12,12))\n",
    "\n",
    "ax1 = fig.add_subplot(221)\n",
    "ax1.hist(stupid_failer_budgets,bins=stupid_nbins,range=(0,500000000))\n",
    "plt.ylim([0,300])\n",
    "plt.xlabel('Budget (Dec-2016$)')\n",
    "plt.ylabel('Number of movies')\n",
    "plt.title('Fail')\n",
    "\n",
    "ax2 = fig.add_subplot(222)\n",
    "ax2.hist(stupid_passer_budgets,bins=stupid_nbins,range=(0,500000000))\n",
    "plt.ylim([0,300])\n",
    "plt.xlabel('Budget (million Dec-2016$)')\n",
    "plt.ylabel('Number of movies')\n",
    "plt.title('Pass')\n",
    "\n",
    "fig.show()\n"
   ]
  },
  {
   "cell_type": "markdown",
   "metadata": {},
   "source": [
    "When faced with data that covers such a wide range, sometimes it helps to plot the data on a logarithmic scale:"
   ]
  },
  {
   "cell_type": "code",
   "execution_count": 14,
   "metadata": {
    "collapsed": false
   },
   "outputs": [
    {
     "data": {
      "image/png": "[encoded data removed]",
      "text/plain": [
       "<matplotlib.figure.Figure at 0x7fac2c7f2f60>"
      ]
     },
     "metadata": {},
     "output_type": "display_data"
    }
   ],
   "source": [
    "fig = plt.figure(figsize=(12,12))\n",
    "\n",
    "stupid_failer_budgets_logged = np.log10(stupid_failer_budgets)\n",
    "stupid_passer_budgets_logged = np.log10(stupid_passer_budgets)\n",
    "\n",
    "stupid_faillog_n = len(stupid_failer_budgets_logged)\n",
    "stupid_faillog_iqr = scipy.stats.iqr(stupid_failer_budgets_logged)\n",
    "stupid_faillog_binwidth = 2 * stupid_faillog_iqr * (stupid_faillog_n ** (-1/3))\n",
    "stupid_faillog_bins = (np.max(stupid_failer_budgets_logged) - np.min(stupid_failer_budgets_logged)) / stupid_faillog_binwidth\n",
    "\n",
    "stupid_passlog_n = len(stupid_passer_budgets_logged)\n",
    "stupid_passlog_iqr = scipy.stats.iqr(stupid_passer_budgets_logged)\n",
    "stupid_passlog_binwidth = 2 * stupid_passlog_iqr * (stupid_passlog_n ** (-1/3))\n",
    "stupid_passlog_bins = (np.max(stupid_passer_budgets_logged) - np.min(stupid_passer_budgets_logged)) / stupid_faillog_binwidth\n",
    "\n",
    "stupid_log_nbins = int(np.round(np.mean([stupid_faillog_bins,stupid_passlog_bins]),0))\n",
    "\n",
    "ax1 = fig.add_subplot(221)\n",
    "ax1.hist(stupid_failer_budgets_logged,bins=stupid_log_nbins)#,range=(0.1,9))\n",
    "plt.xlim([4,9])\n",
    "plt.ylim([0,100])\n",
    "plt.xlabel('Budget (Dec-2016$): LOG SCALE')\n",
    "plt.ylabel('Number of movies')\n",
    "plt.title('Fail')\n",
    "\n",
    "ax2 = fig.add_subplot(222)\n",
    "ax2.hist(stupid_passer_budgets_logged,bins=stupid_log_nbins)#,range=(0,500000000))\n",
    "plt.xlim([4,9])\n",
    "plt.ylim([0,100])\n",
    "plt.xlabel('Budget (million Dec-2016$): LOG SCALE')\n",
    "plt.ylabel('Number of movies')\n",
    "plt.title('Pass')\n",
    "\n",
    "fig.show()"
   ]
  },
  {
   "cell_type": "markdown",
   "metadata": {},
   "source": [
    "The log-scale graph helps us see that there is definitely some difference in budgets between the two groups, although it's hard to tell at a glance what that difference is.\n",
    "\n",
    "The best way to test for differences in data with such wide variation is to look for differences in the median. Finding the median budget in each group means let's line up all the budget values from lowest to highest and picking the one in the middle.\n",
    "\n",
    "What are the median budgets of movies that fail and pass the Bechdel test? Which value is higher, and by how much?"
   ]
  },
  {
   "cell_type": "code",
   "execution_count": 15,
   "metadata": {
    "collapsed": false
   },
   "outputs": [
    {
     "name": "stdout",
     "output_type": "stream",
     "text": [
      "Movies that fail the stupid test have a median budget of $42,628,529 (n=533).\n",
      "Movies that pass the stupid test have a median budget of $40,977,425 (n=764).\n"
     ]
    },
    {
     "data": {
      "text/html": [
       "<p>Movies that pass the stupid test have a median budget $1,651,104 <b>lower than</b> those that fail.</p>."
      ],
      "text/plain": [
       "<IPython.core.display.HTML object>"
      ]
     },
     "metadata": {},
     "output_type": "display_data"
    }
   ],
   "source": [
    "stupid_failer_n = len(stupid_failer_budgets)\n",
    "stupid_passer_n = len(stupid_passer_budgets)\n",
    "\n",
    "stupid_failer_median_budget = stupid_failer_budgets.agg(np.median)\n",
    "stupid_passer_median_budget = stupid_passer_budgets.agg(np.median)\n",
    "\n",
    "print('Movies that fail the stupid test have a median budget of ${0:,.0f} (n={1:.0f}).'.format(stupid_failer_median_budget, stupid_failer_n))\n",
    "print('Movies that pass the stupid test have a median budget of ${0:,.0f} (n={1:.0f}).'.format(stupid_passer_median_budget, stupid_passer_n))\n",
    "\n",
    "stupid_median_difference = stupid_passer_median_budget - stupid_failer_median_budget\n",
    "stupid_direction_string = '<b>'\n",
    "if (stupid_median_difference < 0):\n",
    "    stupid_direction_string += 'lower than'\n",
    "elif (stupid_median_difference > 0):\n",
    "    stupid_direction_string += 'higher than'\n",
    "else:\n",
    "    stupid_direction_string += 'equal to'\n",
    "stupid_direction_string += '</b>'\n",
    "stupid_median_difference = abs(stupid_median_difference)\n",
    "\n",
    "display(HTML('<p>Movies that pass the stupid test have a median budget ${0:,.0f} {1:} those that fail.</p>.'.format(stupid_median_difference,stupid_direction_string)))"
   ]
  },
  {
   "cell_type": "markdown",
   "metadata": {},
   "source": [
    "Is that difference in median budget statistically significant? That question calls for a Mann-Whitney U test."
   ]
  },
  {
   "cell_type": "code",
   "execution_count": 17,
   "metadata": {
    "collapsed": false
   },
   "outputs": [
    {
     "data": {
      "text/html": [
       "<p>Is the difference in median budgets statistically significant?</p>"
      ],
      "text/plain": [
       "<IPython.core.display.HTML object>"
      ]
     },
     "metadata": {},
     "output_type": "display_data"
    },
    {
     "name": "stdout",
     "output_type": "stream",
     "text": [
      "NO\n",
      "p-value:  0.482962474528\n"
     ]
    }
   ],
   "source": [
    "display(HTML('<p>Is the difference in median budgets statistically significant?</p>'))\n",
    "[ustat, pvalue] = scipy.stats.mannwhitneyu(stupid_failer_budgets, stupid_passer_budgets, use_continuity=True, alternative='two-sided')\n",
    "\n",
    "if (pvalue < .05):\n",
    "    print('YES')\n",
    "else:\n",
    "    print('NO')\n",
    "\n",
    "print('p-value: ',pvalue)\n",
    "\n",
    "stupid_pbc = scipy.stats.pointbiserialr(movies_df.dropna()['stupid_passed'],movies_df.dropna()['budget'])[0]"
   ]
  },
  {
   "cell_type": "code",
   "execution_count": null,
   "metadata": {
    "collapsed": true
   },
   "outputs": [],
   "source": []
  }
 ],
 "metadata": {
  "kernelspec": {
   "display_name": "Python 3",
   "language": "python",
   "name": "python3"
  },
  "language_info": {
   "codemirror_mode": {
    "name": "ipython",
    "version": 3
   },
   "file_extension": ".py",
   "mimetype": "text/x-python",
   "name": "python",
   "nbconvert_exporter": "python",
   "pygments_lexer": "ipython3",
   "version": "3.5.3"
  }
 },
 "nbformat": 4,
 "nbformat_minor": 0
}
