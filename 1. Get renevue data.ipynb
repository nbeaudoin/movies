{
 "cells": [
  {
   "cell_type": "code",
   "execution_count": 1,
   "metadata": {
    "collapsed": false
   },
   "outputs": [
    {
     "name": "stdout",
     "output_type": "stream",
     "text": [
      "Done\n"
     ]
    }
   ],
   "source": [
    "import numpy as np\n",
    "import pandas as pd\n",
    "import json\n",
    "import urllib\n",
    "import string\n",
    "from bs4 import BeautifulSoup\n",
    "#import seaborn as sb                                      # JR: What does the Seaborn library do? Also, needed to pip install it above\n",
    "#from itertools import product                             # JR: Don't know this library either\n",
    "#from matplotlib.collections import LineCollection\n",
    "#import statsmodels\n",
    "#import statsmodels.formula.api as smf\n",
    "#from scipy.stats import chisquare\n",
    "#from IPython.display import Image\n",
    "print('Done')"
   ]
  },
  {
   "cell_type": "code",
   "execution_count": 2,
   "metadata": {
    "collapsed": false
   },
   "outputs": [
    {
     "name": "stdout",
     "output_type": "stream",
     "text": [
      "http://www.the-numbers.com/movies/letter/0\n",
      "http://www.the-numbers.com/movies/letter/1\n",
      "http://www.the-numbers.com/movies/letter/2\n",
      "http://www.the-numbers.com/movies/letter/3\n",
      "http://www.the-numbers.com/movies/letter/4\n",
      "http://www.the-numbers.com/movies/letter/5\n",
      "http://www.the-numbers.com/movies/letter/6\n",
      "http://www.the-numbers.com/movies/letter/7\n",
      "http://www.the-numbers.com/movies/letter/8\n",
      "http://www.the-numbers.com/movies/letter/9\n",
      "http://www.the-numbers.com/movies/letter/a\n",
      "http://www.the-numbers.com/movies/letter/b\n",
      "http://www.the-numbers.com/movies/letter/c\n",
      "http://www.the-numbers.com/movies/letter/d\n",
      "http://www.the-numbers.com/movies/letter/e\n",
      "http://www.the-numbers.com/movies/letter/f\n",
      "http://www.the-numbers.com/movies/letter/g\n",
      "http://www.the-numbers.com/movies/letter/h\n",
      "http://www.the-numbers.com/movies/letter/i\n",
      "http://www.the-numbers.com/movies/letter/j\n",
      "http://www.the-numbers.com/movies/letter/k\n",
      "http://www.the-numbers.com/movies/letter/l\n",
      "http://www.the-numbers.com/movies/letter/m\n",
      "http://www.the-numbers.com/movies/letter/n\n",
      "http://www.the-numbers.com/movies/letter/o\n",
      "http://www.the-numbers.com/movies/letter/p\n",
      "http://www.the-numbers.com/movies/letter/q\n",
      "http://www.the-numbers.com/movies/letter/r\n",
      "http://www.the-numbers.com/movies/letter/s\n",
      "http://www.the-numbers.com/movies/letter/t\n",
      "http://www.the-numbers.com/movies/letter/u\n",
      "http://www.the-numbers.com/movies/letter/v\n",
      "http://www.the-numbers.com/movies/letter/w\n",
      "http://www.the-numbers.com/movies/letter/x\n",
      "http://www.the-numbers.com/movies/letter/y\n",
      "http://www.the-numbers.com/movies/letter/z\n",
      "http://www.the-numbers.com/movies/letter/(\n",
      "Done!\n"
     ]
    }
   ],
   "source": [
    "movies = []\n",
    "colnames = ['Release Date','Movie','Genre','Production Budget','Domestic Box Office to Date','Trailer']\n",
    "nColumns = len(colnames)\n",
    "starting_letters = string.printable[0:36]+string.printable[69]\n",
    "#starting_letters = ['a']\n",
    "for thisletter in starting_letters:\n",
    "    thisurl = 'http://www.the-numbers.com/movies/letter/'+thisletter\n",
    "    print(thisurl)\n",
    "    thispage = urllib.request.urlopen(thisurl)\n",
    "    soup = BeautifulSoup(thispage,'html.parser',from_encoding='utf-8')\n",
    "    firstTable = soup.find('table')\n",
    "    theseRows = soup.findAll('tr')\n",
    "    for row in theseRows:\n",
    "        thisrow = []\n",
    "        cells = row.findAll('td')\n",
    "        for cell in cells:\n",
    "            if (cell.get_text() == u'\\xa0'):\n",
    "                thisrow.append(''.encode('utf-8'))\n",
    "            else:\n",
    "                thisrow.append(cell.get_text().replace(u'\\xa0',' ').encode('utf-8'))\n",
    "        if (len(thisrow) == 6):\n",
    "            movies.append(thisrow)\n",
    "movies_decoded = [[s.decode('utf-8') for s in t] for t in movies]\n",
    "print('Done!')"
   ]
  },
  {
   "cell_type": "code",
   "execution_count": 8,
   "metadata": {
    "collapsed": false
   },
   "outputs": [
    {
     "name": "stdout",
     "output_type": "stream",
     "text": [
      "(28847, 7)\n",
      "Done\n"
     ]
    }
   ],
   "source": [
    "thenumbers = pd.DataFrame.from_dict(movies_decoded)\n",
    "thenumbers.columns = ['releasedate','title','genre','budget','revenue','trailer']\n",
    "\n",
    "thenumbers['releasedate'] = pd.to_datetime(thenumbers['releasedate'],format=u\"%b\\xa0%d,\\xa0%Y\")#,coerce=True)\n",
    "\n",
    "thenumbers = thenumbers.replace([u'',u'nan'],[np.nan,np.nan])\n",
    "\n",
    "thenumbers['budget'] = thenumbers['budget'].dropna().str.replace('$','').apply(lambda x:int(x.replace(',','')))\n",
    "thenumbers['budget'] = thenumbers['budget'].dropna().apply(lambda x: '${:,.0f}'.format(x))\n",
    "\n",
    "thenumbers['revenue'] = thenumbers['revenue'].dropna().str.replace('$','').apply(lambda x:int(x.replace(',','')))\n",
    "thenumbers['revenue'] = thenumbers['revenue'].dropna().apply(lambda x: '${:,.0f}'.format(x))\n",
    "\n",
    "thenumbers['year'] = thenumbers['releasedate'].apply(lambda x:x.year)\n",
    "\n",
    "thenumbers['has_trailer'] = thenumbers['trailer'].apply(lambda x: True if (x == 'Play') else False)\n",
    "\n",
    "thenumbers = thenumbers.drop('trailer',axis=1)\n",
    "\n",
    "thenumbers.index.name = 'id'\n",
    "\n",
    "thenumbers.columns = ['releasedate_thenumbers','title_thenumbers','genre_thenumbers','budget_thenumbers','revenue_thenumbers','year_thenumbers','has_trailer_thenumbers']\n",
    "thenumbers.head(30)\n",
    "\n",
    "thenumbers.to_csv('revenue.csv',encoding='utf8')\n",
    "print(thenumbers.shape)\n",
    "print('Done')"
   ]
  },
  {
   "cell_type": "code",
   "execution_count": null,
   "metadata": {
    "collapsed": true
   },
   "outputs": [],
   "source": []
  }
 ],
 "metadata": {
  "kernelspec": {
   "display_name": "Python 3",
   "language": "python",
   "name": "python3"
  },
  "language_info": {
   "codemirror_mode": {
    "name": "ipython",
    "version": 3
   },
   "file_extension": ".py",
   "mimetype": "text/x-python",
   "name": "python",
   "nbconvert_exporter": "python",
   "pygments_lexer": "ipython3",
   "version": "3.5.3"
  }
 },
 "nbformat": 4,
 "nbformat_minor": 0
}
