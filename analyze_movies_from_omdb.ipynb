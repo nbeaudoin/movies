{
 "cells": [
  {
   "cell_type": "code",
   "execution_count": 1,
   "metadata": {},
   "outputs": [
    {
     "name": "stdout",
     "output_type": "stream",
     "text": [
      "ok\n"
     ]
    }
   ],
   "source": [
    "import pandas\n",
    "import numpy as np\n",
    "import os\n",
    "from pprint import pprint\n",
    "import time\n",
    "from matplotlib import pyplot as plt\n",
    "print('ok')"
   ]
  },
  {
   "cell_type": "code",
   "execution_count": 2,
   "metadata": {},
   "outputs": [
    {
     "name": "stdout",
     "output_type": "stream",
     "text": [
      "Reading file 1 of 8...\n",
      "Reading file 2 of 8...\n",
      "Reading file 3 of 8...\n",
      "Reading file 4 of 8...\n",
      "Reading file 5 of 8...\n",
      "Reading file 6 of 8...\n",
      "Reading file 7 of 8...\n",
      "Reading file 8 of 8...\n",
      "Read 1,143,080 movies in 30 seconds.\n",
      "Done!\n"
     ]
    }
   ],
   "source": [
    "s = time.time()\n",
    "filesplit_parts = 8\n",
    "movies_df = pandas.DataFrame()\n",
    "for i in range(0,filesplit_parts):\n",
    "    print('Reading file {0:.0f} of {1:.0f}...'.format(i+1, filesplit_parts))\n",
    "    filename = '/home/idies/workspace/getting_started/movies/data/omdb{0:.0f}.csv'.format(i)\n",
    "    #filename = '/home/idies/workspace/Temporary/raddick/movies_scratch/omdb_all/omdb{0:.0f}.csv'.format(i)\n",
    "    movies_df_i = pandas.read_csv(filename, low_memory=False, index_col='imdb_id', encoding='utf-8')\n",
    "    movies_df = pandas.concat((movies_df, movies_df_i))\n",
    "e = time.time()\n",
    "print('Read {0:,.0f} movies in {1:,.0f} seconds.'.format(len(movies_df), e-s))\n",
    "print('Done!')"
   ]
  },
  {
   "cell_type": "code",
   "execution_count": 4,
   "metadata": {},
   "outputs": [
    {
     "data": {
      "text/html": [
       "<div>\n",
       "<style scoped>\n",
       "    .dataframe tbody tr th:only-of-type {\n",
       "        vertical-align: middle;\n",
       "    }\n",
       "\n",
       "    .dataframe tbody tr th {\n",
       "        vertical-align: top;\n",
       "    }\n",
       "\n",
       "    .dataframe thead th {\n",
       "        text-align: right;\n",
       "    }\n",
       "</style>\n",
       "<table border=\"1\" class=\"dataframe\">\n",
       "  <thead>\n",
       "    <tr style=\"text-align: right;\">\n",
       "      <th>imdb_id</th>\n",
       "      <th>230045</th>\n",
       "      <th>1825683</th>\n",
       "    </tr>\n",
       "  </thead>\n",
       "  <tbody>\n",
       "    <tr>\n",
       "      <th>Actors</th>\n",
       "      <td>Eldridge Cleaver, Huey P. Newton, Bobby Seale</td>\n",
       "      <td>Chadwick Boseman, Michael B. Jordan, Lupita Ny...</td>\n",
       "    </tr>\n",
       "    <tr>\n",
       "      <th>Awards</th>\n",
       "      <td>NaN</td>\n",
       "      <td>14 nominations.</td>\n",
       "    </tr>\n",
       "    <tr>\n",
       "      <th>BoxOffice</th>\n",
       "      <td>NaN</td>\n",
       "      <td>$501,105,037</td>\n",
       "    </tr>\n",
       "    <tr>\n",
       "      <th>Country</th>\n",
       "      <td>USA</td>\n",
       "      <td>USA</td>\n",
       "    </tr>\n",
       "    <tr>\n",
       "      <th>DVD</th>\n",
       "      <td>NaN</td>\n",
       "      <td>15 May 2018</td>\n",
       "    </tr>\n",
       "    <tr>\n",
       "      <th>Director</th>\n",
       "      <td>NaN</td>\n",
       "      <td>Ryan Coogler</td>\n",
       "    </tr>\n",
       "    <tr>\n",
       "      <th>Genre</th>\n",
       "      <td>Documentary, Short</td>\n",
       "      <td>Action, Adventure, Sci-Fi</td>\n",
       "    </tr>\n",
       "    <tr>\n",
       "      <th>Language</th>\n",
       "      <td>English</td>\n",
       "      <td>Swahili, Nama, English, Xhosa, Korean</td>\n",
       "    </tr>\n",
       "    <tr>\n",
       "      <th>Metascore</th>\n",
       "      <td>NaN</td>\n",
       "      <td>88</td>\n",
       "    </tr>\n",
       "    <tr>\n",
       "      <th>Plot</th>\n",
       "      <td>The black Panthers back fighting bad guys.</td>\n",
       "      <td>T'Challa, the King of Wakanda, rises to the th...</td>\n",
       "    </tr>\n",
       "    <tr>\n",
       "      <th>Poster</th>\n",
       "      <td>NaN</td>\n",
       "      <td>https://ia.media-imdb.com/images/M/MV5BMTg1MTY...</td>\n",
       "    </tr>\n",
       "    <tr>\n",
       "      <th>Production</th>\n",
       "      <td>NaN</td>\n",
       "      <td>Marvel Studios</td>\n",
       "    </tr>\n",
       "    <tr>\n",
       "      <th>Rated</th>\n",
       "      <td>NaN</td>\n",
       "      <td>PG-13</td>\n",
       "    </tr>\n",
       "    <tr>\n",
       "      <th>Ratings</th>\n",
       "      <td>[{'Source': 'Internet Movie Database', 'Value'...</td>\n",
       "      <td>[{'Source': 'Internet Movie Database', 'Value'...</td>\n",
       "    </tr>\n",
       "    <tr>\n",
       "      <th>Released</th>\n",
       "      <td>NaN</td>\n",
       "      <td>16 Feb 2018</td>\n",
       "    </tr>\n",
       "    <tr>\n",
       "      <th>Runtime</th>\n",
       "      <td>14 min</td>\n",
       "      <td>134 min</td>\n",
       "    </tr>\n",
       "    <tr>\n",
       "      <th>Title</th>\n",
       "      <td>Black Panther</td>\n",
       "      <td>Black Panther</td>\n",
       "    </tr>\n",
       "    <tr>\n",
       "      <th>Website</th>\n",
       "      <td>NaN</td>\n",
       "      <td>https://www.facebook.com/BlackPantherMovie/</td>\n",
       "    </tr>\n",
       "    <tr>\n",
       "      <th>Writer</th>\n",
       "      <td>NaN</td>\n",
       "      <td>Ryan Coogler, Joe Robert Cole, Stan Lee (based...</td>\n",
       "    </tr>\n",
       "    <tr>\n",
       "      <th>Year</th>\n",
       "      <td>1969</td>\n",
       "      <td>2018</td>\n",
       "    </tr>\n",
       "    <tr>\n",
       "      <th>imdbID</th>\n",
       "      <td>tt0230045</td>\n",
       "      <td>tt1825683</td>\n",
       "    </tr>\n",
       "    <tr>\n",
       "      <th>imdbRating</th>\n",
       "      <td>7.2</td>\n",
       "      <td>7.7</td>\n",
       "    </tr>\n",
       "    <tr>\n",
       "      <th>imdbVotes</th>\n",
       "      <td>29</td>\n",
       "      <td>247,680</td>\n",
       "    </tr>\n",
       "    <tr>\n",
       "      <th>retrieved_at</th>\n",
       "      <td>2018-05-02 23:19:20.129586934</td>\n",
       "      <td>2018-06-05 18:05:19.431878567</td>\n",
       "    </tr>\n",
       "  </tbody>\n",
       "</table>\n",
       "</div>"
      ],
      "text/plain": [
       "imdb_id                                                 230045   \\\n",
       "Actors            Eldridge Cleaver, Huey P. Newton, Bobby Seale   \n",
       "Awards                                                      NaN   \n",
       "BoxOffice                                                   NaN   \n",
       "Country                                                     USA   \n",
       "DVD                                                         NaN   \n",
       "Director                                                    NaN   \n",
       "Genre                                        Documentary, Short   \n",
       "Language                                                English   \n",
       "Metascore                                                   NaN   \n",
       "Plot                 The black Panthers back fighting bad guys.   \n",
       "Poster                                                      NaN   \n",
       "Production                                                  NaN   \n",
       "Rated                                                       NaN   \n",
       "Ratings       [{'Source': 'Internet Movie Database', 'Value'...   \n",
       "Released                                                    NaN   \n",
       "Runtime                                                  14 min   \n",
       "Title                                             Black Panther   \n",
       "Website                                                     NaN   \n",
       "Writer                                                      NaN   \n",
       "Year                                                       1969   \n",
       "imdbID                                                tt0230045   \n",
       "imdbRating                                                  7.2   \n",
       "imdbVotes                                                    29   \n",
       "retrieved_at                      2018-05-02 23:19:20.129586934   \n",
       "\n",
       "imdb_id                                                 1825683  \n",
       "Actors        Chadwick Boseman, Michael B. Jordan, Lupita Ny...  \n",
       "Awards                                          14 nominations.  \n",
       "BoxOffice                                          $501,105,037  \n",
       "Country                                                     USA  \n",
       "DVD                                                 15 May 2018  \n",
       "Director                                           Ryan Coogler  \n",
       "Genre                                 Action, Adventure, Sci-Fi  \n",
       "Language                  Swahili, Nama, English, Xhosa, Korean  \n",
       "Metascore                                                    88  \n",
       "Plot          T'Challa, the King of Wakanda, rises to the th...  \n",
       "Poster        https://ia.media-imdb.com/images/M/MV5BMTg1MTY...  \n",
       "Production                                       Marvel Studios  \n",
       "Rated                                                     PG-13  \n",
       "Ratings       [{'Source': 'Internet Movie Database', 'Value'...  \n",
       "Released                                            16 Feb 2018  \n",
       "Runtime                                                 134 min  \n",
       "Title                                             Black Panther  \n",
       "Website             https://www.facebook.com/BlackPantherMovie/  \n",
       "Writer        Ryan Coogler, Joe Robert Cole, Stan Lee (based...  \n",
       "Year                                                       2018  \n",
       "imdbID                                                tt1825683  \n",
       "imdbRating                                                  7.7  \n",
       "imdbVotes                                               247,680  \n",
       "retrieved_at                      2018-06-05 18:05:19.431878567  "
      ]
     },
     "execution_count": 4,
     "metadata": {},
     "output_type": "execute_result"
    }
   ],
   "source": [
    "movies_df[movies_df['Title'] == 'Black Panther'].T"
   ]
  },
  {
   "cell_type": "code",
   "execution_count": 5,
   "metadata": {},
   "outputs": [
    {
     "data": {
      "image/png": "[encoded data removed]",
      "text/plain": [
       "<Figure size 432x288 with 1 Axes>"
      ]
     },
     "metadata": {
      "needs_background": "light"
     },
     "output_type": "display_data"
    }
   ],
   "source": [
    "movies_df['imdbRating'].dropna().hist()\n",
    "plt.show()"
   ]
  },
  {
   "cell_type": "code",
   "execution_count": 6,
   "metadata": {},
   "outputs": [
    {
     "data": {
      "image/png": "[encoded data removed]",
      "text/plain": [
       "<Figure size 432x288 with 1 Axes>"
      ]
     },
     "metadata": {
      "needs_background": "light"
     },
     "output_type": "display_data"
    }
   ],
   "source": [
    "movies_df.plot.scatter('imdbRating','Metascore')\n",
    "plt.show()"
   ]
  },
  {
   "cell_type": "code",
   "execution_count": null,
   "metadata": {},
   "outputs": [],
   "source": []
  }
 ],
 "metadata": {
  "kernelspec": {
   "display_name": "Python 3",
   "language": "python",
   "name": "python3"
  },
  "language_info": {
   "codemirror_mode": {
    "name": "ipython",
    "version": 3
   },
   "file_extension": ".py",
   "mimetype": "text/x-python",
   "name": "python",
   "nbconvert_exporter": "python",
   "pygments_lexer": "ipython3",
   "version": "3.6.6"
  },
  "toc": {
   "base_numbering": 1,
   "nav_menu": {},
   "number_sections": false,
   "sideBar": false,
   "skip_h1_title": false,
   "title_cell": "Table of Contents",
   "title_sidebar": "Contents",
   "toc_cell": false,
   "toc_position": {},
   "toc_section_display": false,
   "toc_window_display": false
  }
 },
 "nbformat": 4,
 "nbformat_minor": 2
}
