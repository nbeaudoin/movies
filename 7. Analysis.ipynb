{
 "cells": [
  {
   "cell_type": "code",
   "execution_count": 120,
   "metadata": {
    "collapsed": false
   },
   "outputs": [
    {
     "name": "stdout",
     "output_type": "stream",
     "text": [
      "Dataset loaded\n"
     ]
    }
   ],
   "source": [
    "#from itertools import product\n",
    "#from matplotlib.collections import LineCollection\n",
    "#import statsmodels.formula.api as smf\n",
    "#from scipy.stats import chisquare\n",
    "import numpy as np\n",
    "from matplotlib import pyplot as plt\n",
    "from IPython.display import Image, display, HTML\n",
    "import pandas as pd\n",
    "import datetime as datetime\n",
    "movies_df = pd.read_csv('movies_for_analysis.csv',encoding='utf-8',index_col='imdb_id')\n",
    "#movies.shape\n",
    "#movies.sample(1)\n",
    "#x.columns\n",
    "movies_df['released'] = pd.to_datetime(movies_df['released'])\n",
    "print('Dataset loaded')"
   ]
  },
  {
   "cell_type": "code",
   "execution_count": 121,
   "metadata": {
    "collapsed": false
   },
   "outputs": [
    {
     "data": {
      "text/html": [
       "<h1>Number of movies</h1>"
      ],
      "text/plain": [
       "<IPython.core.display.HTML object>"
      ]
     },
     "metadata": {},
     "output_type": "display_data"
    },
    {
     "name": "stdout",
     "output_type": "stream",
     "text": [
      "Total number of movies: 7,266\n",
      "Movies with Bechdel test results: 7,266\n",
      "Movies with box office receipt data: 4,594\n",
      "Movies with profit data: 2,748\n"
     ]
    }
   ],
   "source": [
    "display(HTML('<h1>Number of movies</h1>'))\n",
    "\n",
    "print('Total number of movies: {0:,.0f}'.format(len(movies_df)))\n",
    "print('Movies with Bechdel test results: {0:,.0f}'.format(len(movies_df[~pd.isnull(movies_df['bechdel_rating'])])))\n",
    "print('Movies with box office receipt data: {0:,.0f}'.format(len(movies_df[~pd.isnull(movies_df['boxoffice_adj'])])))\n",
    "print('Movies with profit data: {0:,.0f}'.format(len(movies_df[~pd.isnull(movies_df['profit_adj'])])))\n"
   ]
  },
  {
   "cell_type": "code",
   "execution_count": 123,
   "metadata": {
    "collapsed": false
   },
   "outputs": [
    {
     "data": {
      "text/html": [
       "<style  type=\"text/css\" >\n",
       "</style>  \n",
       "<table id=\"T_825e28fe_65b3_11e7_b8ce_0242ac110002\" > \n",
       "<thead>    <tr> \n",
       "        <th class=\"blank level0\" ></th> \n",
       "        <th class=\"col_heading level0 col0\" >result</th> \n",
       "        <th class=\"col_heading level0 col1\" >nMovies</th> \n",
       "        <th class=\"col_heading level0 col2\" >percentage</th> \n",
       "    </tr>    <tr> \n",
       "        <th class=\"index_name level0\" >bechdel_rating</th> \n",
       "        <th class=\"blank\" ></th> \n",
       "        <th class=\"blank\" ></th> \n",
       "        <th class=\"blank\" ></th> \n",
       "    </tr></thead> \n",
       "<tbody>    <tr> \n",
       "        <th id=\"T_825e28fe_65b3_11e7_b8ce_0242ac110002\" class=\"row_heading level0 row0\" >0</th> \n",
       "        <td id=\"T_825e28fe_65b3_11e7_b8ce_0242ac110002row0_col0\" class=\"data row0 col0\" >Fewer than two women</td> \n",
       "        <td id=\"T_825e28fe_65b3_11e7_b8ce_0242ac110002row0_col1\" class=\"data row0 col1\" >751</td> \n",
       "        <td id=\"T_825e28fe_65b3_11e7_b8ce_0242ac110002row0_col2\" class=\"data row0 col2\" >10%</td> \n",
       "    </tr>    <tr> \n",
       "        <th id=\"T_825e28fe_65b3_11e7_b8ce_0242ac110002\" class=\"row_heading level0 row1\" >1</th> \n",
       "        <td id=\"T_825e28fe_65b3_11e7_b8ce_0242ac110002row1_col0\" class=\"data row1 col0\" >Women don't talk</td> \n",
       "        <td id=\"T_825e28fe_65b3_11e7_b8ce_0242ac110002row1_col1\" class=\"data row1 col1\" >1,607</td> \n",
       "        <td id=\"T_825e28fe_65b3_11e7_b8ce_0242ac110002row1_col2\" class=\"data row1 col2\" >22%</td> \n",
       "    </tr>    <tr> \n",
       "        <th id=\"T_825e28fe_65b3_11e7_b8ce_0242ac110002\" class=\"row_heading level0 row2\" >2</th> \n",
       "        <td id=\"T_825e28fe_65b3_11e7_b8ce_0242ac110002row2_col0\" class=\"data row2 col0\" >Women talk about a man</td> \n",
       "        <td id=\"T_825e28fe_65b3_11e7_b8ce_0242ac110002row2_col1\" class=\"data row2 col1\" >733</td> \n",
       "        <td id=\"T_825e28fe_65b3_11e7_b8ce_0242ac110002row2_col2\" class=\"data row2 col2\" >10%</td> \n",
       "    </tr>    <tr> \n",
       "        <th id=\"T_825e28fe_65b3_11e7_b8ce_0242ac110002\" class=\"row_heading level0 row3\" >3</th> \n",
       "        <td id=\"T_825e28fe_65b3_11e7_b8ce_0242ac110002row3_col0\" class=\"data row3 col0\" >Passes Bechdel test</td> \n",
       "        <td id=\"T_825e28fe_65b3_11e7_b8ce_0242ac110002row3_col1\" class=\"data row3 col1\" >4,175</td> \n",
       "        <td id=\"T_825e28fe_65b3_11e7_b8ce_0242ac110002row3_col2\" class=\"data row3 col2\" >57%</td> \n",
       "    </tr></tbody> \n",
       "</table> "
      ],
      "text/plain": [
       "<pandas.io.formats.style.Styler at 0x7f47b294f748>"
      ]
     },
     "execution_count": 123,
     "metadata": {},
     "output_type": "execute_result"
    }
   ],
   "source": [
    "bechdel_result_table = pd.DataFrame()\n",
    "bechdel_result_table['nMovies'] = movies_df.groupby('bechdel_rating').size()\n",
    "bechdel_result_table['result'] = ''\n",
    "bechdel_result_table['result'] = np.where(bechdel_result_table.index == 0, 'Fewer than two women',bechdel_result_table['result'])\n",
    "bechdel_result_table['result'] = np.where(bechdel_result_table.index == 1, 'Women don\\'t talk',bechdel_result_table['result'])\n",
    "bechdel_result_table['result'] = np.where(bechdel_result_table.index == 2, 'Women talk about a man',bechdel_result_table['result'])\n",
    "bechdel_result_table['result'] = np.where(bechdel_result_table.index == 3, 'Passes Bechdel test',bechdel_result_table['result'])\n",
    "\n",
    "bechdel_result_table['percentage'] = 100 * (bechdel_result_table['nMovies'] / len(movies_df))\n",
    "#bechdel_result_table = bechdel_result_table.set_index('result')\n",
    "#bechdel_result_table = bechdel_result_table.reset_index()\n",
    "bechdel_result_table[['result','nMovies','percentage']].style.format({'result': '{:10}', 'nMovies': '{:,.0f}', 'percentage': '{0:.0f}%'})"
   ]
  },
  {
   "cell_type": "code",
   "execution_count": 142,
   "metadata": {
    "collapsed": false,
    "scrolled": true
   },
   "outputs": [
    {
     "data": {
      "text/plain": [
       "yearbin\n",
       " Before 1950     541\n",
       "1950s            240\n",
       "1960s            303\n",
       "1970s            324\n",
       "1980s            545\n",
       "1990s            958\n",
       "2000s           2033\n",
       "2010s           2322\n",
       "dtype: int64"
      ]
     },
     "execution_count": 142,
     "metadata": {},
     "output_type": "execute_result"
    }
   ],
   "source": [
    "#movies_df.sample(1).transpose()\n",
    "movies_df['yearbin'] = ''\n",
    "movies_df['yearbin'] = np.where((movies_df['bechdel_year'] < 1950), ' Before 1950', movies_df['bechdel_year'])\n",
    "movies_df['yearbin'] = np.where(((movies_df['bechdel_year'] >= 1950) & (movies_df['bechdel_year'] < 1960)), '1950s', movies_df['yearbin'])\n",
    "movies_df['yearbin'] = np.where(((movies_df['bechdel_year'] >= 1960) & (movies_df['bechdel_year'] < 1970)), '1960s', movies_df['yearbin'])\n",
    "movies_df['yearbin'] = np.where(((movies_df['bechdel_year'] >= 1970) & (movies_df['bechdel_year'] < 1980)), '1970s', movies_df['yearbin'])\n",
    "movies_df['yearbin'] = np.where(((movies_df['bechdel_year'] >= 1980) & (movies_df['bechdel_year'] < 1990)), '1980s', movies_df['yearbin'])\n",
    "movies_df['yearbin'] = np.where(((movies_df['bechdel_year'] >= 1990) & (movies_df['bechdel_year'] < 2000)), '1990s', movies_df['yearbin'])\n",
    "movies_df['yearbin'] = np.where(((movies_df['bechdel_year'] >= 2000) & (movies_df['bechdel_year'] < 2010)), '2000s', movies_df['yearbin'])\n",
    "movies_df['yearbin'] = np.where(((movies_df['bechdel_year'] >= 2010)), '2010s', movies_df['yearbin'])\n",
    "\n",
    "movies_df.groupby('yearbin').size()"
   ]
  },
  {
   "cell_type": "code",
   "execution_count": null,
   "metadata": {
    "collapsed": true
   },
   "outputs": [],
   "source": []
  }
 ],
 "metadata": {
  "kernelspec": {
   "display_name": "Python 3",
   "language": "python",
   "name": "python3"
  },
  "language_info": {
   "codemirror_mode": {
    "name": "ipython",
    "version": 3
   },
   "file_extension": ".py",
   "mimetype": "text/x-python",
   "name": "python",
   "nbconvert_exporter": "python",
   "pygments_lexer": "ipython3",
   "version": "3.5.3"
  }
 },
 "nbformat": 4,
 "nbformat_minor": 0
}
