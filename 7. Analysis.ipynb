{
 "cells": [
  {
   "cell_type": "markdown",
   "metadata": {},
   "source": [
    "# Das Bechdel test\n",
    "\n",
    "Lots of people have studied the effects of the Bechdel test on movies: in particular <a href=\"https://fivethirtyeight.com/tag/bechdel-test/\">several articles on fivethirtyeight.com</a> and <a href=\"http://www.brianckeegan.com/2014/04/the-need-for-openness-in-data-journalism/\">an article by Brian Keegan extending 538's work</a>. These are some notes from my own exploration of the topic. Maybe to be turned into a blog post or paper.\n",
    "\n",
    "As I reminder, the Bechdel test is way of evaluating movie scripts on their representation of women. It says: \"There are two women and they talk to each other about something other than a man.\" That seems like a ridiculously low bar, but still at least 40% of movies fail it."
   ]
  },
  {
   "cell_type": "markdown",
   "metadata": {},
   "source": [
    "## Getting the data\n",
    "\n",
    "First, some preliminaries (importing needed Python packages). Then, load the data. Let's assume here that I did that data-ing correctly. See scripts numbered 1 through 6 to see how I got to this point.\n",
    "\n",
    "If you are looking at this through a Jupyter notebook interface, you can run the Code block below by clicking on it and pressing Shift-Enter. It should result in a message that says \"Dataset loaded\"."
   ]
  },
  {
   "cell_type": "code",
   "execution_count": 53,
   "metadata": {
    "collapsed": false
   },
   "outputs": [
    {
     "name": "stdout",
     "output_type": "stream",
     "text": [
      "Dataset loaded\n"
     ]
    }
   ],
   "source": [
    "#from itertools import product\n",
    "#from matplotlib.collections import LineCollection\n",
    "#import statsmodels.formula.api as smf\n",
    "import numpy as np\n",
    "import scipy\n",
    "from matplotlib import pyplot as plt\n",
    "from IPython.display import Image, display, HTML\n",
    "import pandas as pd\n",
    "import datetime as datetime\n",
    "import warnings\n",
    "warnings.filterwarnings('ignore')\n",
    "movies_df = pd.read_csv('movies_for_analysis.csv',encoding='utf-8',index_col='imdb_id')\n",
    "movies_df['released'] = pd.to_datetime(movies_df['released'])\n",
    "print('Dataset loaded')"
   ]
  },
  {
   "cell_type": "markdown",
   "metadata": {},
   "source": [
    "## Choosing a study sample\n",
    "\n",
    "Next question: what movies are in?"
   ]
  },
  {
   "cell_type": "markdown",
   "metadata": {},
   "source": [
    "### Whose movies?\n",
    "\n",
    "The Bechdel test was invented to discuss Hollywood movies, which is a slightly vague and nebulous term. Ideally we would want to consider releases from \"major Hollywood studios,\" but that is hard to define. This is because of the \"Fox Searchlight problem.\" Fox Searchlight is a subsidiary of Fox that distributes foreign films. Should they be considered as a part of 20th Century Fox, or not?\n",
    "\n",
    "Even if that were easy to define, it would still be hard to put into code, because there are so damn many studios represented. Run the code block below to see just how many."
   ]
  },
  {
   "cell_type": "code",
   "execution_count": 50,
   "metadata": {
    "collapsed": false
   },
   "outputs": [
    {
     "data": {
      "text/html": [
       "<p>The number of unique studios in our dataset (remember, not yet cut on time), according to two sources:"
      ],
      "text/plain": [
       "<IPython.core.display.HTML object>"
      ]
     },
     "metadata": {},
     "output_type": "display_data"
    },
    {
     "name": "stdout",
     "output_type": "stream",
     "text": [
      "Number of studios according to IMDb: 1,374\n",
      "Number of studios according to Box Office Mojo: 202\n",
      "(Those lists certainly overlap)\n"
     ]
    }
   ],
   "source": [
    "display(HTML('<p>The number of unique studios in our dataset (remember, not yet cut on time), according to two sources:'))\n",
    "\n",
    "#movies_df.columns\n",
    "nStudiosIMDb = len(movies_df.groupby('studio'))  # studio data from IMDb\n",
    "nStudiosBOM = len(movies_df.groupby('studio_boxofficemojo')) # studio data from boxofficemojo.com (as of May 2017)\n",
    "\n",
    "print('Number of studios according to IMDb: {0:,.0f}'.format(nStudiosIMDb))\n",
    "print('Number of studios according to Box Office Mojo: {0:,.0f}'.format(nStudiosBOM))\n",
    "print('(Those lists certainly overlap)')"
   ]
  },
  {
   "cell_type": "markdown",
   "metadata": {},
   "source": [
    "So let's try a different approach that is certainly not perfect, but will get us closer to where we want to be: consider only movies made in the US (the value for \"country\" from OMDb includes 'usa')."
   ]
  },
  {
   "cell_type": "code",
   "execution_count": 55,
   "metadata": {
    "collapsed": false
   },
   "outputs": [
    {
     "name": "stdout",
     "output_type": "stream",
     "text": [
      "Selected only movies made in the United States.\n"
     ]
    }
   ],
   "source": [
    "#print('Number of movies before: {:,.0f}'.format(len(movies_df)))\n",
    "movies_df = movies_df[movies_df['usa'] == 1]\n",
    "print('Selected only movies made in the United States.')\n",
    "#print('Number of movies after: {:,.0f}'.format(len(movies_df)))"
   ]
  },
  {
   "cell_type": "markdown",
   "metadata": {},
   "source": [
    "### Movies from when?\n",
    "\n",
    "Assuming we have appropriately selected \"Hollywood movies\" as our object of study, \"Hollywood\" means something very different now than it did many years ago. We are interested mostly in the Hollywood of today, but we do also want to look back a bit to see if the situation has changed. Eliminating the very oldest movies will serve another purpose also: we know that our dataset is less complete for the earliest years, so this eliminates a possible source of bias.\n",
    "\n",
    "So we want to look back into the past, but not too far into the past - but when exactly is our cutoff for which movies to include? I picked 1969, which was the first full year in which MPAA ratings had replaced the Hays Code. That seems like as good a place as any to draw a line between \"Old Hollywood\" and \"Modern Hollywood.\"\n",
    "\n",
    "If you'd like to draw that line at a different point instead, change the value of <code>firstyear</code> in the very first line of the Code block below, then rerun everything below that point."
   ]
  },
  {
   "cell_type": "code",
   "execution_count": 61,
   "metadata": {
    "collapsed": false
   },
   "outputs": [
    {
     "name": "stdout",
     "output_type": "stream",
     "text": [
      "Selected only movies released since 1969.\n"
     ]
    }
   ],
   "source": [
    "firstyear = 1969\n",
    "movies_df = movies_df[movies_df['bechdel_year'] >= firstyear]\n",
    "print('Selected only movies released since {:.0f}.'.format(firstyear))"
   ]
  },
  {
   "cell_type": "markdown",
   "metadata": {},
   "source": [
    "Cool, so how many movies does that leave us with? And how many do we have complete data for?\n",
    "\n",
    "Our dataset is such that every movie included has a Bechdel test result, but not every movie has financial data. Run the next Code block to see how many movies we are dealing with."
   ]
  },
  {
   "cell_type": "code",
   "execution_count": 64,
   "metadata": {
    "collapsed": false
   },
   "outputs": [
    {
     "data": {
      "text/html": [
       "<h3>Number of movies in our study sample</h3>"
      ],
      "text/plain": [
       "<IPython.core.display.HTML object>"
      ]
     },
     "metadata": {},
     "output_type": "display_data"
    },
    {
     "name": "stdout",
     "output_type": "stream",
     "text": [
      "Total number of movies: 4,252\n",
      "Movies with Bechdel test results: 4,252\n",
      "\n",
      "Movies with box office receipt data: 3,486\n",
      "Movies with budget, profit, and ROI data: 2,409\n"
     ]
    }
   ],
   "source": [
    "display(HTML('<h3>Number of movies in our study sample</h3>'.format(firstyear)))\n",
    "\n",
    "print('Total number of movies: {:,.0f}'.format(len(movies_df)))\n",
    "print('Movies with Bechdel test results: {:,.0f}'.format(len(movies_df[~pd.isnull(movies_df['bechdel_rating'])])))\n",
    "print('')\n",
    "print('Movies with box office receipt data: {:,.0f}'.format(len(movies_df[~pd.isnull(movies_df['boxoffice_adj'])])))\n",
    "print('Movies with budget, profit, and ROI data: {:,.0f}'.format(len(movies_df[~pd.isnull(movies_df['profit_adj'])])))"
   ]
  },
  {
   "cell_type": "markdown",
   "metadata": {},
   "source": [
    "It's hard to find sample sizes for either the 538 study or Keegan's study (I'll see if I can find them laters), I'm pretty sure ours is the largest study of this kind ever undertaken.\n",
    "\n",
    "w00t!"
   ]
  },
  {
   "cell_type": "markdown",
   "metadata": {},
   "source": [
    "## Whyfore art thou, Bechdel?\n",
    "### (AKA are we using the right methodology to answer our questions?)\n",
    "\n",
    "So now we know which movies are in for our study, and which are out. Next up: considering whether the Bechdel test is even a useful way to understand the representation of women in movies.\n",
    "\n",
    "I have my doubts, and maybe we can come up with a better metric later &mdash; but for now, the Bechdel test seems like the only game in town, so let's roll with it.\n",
    "\n",
    "Next question: how do we treat the Bechdel test? Because it's a three-part test, so you could easily imagine scoring it: zero points if there are one or zero women, one point if there are 2+ but they don't talk to each other, two points if they talk about a man, and three points for a full pass. I'll consider that in an appendix here. But I think it's more in line with the original purpose of the test to consider it as a hard pass/fail. That has another advantage: having only two (ordered) categories makes our analysis easier to undertake, interpret, and explain."
   ]
  },
  {
   "cell_type": "code",
   "execution_count": 66,
   "metadata": {
    "collapsed": false
   },
   "outputs": [
    {
     "data": {
      "text/html": [
       "<p>Created new variable with hard pass/fail Bechdel test results: <code>bechdel_passed</code></p>"
      ],
      "text/plain": [
       "<IPython.core.display.HTML object>"
      ]
     },
     "metadata": {},
     "output_type": "display_data"
    }
   ],
   "source": [
    "# Create a new variable called 'bechdel_passed': 1 for films that pass the test, 0 for films that fail.\n",
    "movies_df['bechdel_passed'] = np.where(movies_df['bechdel_rating'] == 3, 1, 0)\n",
    "display(HTML('<p>Created new variable with hard pass/fail Bechdel test results: <code>bechdel_passed</code></p>'))"
   ]
  },
  {
   "cell_type": "markdown",
   "metadata": {},
   "source": [
    "Which movies pass or fail the Bechdel test? As I said, I'm not entirely sure the Bechdel test is the right metric for measuring the representation of <a href='https://www.youtube.com/watch?v=KCjMZMxNr-0'>women in film</a>.\n",
    "\n",
    "Let's look at a few movies and apply some common sense check whether we think the Bechdel test is a legit way of looking at the representation of women (in stats lingo: testing for <em>face validity</em>). Run the code block below to see some movies that both fail and pass the Bechdel test. For both failures and passes, the code shows three randomly chosen movies followed by the five highest-grossing movies. They are displayed in a table. The last column of each table has a follow-able link to that movie's entry on the Bechdel test site, so you can see the text from the original submitter explaining why s/he scored that movie the way s/he did.\n",
    "\n",
    "Run the Code block below. Read the four lists of movies and ask yourself (to put it somewhat necessarily bluntly): Do I buy it?"
   ]
  },
  {
   "cell_type": "code",
   "execution_count": 81,
   "metadata": {
    "collapsed": false,
    "scrolled": true
   },
   "outputs": [
    {
     "data": {
      "text/html": [
       "<h3>Movies that fail the Bechdel test</h3>"
      ],
      "text/plain": [
       "<IPython.core.display.HTML object>"
      ]
     },
     "metadata": {},
     "output_type": "display_data"
    },
    {
     "data": {
      "text/html": [
       "<h4>Three randomly-chosen movies that fail the Bechdel test:</h4>"
      ],
      "text/plain": [
       "<IPython.core.display.HTML object>"
      ]
     },
     "metadata": {},
     "output_type": "display_data"
    },
    {
     "data": {
      "text/html": [
       "<table><tr><th>Title</th><th>Year</th><th>Box office (Dec-2016 $)</th><th>Link</th></tr><tr><td>Master and Commander: The Far Side of the World</td><td>2003</td><td style=\"text-align:right\">$122,909,676</td><td><a href='http://www.bechdeltest.com/view/841' target=\"_blank\">http://www.bechdeltest.com/view/841</a></td></tr><tr><td>Sessions, The</td><td>2012</td><td style=\"text-align:right\">$6,264,925</td><td><a href='http://www.bechdeltest.com/view/3710' target=\"_blank\">http://www.bechdeltest.com/view/3710</a></td></tr><tr><td>Interview, The</td><td>2014</td><td style=\"text-align:right\">$6,278,126</td><td><a href='http://www.bechdeltest.com/view/6001' target=\"_blank\">http://www.bechdeltest.com/view/6001</a></td></tr></table>"
      ],
      "text/plain": [
       "<IPython.core.display.HTML object>"
      ]
     },
     "metadata": {},
     "output_type": "display_data"
    },
    {
     "data": {
      "text/html": [
       "<h4>The five highest-grossing movies that fail the Bechdel test:</h2>"
      ],
      "text/plain": [
       "<IPython.core.display.HTML object>"
      ]
     },
     "metadata": {},
     "output_type": "display_data"
    },
    {
     "data": {
      "text/html": [
       "<table><tr><th>Title</th><th>Year</th><th>Box office (Dec-2016 $)</th><th>Link</th></tr><tr><td>Star Wars</td><td>1977</td><td style=\"text-align:right\">$1,845,765,685</td><td><a href='http://www.bechdeltest.com/view/669' target=\"_blank\">http://www.bechdeltest.com/view/669</a></td></tr><tr><td>Star Wars: Episode V - The Empire Strikes Back</td><td>1980</td><td style=\"text-align:right\">$856,735,206</td><td><a href='http://www.bechdeltest.com/view/670' target=\"_blank\">http://www.bechdeltest.com/view/670</a></td></tr><tr><td>Avatar</td><td>2009</td><td style=\"text-align:right\">$850,251,110</td><td><a href='http://www.bechdeltest.com/view/582' target=\"_blank\">http://www.bechdeltest.com/view/582</a></td></tr><tr><td>Sting, The</td><td>1973</td><td style=\"text-align:right\">$834,123,140</td><td><a href='http://www.bechdeltest.com/view/2316' target=\"_blank\">http://www.bechdeltest.com/view/2316</a></td></tr><tr><td>Godfather, The</td><td>1972</td><td style=\"text-align:right\">$787,082,380</td><td><a href='http://www.bechdeltest.com/view/2224' target=\"_blank\">http://www.bechdeltest.com/view/2224</a></td></tr></table>"
      ],
      "text/plain": [
       "<IPython.core.display.HTML object>"
      ]
     },
     "metadata": {},
     "output_type": "display_data"
    },
    {
     "data": {
      "text/html": [
       "<h3>Movies that pass the Bechdel test</h3>"
      ],
      "text/plain": [
       "<IPython.core.display.HTML object>"
      ]
     },
     "metadata": {},
     "output_type": "display_data"
    },
    {
     "data": {
      "text/html": [
       "<h4>Three randomly-chosen movies that pass the Bechdel test:</h4>"
      ],
      "text/plain": [
       "<IPython.core.display.HTML object>"
      ]
     },
     "metadata": {},
     "output_type": "display_data"
    },
    {
     "data": {
      "text/html": [
       "<table><tr><th>Title</th><th>Year</th><th>Box office (Dec-2016 $)</th><th>Link</th></tr><tr><td>You Will Meet a Tall Dark Stranger</td><td>2010</td><td style=\"text-align:right\">$3,589,683</td><td><a href='http://www.bechdeltest.com/view/1518' target=\"_blank\">http://www.bechdeltest.com/view/1518</a></td></tr><tr><td>Spring Breakers</td><td>2012</td><td style=\"text-align:right\">$14,649,700</td><td><a href='http://www.bechdeltest.com/view/3874' target=\"_blank\">http://www.bechdeltest.com/view/3874</a></td></tr><tr><td>Stoker</td><td>2013</td><td style=\"text-align:right\">$1,766,480</td><td><a href='http://www.bechdeltest.com/view/4281' target=\"_blank\">http://www.bechdeltest.com/view/4281</a></td></tr></table>"
      ],
      "text/plain": [
       "<IPython.core.display.HTML object>"
      ]
     },
     "metadata": {},
     "output_type": "display_data"
    },
    {
     "data": {
      "text/html": [
       "<h4>The five highest-grossing movies that pass the Bechdel test:</h2>"
      ],
      "text/plain": [
       "<IPython.core.display.HTML object>"
      ]
     },
     "metadata": {},
     "output_type": "display_data"
    },
    {
     "data": {
      "text/html": [
       "<table><tr><th>Title</th><th>Year</th><th>Box office (Dec-2016 $)</th><th>Link</th></tr><tr><td>Jaws</td><td>1975</td><td style=\"text-align:right\">$1,171,125,373</td><td><a href='http://www.bechdeltest.com/view/2561' target=\"_blank\">http://www.bechdeltest.com/view/2561</a></td></tr><tr><td>E.T.: The Extra-Terrestrial</td><td>1982</td><td style=\"text-align:right\">$1,082,985,683</td><td><a href='http://www.bechdeltest.com/view/1645' target=\"_blank\">http://www.bechdeltest.com/view/1645</a></td></tr><tr><td>Exorcist, The</td><td>1973</td><td style=\"text-align:right\">$1,057,426,936</td><td><a href='http://www.bechdeltest.com/view/751' target=\"_blank\">http://www.bechdeltest.com/view/751</a></td></tr><tr><td>Titanic</td><td>1997</td><td style=\"text-align:right\">$985,893,188</td><td><a href='http://www.bechdeltest.com/view/345' target=\"_blank\">http://www.bechdeltest.com/view/345</a></td></tr><tr><td>Star Wars: The Force Awakens</td><td>2015</td><td style=\"text-align:right\">$956,094,427</td><td><a href='http://www.bechdeltest.com/view/6610' target=\"_blank\">http://www.bechdeltest.com/view/6610</a></td></tr></table>"
      ],
      "text/plain": [
       "<IPython.core.display.HTML object>"
      ]
     },
     "metadata": {},
     "output_type": "display_data"
    }
   ],
   "source": [
    "display(HTML('<h3>Movies that fail the Bechdel test</h3>'))\n",
    "\n",
    "display(HTML('<h4>Three randomly-chosen movies that fail the Bechdel test:</h4>'))\n",
    "random_failers = movies_df.dropna()[['title','bechdel_year','boxoffice_adj','bechdel_site_id']][movies_df['bechdel_passed'] == 0].sample(3).sort_values(['bechdel_year','title']).values.tolist()\n",
    "\n",
    "# Surely there is an easier way to print a pandas dataframe as a well-formatted table?\n",
    "#### Maybe by sending a dictionary of styles to .style.format()? Halp?\n",
    "#### But anyway, this kinda-hacky code does what needs doing.\n",
    "y = '<table>'\n",
    "y += '<tr>'\n",
    "y += '<th>Title</th>'\n",
    "y += '<th>Year</th>'\n",
    "y += '<th>Box office (Dec-2016 $)</th>'\n",
    "y += '<th>Link</th>'\n",
    "y += '</tr>'\n",
    "for row in random_failers:\n",
    "    link = 'http://www.bechdeltest.com/view/'+str(row[3])\n",
    "    link_str = '<a href=\\''+link+'\\' target=\"_blank\">'+link+'</a>'\n",
    "    y += '<tr>'\n",
    "    y += '<td>{:}</td>'.format(row[0])\n",
    "    y += '<td>{:.0f}</td>'.format(row[1])\n",
    "    y += '<td style=\"text-align:right\">${:,.0f}</td>'.format(row[2])\n",
    "    y += '<td>{:}</td>'.format(link_str)\n",
    "    y += '</tr>'\n",
    "y += '</table>'\n",
    "display(HTML(y))\n",
    "\n",
    "display(HTML('<h4>The five highest-grossing movies that fail the Bechdel test:</h2>'))\n",
    "highest_failers = movies_df[['title','bechdel_year','boxoffice_adj','bechdel_site_id']][movies_df['bechdel_passed'] == 0].sort_values('boxoffice_adj',ascending=False).head(5).values.tolist()\n",
    "\n",
    "y = '<table>'\n",
    "y += '<tr>'\n",
    "y += '<th>Title</th>'\n",
    "y += '<th>Year</th>'\n",
    "y += '<th>Box office (Dec-2016 $)</th>'\n",
    "y += '<th>Link</th>'\n",
    "y += '</tr>'\n",
    "for row in highest_failers:\n",
    "    link = 'http://www.bechdeltest.com/view/'+str(row[3])\n",
    "    link_str = '<a href=\\''+link+'\\' target=\"_blank\">'+link+'</a>'\n",
    "    y += '<tr>'\n",
    "    y += '<td>{:}</td>'.format(row[0])\n",
    "    y += '<td>{:.0f}</td>'.format(row[1])\n",
    "    y += '<td style=\"text-align:right\">${:,.0f}</td>'.format(row[2])\n",
    "    y += '<td>{:}</td>'.format(link_str)\n",
    "    y += '</tr>'\n",
    "y += '</table>'\n",
    "display(HTML(y))\n",
    "\n",
    "display(HTML('<h3>Movies that pass the Bechdel test</h3>'))\n",
    "\n",
    "display(HTML('<h4>Three randomly-chosen movies that pass the Bechdel test:</h4>'))\n",
    "random_passers = movies_df.dropna()[['title','bechdel_year','boxoffice_adj','bechdel_site_id']][movies_df['bechdel_passed'] == 1].sample(3).sort_values(['bechdel_year','title']).values.tolist()\n",
    "\n",
    "# Surely there is an easier way to print a pandas dataframe as a well-formatted table?\n",
    "#### Maybe by sending a dictionary of styles to .style.format()? Halp?\n",
    "#### But anyway, this kinda-hacky code does what needs doing.\n",
    "y = '<table>'\n",
    "y += '<tr>'\n",
    "y += '<th>Title</th>'\n",
    "y += '<th>Year</th>'\n",
    "y += '<th>Box office (Dec-2016 $)</th>'\n",
    "y += '<th>Link</th>'\n",
    "y += '</tr>'\n",
    "for row in random_passers:\n",
    "    link = 'http://www.bechdeltest.com/view/'+str(row[3])\n",
    "    link_str = '<a href=\\''+link+'\\' target=\"_blank\">'+link+'</a>'\n",
    "    y += '<tr>'\n",
    "    y += '<td>{:}</td>'.format(row[0])\n",
    "    y += '<td>{:.0f}</td>'.format(row[1])\n",
    "    y += '<td style=\"text-align:right\">${:,.0f}</td>'.format(row[2])\n",
    "    y += '<td>{:}</td>'.format(link_str)\n",
    "    y += '</tr>'\n",
    "y += '</table>'\n",
    "display(HTML(y))\n",
    "\n",
    "display(HTML('<h4>The five highest-grossing movies that pass the Bechdel test:</h2>'))\n",
    "highest_passers = movies_df[['title','bechdel_year','boxoffice_adj','bechdel_site_id']][movies_df['bechdel_passed'] == 1].sort_values('boxoffice_adj',ascending=False).head(5).values.tolist()\n",
    "\n",
    "y = '<table>'\n",
    "y += '<tr>'\n",
    "y += '<th>Title</th>'\n",
    "y += '<th>Year</th>'\n",
    "y += '<th>Box office (Dec-2016 $)</th>'\n",
    "y += '<th>Link</th>'\n",
    "y += '</tr>'\n",
    "for row in highest_passers:\n",
    "    link = 'http://www.bechdeltest.com/view/'+str(row[3])\n",
    "    link_str = '<a href=\\''+link+'\\' target=\"_blank\">'+link+'</a>'\n",
    "    y += '<tr>'\n",
    "    y += '<td>{:}</td>'.format(row[0])\n",
    "    y += '<td>{:.0f}</td>'.format(row[1])\n",
    "    y += '<td style=\"text-align:right\">${:,.0f}</td>'.format(row[2])\n",
    "    y += '<td>{:}</td>'.format(link_str)\n",
    "    y += '</tr>'\n",
    "y += '</table>'\n",
    "display(HTML(y))"
   ]
  },
  {
   "cell_type": "markdown",
   "metadata": {},
   "source": [
    "For now, it makes more sense to consider the Bechdel test as a straight-up pass/fail test. If a movie features two women talking about something other than a man, it passes the Bechdel test. If not, it fails. Consider \"partial pass\" later."
   ]
  },
  {
   "cell_type": "code",
   "execution_count": 8,
   "metadata": {
    "collapsed": false
   },
   "outputs": [
    {
     "data": {
      "text/html": [
       "<h2>Total movies with Bechel test pass/fail results</h2>"
      ],
      "text/plain": [
       "<IPython.core.display.HTML object>"
      ]
     },
     "metadata": {},
     "output_type": "display_data"
    },
    {
     "data": {
      "text/html": [
       "<style  type=\"text/css\" >\n",
       "</style>  \n",
       "<table id=\"T_3d5c407e_667b_11e7_a98d_0242ac110002\" > \n",
       "<thead>    <tr> \n",
       "        <th class=\"blank level0\" ></th> \n",
       "        <th class=\"col_heading level0 col0\" >result</th> \n",
       "        <th class=\"col_heading level0 col1\" >nMovies</th> \n",
       "        <th class=\"col_heading level0 col2\" >percentage</th> \n",
       "    </tr>    <tr> \n",
       "        <th class=\"index_name level0\" >bechdel_passed</th> \n",
       "        <th class=\"blank\" ></th> \n",
       "        <th class=\"blank\" ></th> \n",
       "        <th class=\"blank\" ></th> \n",
       "    </tr></thead> \n",
       "<tbody>    <tr> \n",
       "        <th id=\"T_3d5c407e_667b_11e7_a98d_0242ac110002level0_row0\" class=\"row_heading level0 row0\" >0</th> \n",
       "        <td id=\"T_3d5c407e_667b_11e7_a98d_0242ac110002row0_col0\" class=\"data row0 col0\" >Fail      </td> \n",
       "        <td id=\"T_3d5c407e_667b_11e7_a98d_0242ac110002row0_col1\" class=\"data row0 col1\" >2,480</td> \n",
       "        <td id=\"T_3d5c407e_667b_11e7_a98d_0242ac110002row0_col2\" class=\"data row0 col2\" >40%</td> \n",
       "    </tr>    <tr> \n",
       "        <th id=\"T_3d5c407e_667b_11e7_a98d_0242ac110002level0_row1\" class=\"row_heading level0 row1\" >1</th> \n",
       "        <td id=\"T_3d5c407e_667b_11e7_a98d_0242ac110002row1_col0\" class=\"data row1 col0\" >Pass      </td> \n",
       "        <td id=\"T_3d5c407e_667b_11e7_a98d_0242ac110002row1_col1\" class=\"data row1 col1\" >3,727</td> \n",
       "        <td id=\"T_3d5c407e_667b_11e7_a98d_0242ac110002row1_col2\" class=\"data row1 col2\" >60%</td> \n",
       "    </tr></tbody> \n",
       "</table> "
      ],
      "text/plain": [
       "<pandas.io.formats.style.Styler at 0x7fd7b6967e80>"
      ]
     },
     "execution_count": 8,
     "metadata": {},
     "output_type": "execute_result"
    }
   ],
   "source": [
    "movies_df['bechdel_passed'] = np.where((movies_df['bechdel_rating'] == 3), 1, 0)\n",
    "\n",
    "display(HTML('<h2>Total movies with Bechel test pass/fail results</h2>'))\n",
    "bechdel_result_table = pd.DataFrame()\n",
    "bechdel_result_table['nMovies'] = movies_df.groupby('bechdel_passed').size()\n",
    "bechdel_result_table['result'] = ''\n",
    "bechdel_result_table['result'] = np.where(bechdel_result_table.index == 0, 'Fail',bechdel_result_table['result'])\n",
    "bechdel_result_table['result'] = np.where(bechdel_result_table.index == 1, 'Pass',bechdel_result_table['result'])\n",
    "bechdel_result_table['percentage'] = 100 * (bechdel_result_table['nMovies'] / len(movies_df))\n",
    "bechdel_result_table[['result','nMovies','percentage']].style.format({'result': '{:10}', 'nMovies': '{:,.0f}', 'percentage': '{0:.0f}%'})\n",
    "# I made this table again but only with movies that have profit data - percentages are identical.\n",
    "#bechdel_result_table2['nMovies'] = movies_df[~pd.isnull(movies_df['profit_adj'])].groupby('bechdel_rating').size()"
   ]
  },
  {
   "cell_type": "code",
   "execution_count": 9,
   "metadata": {
    "collapsed": false
   },
   "outputs": [
    {
     "name": "stdout",
     "output_type": "stream",
     "text": [
      "Each year since 1969, an additional 0.45% of movies pass the Bechdel test (r^2 = 0.54).\n"
     ]
    },
    {
     "data": {
      "image/png": "[encoded data removed]",
      "text/plain": [
       "<matplotlib.figure.Figure at 0x7fd7b69955f8>"
      ]
     },
     "metadata": {},
     "output_type": "display_data"
    },
    {
     "name": "stdout",
     "output_type": "stream",
     "text": [
      "At this rate of increase, all movies will pass the Bechdel test in the year 2092.\n"
     ]
    }
   ],
   "source": [
    "#import statsmodels.formula.api as smf\n",
    "#from scipy import ols\n",
    "firstyear = 1969 # first year after the Hays code ended\n",
    "lastyear = 2016 # last full year in dataset\n",
    "avg_bechdel = movies_df.groupby('bechdel_year')['bechdel_passed'].agg(np.mean)\n",
    "avg_bechdel.index.name = 'date'\n",
    "avg_bechdel.name = 'bechdel'\n",
    "avg_bechdel = avg_bechdel[(avg_bechdel.index >= firstyear) & (avg_bechdel.index <= lastyear)]\n",
    "avg_bechdel = avg_bechdel.reset_index()\n",
    "#avg_bechdel\n",
    "\n",
    "stdevm_bechdel = movies_df.groupby('bechdel_year')['bechdel_passed'].agg(np.std) / movies_df.groupby('bechdel_year')['bechdel_passed'].size()\n",
    "stdevm_bechdel.index.name = 'date'\n",
    "stdevm_bechdel.name = 'bechdel'\n",
    "stdevm_bechdel = stdevm_bechdel[(stdevm_bechdel.index >= firstyear) & (stdevm_bechdel.index <= lastyear)]\n",
    "stdevm_bechdel = stdevm_bechdel.reset_index()\n",
    "\n",
    "# multiply both by 100 to express as percentage\n",
    "avg_bechdel['bechdel'] = avg_bechdel['bechdel'] * 100\n",
    "#stdevm_bechdel['bechdel'] = stdevm_bechdel['bechdel'] * 100\n",
    "\n",
    "#errorbarsy = stdevm_bechdel.get_values()\n",
    "\n",
    "[slope,intercept,rvalue,pvalue,stderr] = linregress(avg_bechdel['date'],avg_bechdel['bechdel'])\n",
    "#print(slope,intercept,rvalue)\n",
    "r_squared = rvalue ** 2\n",
    "\n",
    "print('Each year since {0:.0f}, an additional {1:.2f}% of movies pass the Bechdel test (r^2 = {2:.2f}).'.format(firstyear,slope,r_squared))\n",
    "\n",
    "predicted = pd.DataFrame({\"date\": np.linspace(start=1969.,stop=2969.,num=1001)})\n",
    "predicted['bechdel'] = slope*predicted['date'] + intercept\n",
    "\n",
    "# Plot the observed data\n",
    "plt.errorbar(avg_bechdel['date'],avg_bechdel['bechdel'],yerr=stdevm_bechdel['bechdel'],c='b',label='Observed')\n",
    "# Plot the predictions from the model\n",
    "plt.plot(predicted['date'],predicted['bechdel'],c='r',label='Linear model',lw=3)\n",
    "plt.legend(loc='lower right')\n",
    "plt.ylim((0,100))\n",
    "plt.xlim((1969,2016))\n",
    "plt.xlabel('Year')\n",
    "plt.ylabel('Percent of movies that pass the Bechdel test')\n",
    "plt.show()\n",
    "everything_passes_year = predicted['date'].loc[predicted['bechdel'] >= 100].agg(np.min)\n",
    "print('At this rate of increase, all movies will pass the Bechdel test in the year {0:.0f}.'.format(everything_passes_year))"
   ]
  },
  {
   "cell_type": "markdown",
   "metadata": {},
   "source": [
    "## Do films that pass the Bechdel test have different budgets than films that fail?"
   ]
  },
  {
   "cell_type": "code",
   "execution_count": 10,
   "metadata": {
    "collapsed": false
   },
   "outputs": [
    {
     "name": "stdout",
     "output_type": "stream",
     "text": [
      "Median budget of films that fail the Bechdel test: $51,537,320.\n",
      "Median budget of films that pass the Bechdel test: $31,971,396.\n"
     ]
    },
    {
     "data": {
      "image/png": "[encoded data removed]",
      "text/plain": [
       "<matplotlib.figure.Figure at 0x7fd7b6996ba8>"
      ]
     },
     "metadata": {},
     "output_type": "display_data"
    }
   ],
   "source": [
    "#x = movies_df['bechdel_passed'].apply(lambda x:float(x)+np.random.normal(0, 0.05))\n",
    "#y = movies_df['budget_adj']\n",
    "failer_budgets = movies_df.dropna()['budget_adj'][movies_df['bechdel_passed'] == 0]\n",
    "passer_budgets = movies_df.dropna()['budget_adj'][movies_df['bechdel_passed'] == 1]\n",
    "#plt.hist(failer_budgets,bins=30)\n",
    "\n",
    "print('Median budget of films that fail the Bechdel test: ${0:,.0f}.'.format(failer_budgets.agg(np.median)))\n",
    "print('Median budget of films that pass the Bechdel test: ${0:,.0f}.'.format(passer_budgets.agg(np.median)))\n",
    "\n",
    "# Calculate best bin widths by Freedman-Draconis rule.\n",
    "#The bin-width is set to h = 2 * IQR * n^(−1/3).\n",
    "#So the number of bins is (max−min)/h.\n",
    "\n",
    "fail_n = len(failer_budgets)\n",
    "fail_iqr = scipy.stats.iqr(failer_budgets)\n",
    "fail_binwidth = 2 * fail_iqr * (fail_n ** (-1/3))\n",
    "fail_bins = (np.max(failer_budgets) - np.min(failer_budgets)) / fail_binwidth\n",
    "\n",
    "pass_n = len(passer_budgets)\n",
    "pass_iqr = scipy.stats.iqr(passer_budgets)\n",
    "pass_binwidth = 2 * pass_iqr * (pass_n ** (-1/3))\n",
    "pass_bins = (np.max(passer_budgets) - np.min(passer_budgets)) / pass_binwidth\n",
    "\n",
    "nbins = int(np.round(np.mean([fail_bins,pass_bins]),0))\n",
    "#print(nbins)\n",
    "\n",
    "fig = plt.figure(figsize=(12,12))\n",
    "\n",
    "ax1 = fig.add_subplot(221)\n",
    "ax1.hist(failer_budgets,bins=nbins,range=(0,500000000))\n",
    "plt.ylim([0,300])\n",
    "plt.xlabel('Budget (Dec-2016$)')\n",
    "plt.ylabel('Number of movies')\n",
    "plt.title('Fail')\n",
    "\n",
    "ax2 = fig.add_subplot(222)\n",
    "ax2.hist(passer_budgets,bins=nbins,range=(0,500000000))\n",
    "plt.ylim([0,300])\n",
    "plt.xlabel('Budget (million Dec-2016$)')\n",
    "plt.ylabel('Number of movies')\n",
    "plt.title('Pass')\n",
    "\n",
    "fig.show()\n"
   ]
  },
  {
   "cell_type": "markdown",
   "metadata": {},
   "source": [
    "Because budgets vary so widely, it's hard to spot any difference there. Let's try graphing with a log scale for budget."
   ]
  },
  {
   "cell_type": "code",
   "execution_count": 12,
   "metadata": {
    "collapsed": false
   },
   "outputs": [
    {
     "data": {
      "image/png": "[encoded data removed]",
      "text/plain": [
       "<matplotlib.figure.Figure at 0x7fd7b6996898>"
      ]
     },
     "metadata": {},
     "output_type": "display_data"
    }
   ],
   "source": [
    "fig = plt.figure(figsize=(12,12))\n",
    "\n",
    "failer_budgets_logged = np.log10(failer_budgets)\n",
    "passer_budgets_logged = np.log10(passer_budgets)\n",
    "\n",
    "faillog_n = len(failer_budgets_logged)\n",
    "faillog_iqr = scipy.stats.iqr(failer_budgets_logged)\n",
    "faillog_binwidth = 2 * faillog_iqr * (faillog_n ** (-1/3))\n",
    "faillog_bins = (np.max(failer_budgets_logged) - np.min(failer_budgets_logged)) / faillog_binwidth\n",
    "\n",
    "passlog_n = len(passer_budgets_logged)\n",
    "passlog_iqr = scipy.stats.iqr(passer_budgets_logged)\n",
    "passlog_binwidth = 2 * passlog_iqr * (passlog_n ** (-1/3))\n",
    "passlog_bins = (np.max(passer_budgets_logged) - np.min(passer_budgets_logged)) / faillog_binwidth\n",
    "\n",
    "nbins = int(np.round(np.mean([faillog_bins,passlog_bins]),0))\n",
    "\n",
    "ax1 = fig.add_subplot(221)\n",
    "ax1.hist(failer_budgets_logged,bins=nbins)#,range=(0.1,9))\n",
    "plt.xlim([4,9])\n",
    "plt.ylim([0,100])\n",
    "plt.xlabel('Budget (Dec-2016$): LOG SCALE')\n",
    "plt.ylabel('Number of movies')\n",
    "plt.title('Fail')\n",
    "\n",
    "ax2 = fig.add_subplot(222)\n",
    "ax2.hist(passer_budgets_logged,bins=nbins)#,range=(0,500000000))\n",
    "plt.xlim([4,9])\n",
    "plt.ylim([0,100])\n",
    "plt.xlabel('Budget (million Dec-2016$): LOG SCALE')\n",
    "plt.ylabel('Number of movies')\n",
    "plt.title('Pass')\n",
    "\n",
    "fig.show()\n"
   ]
  },
  {
   "cell_type": "code",
   "execution_count": 11,
   "metadata": {
    "collapsed": false
   },
   "outputs": [
    {
     "data": {
      "text/html": [
       "<p>Aside: The five movies made on a budget of $10,000 or less (before inflation adjustment):</p>"
      ],
      "text/plain": [
       "<IPython.core.display.HTML object>"
      ]
     },
     "metadata": {},
     "output_type": "display_data"
    },
    {
     "data": {
      "text/html": [
       "<div>\n",
       "<style>\n",
       "    .dataframe thead tr:only-child th {\n",
       "        text-align: right;\n",
       "    }\n",
       "\n",
       "    .dataframe thead th {\n",
       "        text-align: left;\n",
       "    }\n",
       "\n",
       "    .dataframe tbody tr th {\n",
       "        vertical-align: top;\n",
       "    }\n",
       "</style>\n",
       "<table border=\"1\" class=\"dataframe\">\n",
       "  <thead>\n",
       "    <tr style=\"text-align: right;\">\n",
       "      <th></th>\n",
       "      <th>title</th>\n",
       "      <th>bechdel_year</th>\n",
       "      <th>budget</th>\n",
       "      <th>budget_adj</th>\n",
       "    </tr>\n",
       "    <tr>\n",
       "      <th>imdb_id</th>\n",
       "      <th></th>\n",
       "      <th></th>\n",
       "      <th></th>\n",
       "      <th></th>\n",
       "    </tr>\n",
       "  </thead>\n",
       "  <tbody>\n",
       "    <tr>\n",
       "      <th>154506</th>\n",
       "      <td>Following</td>\n",
       "      <td>1998</td>\n",
       "      <td>6000.0</td>\n",
       "      <td>8715.956679</td>\n",
       "    </tr>\n",
       "    <tr>\n",
       "      <th>390384</th>\n",
       "      <td>Primer</td>\n",
       "      <td>2004</td>\n",
       "      <td>7000.0</td>\n",
       "      <td>8852.928235</td>\n",
       "    </tr>\n",
       "    <tr>\n",
       "      <th>104815</th>\n",
       "      <td>El Mariachi</td>\n",
       "      <td>1992</td>\n",
       "      <td>7000.0</td>\n",
       "      <td>11810.090846</td>\n",
       "    </tr>\n",
       "    <tr>\n",
       "      <th>123948</th>\n",
       "      <td>Cure</td>\n",
       "      <td>1997</td>\n",
       "      <td>10000.0</td>\n",
       "      <td>13601.802817</td>\n",
       "    </tr>\n",
       "    <tr>\n",
       "      <th>255094</th>\n",
       "      <td>Circle, The</td>\n",
       "      <td>2000</td>\n",
       "      <td>10000.0</td>\n",
       "      <td>13702.156640</td>\n",
       "    </tr>\n",
       "  </tbody>\n",
       "</table>\n",
       "</div>"
      ],
      "text/plain": [
       "               title  bechdel_year   budget    budget_adj\n",
       "imdb_id                                                  \n",
       "154506     Following          1998   6000.0   8715.956679\n",
       "390384        Primer          2004   7000.0   8852.928235\n",
       "104815   El Mariachi          1992   7000.0  11810.090846\n",
       "123948          Cure          1997  10000.0  13601.802817\n",
       "255094   Circle, The          2000  10000.0  13702.156640"
      ]
     },
     "execution_count": 11,
     "metadata": {},
     "output_type": "execute_result"
    }
   ],
   "source": [
    "display(HTML('<p>Aside: The five movies made on a budget of $10,000 or less (before inflation adjustment):</p>'))\n",
    "movies_df[['title','bechdel_year','budget','budget_adj']][movies_df['budget'] <= 10000].sort_values('budget_adj',ascending=True)"
   ]
  },
  {
   "cell_type": "markdown",
   "metadata": {},
   "source": [
    "Is the difference in median budgets statistically significant? Use a Mann-Whitney U test to find out."
   ]
  },
  {
   "cell_type": "code",
   "execution_count": 13,
   "metadata": {
    "collapsed": false
   },
   "outputs": [
    {
     "name": "stdout",
     "output_type": "stream",
     "text": [
      "Is the difference in median budgets statistically significant?\n",
      "Yes\n",
      "p-value:  1.34331353462e-09\n"
     ]
    },
    {
     "data": {
      "text/html": [
       "<h1>Calculate effect size also!</h1>"
      ],
      "text/plain": [
       "<IPython.core.display.HTML object>"
      ]
     },
     "metadata": {},
     "output_type": "display_data"
    }
   ],
   "source": [
    "print('Is the difference in median budgets statistically significant?')\n",
    "[ustat, pvalue] = scipy.stats.mannwhitneyu(failer_budgets, passer_budgets, use_continuity=True, alternative='two-sided')\n",
    "if (pvalue < .05):\n",
    "    print('Yes')\n",
    "else:\n",
    "    print('No')\n",
    "print('p-value: ',pvalue)\n",
    "\n",
    "display(HTML('<h1>Calculate effect size also!</h1>'))"
   ]
  },
  {
   "cell_type": "markdown",
   "metadata": {},
   "source": [
    "# PROFITS\n",
    "\n",
    "Now what about profit?"
   ]
  },
  {
   "cell_type": "code",
   "execution_count": 29,
   "metadata": {
    "collapsed": false
   },
   "outputs": [
    {
     "name": "stdout",
     "output_type": "stream",
     "text": [
      "Min: -191,927,138 Max: 418,412,321\n",
      "Min: -212,540,529 Max: 643,746,083\n"
     ]
    },
    {
     "data": {
      "image/png": "[encoded data removed]",
      "text/plain": [
       "<matplotlib.figure.Figure at 0x7fd7b6059630>"
      ]
     },
     "metadata": {},
     "output_type": "display_data"
    }
   ],
   "source": [
    "failer_profits = movies_df.dropna()['profit_adj'][movies_df['bechdel_passed'] == 0]\n",
    "passer_profits = movies_df.dropna()['profit_adj'][movies_df['bechdel_passed'] == 1]\n",
    "\n",
    "#print('Median profit of films that fail the Bechdel test: ${0:,.0f}.'.format(failer_budgets.agg(np.median)))\n",
    "#print('Median budget of films that pass the Bechdel test: ${0:,.0f}.'.format(passer_budgets.agg(np.median)))\n",
    "\n",
    "# Calculate best bin widths by Freedman-Draconis rule.\n",
    "#The bin-width is set to h = 2 * IQR * n^(−1/3).\n",
    "#So the number of bins is (max−min)/h.\n",
    "\n",
    "fail_n = len(failer_profits)\n",
    "fail_iqr = scipy.stats.iqr(failer_profits)\n",
    "fail_binwidth = 2 * fail_iqr * (fail_n ** (-1/3))\n",
    "fail_bins = (np.max(failer_profits) - np.min(failer_profits)) / fail_binwidth\n",
    "#print(fail_bins)\n",
    "\n",
    "pass_n = len(passer_profits)\n",
    "pass_iqr = scipy.stats.iqr(passer_profits)\n",
    "pass_binwidth = 2 * fail_iqr * (fail_n ** (-1/3))\n",
    "pass_bins = (np.max(passer_profits) - np.min(passer_profits)) / pass_binwidth\n",
    "#print(pass_bins)\n",
    "nbins = int(np.round(np.mean([fail_bins,pass_bins]),0))\n",
    "#print(nbins)\n",
    "\n",
    "fig = plt.figure(figsize=(12,12))\n",
    "\n",
    "ax1 = fig.add_subplot(221)\n",
    "ax1.hist(failer_profits,bins=nbins)#,range=(-30000000,1000000000))\n",
    "plt.ylim([0,35])\n",
    "plt.xlabel('Profit (Dec-2016$)')\n",
    "plt.ylabel('Number of movies')\n",
    "plt.title('Fail')\n",
    "\n",
    "ax2 = fig.add_subplot(222)\n",
    "ax2.hist(passer_profits,bins=nbins)#,range=(-30000000,1000000000))\n",
    "plt.ylim([0,35])\n",
    "plt.xlabel('Profit (million Dec-2016$)')\n",
    "plt.ylabel('Number of movies')\n",
    "plt.title('Pass')\n",
    "print('Min: {0:,.0f} Max: {1:,.0f}'.format(np.min(failer_profits),np.max(failer_profits)))\n",
    "print('Min: {0:,.0f} Max: {1:,.0f}'.format(np.min(passer_profits),np.max(passer_profits)))\n",
    "#fig.show()\n",
    "z  = movies_df[['title','bechdel_year','budget_adj','boxoffice_adj','profit_adj']][movies_df['title'] == 'Star Wars'].values.tolist()"
   ]
  },
  {
   "cell_type": "markdown",
   "metadata": {},
   "source": [
    "# Below here, I consider \"partial pass\" results also"
   ]
  },
  {
   "cell_type": "code",
   "execution_count": null,
   "metadata": {
    "collapsed": false
   },
   "outputs": [],
   "source": [
    "display(HTML('<h2>Total movies with Bechel test results</h2>'))\n",
    "bechdel_result_table = pd.DataFrame()\n",
    "bechdel_result_table['nMovies'] = movies_df.groupby('bechdel_rating').size()\n",
    "bechdel_result_table['result'] = ''\n",
    "bechdel_result_table['result'] = np.where(bechdel_result_table.index == 0, 'Fewer than two women',bechdel_result_table['result'])\n",
    "bechdel_result_table['result'] = np.where(bechdel_result_table.index == 1, 'Women don\\'t talk',bechdel_result_table['result'])\n",
    "bechdel_result_table['result'] = np.where(bechdel_result_table.index == 2, 'Women talk about a man',bechdel_result_table['result'])\n",
    "bechdel_result_table['result'] = np.where(bechdel_result_table.index == 3, 'Passes Bechdel test',bechdel_result_table['result'])\n",
    "bechdel_result_table['percentage'] = 100 * (bechdel_result_table['nMovies'] / len(movies_df))\n",
    "bechdel_result_table[['result','nMovies','percentage']].style.format({'result': '{:10}', 'nMovies': '{:,.0f}', 'percentage': '{0:.0f}%'})\n",
    "# I made this table again but only with movies that have profit data - percentages are identical.\n",
    "#bechdel_result_table2['nMovies'] = movies_df[~pd.isnull(movies_df['profit_adj'])].groupby('bechdel_rating').size()"
   ]
  },
  {
   "cell_type": "markdown",
   "metadata": {},
   "source": [
    "We can also estimate a statistical model to forecast future changes in the average Bechdel score over time. We observe a general upward trend in movies passing more of the Bechdel test and can try to extrapolate this going forward."
   ]
  },
  {
   "cell_type": "code",
   "execution_count": null,
   "metadata": {
    "collapsed": false
   },
   "outputs": [],
   "source": [
    "#import statsmodels.formula.api as smf\n",
    "#from scipy import ols\n",
    "firstyear = 1969 # first year after the Hays code ended\n",
    "lastyear = 2016 # last full year in dataset\n",
    "avg_bechdel = movies_df.groupby('bechdel_year')['bechdel_rating'].agg(np.mean)\n",
    "avg_bechdel.index.name = 'date'\n",
    "avg_bechdel.name = 'bechdel'\n",
    "avg_bechdel = avg_bechdel[(avg_bechdel.index >= firstyear) & (avg_bechdel.index <= lastyear)]\n",
    "avg_bechdel = avg_bechdel.reset_index()\n",
    "#avg_bechdel\n",
    "\n",
    "stdevm_bechdel = movies_df.groupby('bechdel_year')['bechdel_rating'].agg(np.std) / movies_df.groupby('bechdel_year')['bechdel_rating'].size()\n",
    "stdevm_bechdel = stdevm_bechdel[(stdevm_bechdel.index >= firstyear) & (stdevm_bechdel.index <= lastyear)]\n",
    "\n",
    "errorbarsy = stdevm_bechdel.get_values()\n",
    "\n",
    "[slope,intercept,rvalue,pvalue,stderr] = linregress(avg_bechdel['date'],avg_bechdel['bechdel'])\n",
    "#print(slope,intercept,rvalue)\n",
    "r_squared = rvalue ** 2\n",
    "\n",
    "print('Regression model: Bechdel test scores have increased by {0:.3f} each year since {1:.0f}, with r^2 = {2:.2f}.'.format(slope,firstyear,r_squared))\n",
    "predicted = pd.DataFrame({\"date\": np.linspace(start=1969.,stop=2016.,num=48)})\n",
    "predicted['bechdel'] = slope*predicted['date'] + intercept\n",
    "\n",
    "# Plot the observed data\n",
    "plt.errorbar(avg_bechdel['date'],avg_bechdel['bechdel'],yerr=errorbarsy,c='b',label='Observed')\n",
    "# Plot the predictions from the model\n",
    "plt.plot(predicted['date'],predicted['bechdel'],c='r',label='Linear model',lw=3)\n",
    "plt.legend(loc='lower right')\n",
    "plt.ylim((0,3))\n",
    "plt.xlim((1969,2016))\n",
    "plt.xlabel('Year')\n",
    "plt.ylabel('Avg. Bechdel Test')\n",
    "plt.show()"
   ]
  },
  {
   "cell_type": "code",
   "execution_count": null,
   "metadata": {
    "collapsed": false
   },
   "outputs": [],
   "source": [
    "movies_df['bechdel_passed'] = np.where((movies_df['bechdel_rating'] == 3), 1, 0)\n",
    "\n",
    "display(HTML('<h2>Total movies with Bechel test pass/fail results</h2>'))\n",
    "bechdel_result_table = pd.DataFrame()\n",
    "bechdel_result_table['nMovies'] = movies_df.groupby('bechdel_passed').size()\n",
    "bechdel_result_table['result'] = ''\n",
    "bechdel_result_table['result'] = np.where(bechdel_result_table.index == 0, 'Fail',bechdel_result_table['result'])\n",
    "bechdel_result_table['result'] = np.where(bechdel_result_table.index == 1, 'Pass',bechdel_result_table['result'])\n",
    "bechdel_result_table['percentage'] = 100 * (bechdel_result_table['nMovies'] / len(movies_df))\n",
    "bechdel_result_table[['result','nMovies','percentage']].style.format({'result': '{:10}', 'nMovies': '{:,.0f}', 'percentage': '{0:.0f}%'})\n",
    "# I made this table again but only with movies that have profit data - percentages are identical.\n",
    "#bechdel_result_table2['nMovies'] = movies_df[~pd.isnull(movies_df['profit_adj'])].groupby('bechdel_rating').size()"
   ]
  },
  {
   "cell_type": "code",
   "execution_count": null,
   "metadata": {
    "collapsed": false
   },
   "outputs": [],
   "source": [
    "#import statsmodels.formula.api as smf\n",
    "#from scipy import ols\n",
    "firstyear = 1969 # first year after the Hays code ended\n",
    "lastyear = 2016 # last full year in dataset\n",
    "avg_bechdel = movies_df.groupby('bechdel_year')['bechdel_passed'].agg(np.mean)\n",
    "avg_bechdel.index.name = 'date'\n",
    "avg_bechdel.name = 'bechdel'\n",
    "avg_bechdel = avg_bechdel[(avg_bechdel.index >= firstyear) & (avg_bechdel.index <= lastyear)]\n",
    "avg_bechdel = avg_bechdel.reset_index()\n",
    "#avg_bechdel\n",
    "\n",
    "stdevm_bechdel = movies_df.groupby('bechdel_year')['bechdel_passed'].agg(np.std) / movies_df.groupby('bechdel_year')['bechdel_passed'].size()\n",
    "stdevm_bechdel.index.name = 'date'\n",
    "stdevm_bechdel.name = 'bechdel'\n",
    "stdevm_bechdel = stdevm_bechdel[(stdevm_bechdel.index >= firstyear) & (stdevm_bechdel.index <= lastyear)]\n",
    "stdevm_bechdel = stdevm_bechdel.reset_index()\n",
    "\n",
    "# multiply both by 100 to express as percentage\n",
    "avg_bechdel['bechdel'] = avg_bechdel['bechdel'] * 100\n",
    "#stdevm_bechdel['bechdel'] = stdevm_bechdel['bechdel'] * 100\n",
    "\n",
    "#errorbarsy = stdevm_bechdel.get_values()\n",
    "\n",
    "[slope,intercept,rvalue,pvalue,stderr] = linregress(avg_bechdel['date'],avg_bechdel['bechdel'])\n",
    "#print(slope,intercept,rvalue)\n",
    "r_squared = rvalue ** 2\n",
    "\n",
    "print('Regression model: Each year since {0:.0f}, an additional {1:.2f}% of movies pass the Bechdel test (r^2 = {2:.2f}).'.format(firstyear,slope,r_squared))\n",
    "\n",
    "predicted = pd.DataFrame({\"date\": np.linspace(start=1969.,stop=2969.,num=1001)})\n",
    "predicted['bechdel'] = slope*predicted['date'] + intercept\n",
    "\n",
    "# Plot the observed data\n",
    "plt.errorbar(avg_bechdel['date'],avg_bechdel['bechdel'],yerr=stdevm_bechdel['bechdel'],c='b',label='Observed')\n",
    "# Plot the predictions from the model\n",
    "plt.plot(predicted['date'],predicted['bechdel'],c='r',label='Linear model',lw=3)\n",
    "plt.legend(loc='lower right')\n",
    "plt.ylim((0,100))\n",
    "plt.xlim((1969,2016))\n",
    "plt.xlabel('Year')\n",
    "plt.ylabel('Percent of movies that pass the Bechdel test')\n",
    "plt.show()\n",
    "everything_passes_year = predicted['date'].loc[predicted['bechdel'] >= 100].agg(np.min)\n",
    "print('At this rate of increase, all movies will pass the Bechdel test in the year {0:.0f}.'.format(everything_passes_year))"
   ]
  },
  {
   "cell_type": "markdown",
   "metadata": {},
   "source": [
    "As I discussed above, the claim that budgets for Bechdel-passing movies is relatively uncontroversial and given the description of the data in the article, should be easy to reproduce. Visualizing the distribution of the data, there are no strong differences that jump out but if you squint hard enough, you can make out a negative trend: movies passing the Bechdel test have lower budgets.\n",
    "\n",
    "You'll notice each cloud of points around 0, 1, 2, and 3. These are simply \"jittered\" by adding a bit of normally-distributed errors to the plots (but not the underlying data we're estimating) to show the frequency of datapoints without them all sitting on top of each other."
   ]
  },
  {
   "cell_type": "code",
   "execution_count": null,
   "metadata": {
    "collapsed": false
   },
   "outputs": [],
   "source": [
    "x = movies_df['bechdel_rating'].apply(lambda x:float(x)+np.random.normal(0, 0.05))\n",
    "y = movies_df['budget_adj']\n",
    "\n",
    "# Plot with an alpha so the overlaps reveal something about relative density\n",
    "plt.scatter(x,y,alpha=.2,label='Data',c='g')\n",
    "plt.ylabel('Budgets (Dec-2016 $)',fontsize=18)\n",
    "plt.xlabel('Bechdel dimensions',fontsize=18)\n",
    "plt.xticks(np.arange(0,4))\n",
    "plt.yscale('log')\n",
    "plt.grid(False,which='minor')\n",
    "#plt.ylim((2e0,1e10))"
   ]
  },
  {
   "cell_type": "markdown",
   "metadata": {},
   "source": [
    "We can also visualize the median budgets with a bar chart to see that movies featuring two women who don't talk to each other appear to have much larger budgets than the rest. Movies that pass the Bechdel test also appear to have slightly smaller budgets than movies that don't pass."
   ]
  },
  {
   "cell_type": "code",
   "execution_count": null,
   "metadata": {
    "collapsed": false
   },
   "outputs": [],
   "source": [
    "print(groupby)\n",
    "movies_df['budget_adj'].groupby(movies_df['bechdel_rating']).agg(np.median).plot(kind='barh')\n",
    "#plt.xticks(range(0,7e7,1e7),range(0,70,10),fontsize=15)\n",
    "#plt.xticks(range(0e7,7e7,1e7),range(0,70,10),fontsize=15)\n",
    "plt.xticks(range(0,60000000,10000000),range(0,60,10),fontsize=15)\n",
    "plt.yticks(plt.yticks()[0],[\"Fewer than two women\",\n",
    "                             \"Women don't talk to each other\",\n",
    "                             'Women only talk about men',\n",
    "                             'Passes Bechdel Test'\n",
    "                             ],fontsize=18)\n",
    "plt.xlabel('Budget (Dec-2016 $millions)',fontsize=18)\n",
    "plt.title('Median Budget for Films',fontsize=24)\n",
    "plt.ylabel('')\n",
    "plt.show()"
   ]
  },
  {
   "cell_type": "code",
   "execution_count": null,
   "metadata": {
    "collapsed": false
   },
   "outputs": [],
   "source": []
  },
  {
   "cell_type": "code",
   "execution_count": null,
   "metadata": {
    "collapsed": true
   },
   "outputs": [],
   "source": []
  }
 ],
 "metadata": {
  "kernelspec": {
   "display_name": "Python 3",
   "language": "python",
   "name": "python3"
  },
  "language_info": {
   "codemirror_mode": {
    "name": "ipython",
    "version": 3
   },
   "file_extension": ".py",
   "mimetype": "text/x-python",
   "name": "python",
   "nbconvert_exporter": "python",
   "pygments_lexer": "ipython3",
   "version": "3.5.3"
  }
 },
 "nbformat": 4,
 "nbformat_minor": 0
}
