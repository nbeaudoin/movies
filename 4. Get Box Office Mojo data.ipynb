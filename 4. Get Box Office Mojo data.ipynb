{
 "cells": [
  {
   "cell_type": "code",
   "execution_count": 4,
   "metadata": {
    "collapsed": false,
    "scrolled": false
   },
   "outputs": [
    {
     "name": "stdout",
     "output_type": "stream",
     "text": [
      "Done\n"
     ]
    }
   ],
   "source": [
    "import pandas as pd\n",
    "import numpy as np\n",
    "\n",
    "boxofficemojo_df = pd.read_csv('boxofficemojo2000s_in.csv')\n",
    "boxofficemojo_df = boxofficemojo_df.set_index(['key'])\n",
    "\n",
    "boxofficemojo_df = boxofficemojo_df.rename(columns = {'opening_year':'year','opening_month':'month','opening_day':'day'})\n",
    "boxofficemojo_df[['originalorder','totalgross','totaltheaters','openinggross','openingtheaters','year','month','day']] = boxofficemojo_df[['originalorder','totalgross','totaltheaters','openinggross','openingtheaters','year','month','day']].replace([u'',u'nan'],[np.nan,np.nan])\n",
    "\n",
    "boxofficemojo_df['totalgross'] = boxofficemojo_df['totalgross'].dropna().str.replace('$','').str.replace(',','')\n",
    "boxofficemojo_df['totalgross'] = pd.to_numeric(boxofficemojo_df['totalgross'])\n",
    "boxofficemojo_df['openinggross'] = boxofficemojo_df['openinggross'].dropna().str.replace('$','').str.replace(',','')\n",
    "boxofficemojo_df['openinggross'] = pd.to_numeric(boxofficemojo_df['openinggross'])\n",
    "\n",
    "boxofficemojo_df['totaltheaters'] = boxofficemojo_df['totaltheaters'].dropna().str.replace(',','')\n",
    "boxofficemojo_df['totaltheaters'] = pd.to_numeric(boxofficemojo_df['totaltheaters'])\n",
    "boxofficemojo_df['openingtheaters'] = boxofficemojo_df['openingtheaters'].dropna().str.replace(',','')\n",
    "boxofficemojo_df['openingtheaters'] = pd.to_numeric(boxofficemojo_df['openingtheaters'])\n",
    "\n",
    "boxofficemojo_df['release_date'] = pd.to_datetime(boxofficemojo_df[['year', 'month', 'day']])#,errors=coerce)\n",
    "#print(pd.to_datetime(boxofficemojo_df[['year', 'month', 'day']]),errors=coerce)\n",
    "#print('done')\n",
    "#boxofficemojo_df[['key','title','year','month','day']]\n",
    "\n",
    "boxofficemojo_df.sort_index()\n",
    "\n",
    "#boxofficemojo_df.groupby(['day']).size()\n",
    "#boxofficemojo_df[boxofficemojo_df['key']=='zombied11dawn']\n",
    "#boxofficemojo_df.loc[boxofficemojo_df['year']==15]\n",
    "boxofficemojo_df = boxofficemojo_df.drop(['year','month','day','originalorder'],axis=1)\n",
    "boxofficemojo_df.to_csv('boxofficemojo2000s.csv')\n",
    "print('Done')"
   ]
  },
  {
   "cell_type": "code",
   "execution_count": null,
   "metadata": {
    "collapsed": true
   },
   "outputs": [],
   "source": []
  }
 ],
 "metadata": {
  "kernelspec": {
   "display_name": "Python 3",
   "language": "python",
   "name": "python3"
  },
  "language_info": {
   "codemirror_mode": {
    "name": "ipython",
    "version": 3
   },
   "file_extension": ".py",
   "mimetype": "text/x-python",
   "name": "python",
   "nbconvert_exporter": "python",
   "pygments_lexer": "ipython3",
   "version": "3.5.3"
  }
 },
 "nbformat": 4,
 "nbformat_minor": 0
}
