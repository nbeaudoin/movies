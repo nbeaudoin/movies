{
 "cells": [
  {
   "cell_type": "markdown",
   "metadata": {},
   "source": [
    "# Das Bechdel test: Data and Methods\n",
    "\n",
    "Lots of people have studied the effects of the Bechdel test on movies: in particular <a href=\"https://fivethirtyeight.com/tag/bechdel-test/\">several articles on fivethirtyeight.com</a> and <a href=\"http://www.brianckeegan.com/2014/04/the-need-for-openness-in-data-journalism/\">an article by Brian Keegan extending 538's work</a>. These are some notes from my own exploration of the topic. Maybe to be turned into a blog post or paper.\n",
    "\n",
    "As I reminder, the Bechdel test is way of evaluating movie scripts on their representation of women. It says: \"There are two women and they talk to each other about something other than a man.\" That seems like a ridiculously low bar, but still at least 40% of movies fail it."
   ]
  },
  {
   "cell_type": "markdown",
   "metadata": {},
   "source": [
    "## Getting the data\n",
    "\n",
    "First, some preliminaries (importing needed Python packages). Then, load the data. Let's assume here that I did that data-ing correctly. See scripts numbered 1 through 6 to see how I got to this point. One thing to keep in mind is that whenever I quote budgets or profits, those have already been inflation-adjusted to be in Dec-2016 dollar values (that happens in script #6).\n",
    "\n",
    "If you are looking at this through a Jupyter notebook interface, you can run the Code block below by clicking on it and pressing Shift-Enter. It should result in a message that says \"Dataset loaded\"."
   ]
  },
  {
   "cell_type": "code",
   "execution_count": 51,
   "metadata": {
    "collapsed": false
   },
   "outputs": [
    {
     "name": "stdout",
     "output_type": "stream",
     "text": [
      "Dataset loaded\n",
      "Stringing...\n",
      "Decommifying...\n"
     ]
    },
    {
     "data": {
      "text/plain": [
       "imdb_id\n",
       "3          imdb_id\\n3                860\\n12             ...\n",
       "12         imdb_id\\n3                860\\n12             ...\n",
       "14         imdb_id\\n3                860\\n12             ...\n",
       "91         imdb_id\\n3                860\\n12             ...\n",
       "131        imdb_id\\n3                860\\n12             ...\n",
       "211        imdb_id\\n3                860\\n12             ...\n",
       "230        imdb_id\\n3                860\\n12             ...\n",
       "246        imdb_id\\n3                860\\n12             ...\n",
       "272        imdb_id\\n3                860\\n12             ...\n",
       "300        imdb_id\\n3                860\\n12             ...\n",
       "304        imdb_id\\n3                860\\n12             ...\n",
       "306        imdb_id\\n3                860\\n12             ...\n",
       "313        imdb_id\\n3                860\\n12             ...\n",
       "359        imdb_id\\n3                860\\n12             ...\n",
       "413        imdb_id\\n3                860\\n12             ...\n",
       "417        imdb_id\\n3                860\\n12             ...\n",
       "439        imdb_id\\n3                860\\n12             ...\n",
       "455        imdb_id\\n3                860\\n12             ...\n",
       "499        imdb_id\\n3                860\\n12             ...\n",
       "554        imdb_id\\n3                860\\n12             ...\n",
       "567        imdb_id\\n3                860\\n12             ...\n",
       "574        imdb_id\\n3                860\\n12             ...\n",
       "1009       imdb_id\\n3                860\\n12             ...\n",
       "2101       imdb_id\\n3                860\\n12             ...\n",
       "2281       imdb_id\\n3                860\\n12             ...\n",
       "3424       imdb_id\\n3                860\\n12             ...\n",
       "3512       imdb_id\\n3                860\\n12             ...\n",
       "3973       imdb_id\\n3                860\\n12             ...\n",
       "4972       imdb_id\\n3                860\\n12             ...\n",
       "6745       imdb_id\\n3                860\\n12             ...\n",
       "                                 ...                        \n",
       "5274066    imdb_id\\n3                860\\n12             ...\n",
       "5294198    imdb_id\\n3                860\\n12             ...\n",
       "5311514    imdb_id\\n3                860\\n12             ...\n",
       "53285      imdb_id\\n3                860\\n12             ...\n",
       "5348774    imdb_id\\n3                860\\n12             ...\n",
       "5434870    imdb_id\\n3                860\\n12             ...\n",
       "5442430    imdb_id\\n3                860\\n12             ...\n",
       "5462602    imdb_id\\n3                860\\n12             ...\n",
       "5474644    imdb_id\\n3                860\\n12             ...\n",
       "5493706    imdb_id\\n3                860\\n12             ...\n",
       "5512872    imdb_id\\n3                860\\n12             ...\n",
       "5521550    imdb_id\\n3                860\\n12             ...\n",
       "5526028    imdb_id\\n3                860\\n12             ...\n",
       "5538078    imdb_id\\n3                860\\n12             ...\n",
       "5540622    imdb_id\\n3                860\\n12             ...\n",
       "5580664    imdb_id\\n3                860\\n12             ...\n",
       "5595168    imdb_id\\n3                860\\n12             ...\n",
       "5598192    imdb_id\\n3                860\\n12             ...\n",
       "5664684    imdb_id\\n3                860\\n12             ...\n",
       "5700672    imdb_id\\n3                860\\n12             ...\n",
       "5710514    imdb_id\\n3                860\\n12             ...\n",
       "5740806    imdb_id\\n3                860\\n12             ...\n",
       "5786040    imdb_id\\n3                860\\n12             ...\n",
       "5834660    imdb_id\\n3                860\\n12             ...\n",
       "5929750    imdb_id\\n3                860\\n12             ...\n",
       "5973626    imdb_id\\n3                860\\n12             ...\n",
       "5974388    imdb_id\\n3                860\\n12             ...\n",
       "598828     imdb_id\\n3                860\\n12             ...\n",
       "6264596    imdb_id\\n3                860\\n12             ...\n",
       "6663788    imdb_id\\n3                860\\n12             ...\n",
       "Name: nVotes, Length: 7266, dtype: object"
      ]
     },
     "execution_count": 51,
     "metadata": {},
     "output_type": "execute_result"
    }
   ],
   "source": [
    "#from itertools import product\n",
    "#from matplotlib.collections import LineCollection\n",
    "#import statsmodels.formula.api as smf\n",
    "import numpy as np\n",
    "#import scipy\n",
    "#from scipy.stats import linregress\n",
    "#from matplotlib import pyplot as plt\n",
    "#from IPython.display import Image, display, HTML\n",
    "import pandas\n",
    "#import datetime as datetime\n",
    "#import warnings\n",
    "warnings.filterwarnings('ignore')\n",
    "movies_df = pd.read_csv('movies_for_analysis.csv',encoding='utf-8',index_col='imdb_id')\n",
    "movies_df['released'] = pd.to_datetime(movies_df['released'])\n",
    "print('Dataset loaded')\n",
    "\n",
    "print('Stringing...')\n",
    "movies_df['nVotes'] = movies_df['nVotes'].to_string()\n",
    "print('Decommifying...')\n",
    "#movies_df['nVotes'] = movies_df['nVotes'].apply(lambda x: x.replace(',', ''))\n",
    "#print('Numericking...')\n",
    "#movies_df['nVotes'] = pandas.to_numeric(movies_df['nVotes'])\n",
    "movies_df['nVotes']"
   ]
  },
  {
   "cell_type": "code",
   "execution_count": 37,
   "metadata": {
    "collapsed": false
   },
   "outputs": [
    {
     "name": "stdout",
     "output_type": "stream",
     "text": [
      "Fixing llave...\n",
      "Fixing title...\n",
      "Fixing released...\n",
      "Fixing bechdel_rating...\n",
      "Fixing bechdel_dubious...\n",
      "Fixing boxoffice_adj...\n",
      "Fixing budget_adj...\n",
      "Fixing profit_adj...\n",
      "Fixing roi_adj...\n",
      "Fixing openinggross_adj...\n",
      "Fixing totaltheaters...\n",
      "Fixing openingtheaters...\n",
      "Fixing boxoffice...\n",
      "Fixing budget...\n",
      "Fixing profit...\n",
      "Fixing openinggross...\n",
      "Fixing mpaa_rating...\n",
      "Fixing studio...\n",
      "Fixing nVotes...\n",
      "Fixing userscore...\n",
      "Fixing metascore...\n",
      "Fixing genres...\n",
      "Fixing runtime...\n",
      "Fixing english...\n",
      "Fixing usa...\n",
      "Fixing imdb_plot...\n",
      "Fixing awards...\n",
      "Fixing director...\n",
      "Fixing writers...\n",
      "Fixing actors...\n",
      "Fixing posterlink...\n",
      "Fixing website...\n",
      "Fixing dvd_release_date...\n",
      "Fixing languages...\n",
      "Fixing countries...\n",
      "Fixing all_ratings_list...\n",
      "Fixing bechdel_title...\n",
      "Fixing bechdel_submitter_id...\n",
      "Fixing bechdel_submitted_date...\n",
      "Fixing bechdel_year...\n",
      "Fixing bechdel_site_id...\n",
      "Fixing bechdel_visible...\n",
      "Fixing imdbtitle...\n",
      "Fixing imdbyear...\n",
      "Fixing imdb_release_date...\n",
      "Fixing imdb_boxoffice...\n",
      "Fixing imdb_link...\n",
      "Fixing title_boxofficemojo...\n",
      "Fixing studio_boxofficemojo...\n",
      "Fixing totalgross...\n",
      "Fixing boxofficemojo_url...\n",
      "Fixing release_date...\n",
      "Fixing releasedate_thenumbers...\n",
      "Fixing title_thenumbers...\n",
      "Fixing genre_thenumbers...\n",
      "Fixing budget_thenumbers...\n",
      "Fixing revenue_thenumbers...\n",
      "Fixing year_thenumbers...\n",
      "Fixing has_trailer_thenumbers...\n",
      "Fixing the_numbers_url...\n",
      "Fixing factor...\n",
      "Done\n"
     ]
    }
   ],
   "source": [
    "#movies_df.head(1)\n",
    "import SciServer\n",
    "import string\n",
    "import pandas\n",
    "#from SciServer import CasJobs\n",
    "#movies_df = movies_df.fillna('')\n",
    "\n",
    "#for thiscol in movies_df.columns:\n",
    "#    movies_df[thiscol] = \n",
    "#movies_df[['title','revenue_thenumbers' ]].tail(10)\n",
    "#x = SciServer.CasJobs.uploadPandasDataFrameToTable(movies_df[['budget','profit']], 'yznortaletable', context='MyDB')\n",
    "#print(x)\n",
    "#print('Done')\n",
    "#movies_df.columns\n",
    "\n",
    "columns_need_replacing = ['llave','title','studio','genres','imdb_plot']#,'awards']\n",
    "\n",
    "columns_need_replacing += ['director','writers','actors','posterlink','languages']\n",
    "\n",
    "columns_need_replacing += ['countries','all_ratings_list','bechdel_title']\n",
    "\n",
    "columns_need_replacing += ['imdbtitle']#,'imdb_link','boxofficemojo_url'\n",
    "columns_need_replacing += ['title_thenumbers','the_numbers_url']\n",
    "\n",
    "\n",
    "#tracker = np.empty((len(columns_need_replacing),2),dtype=object)\n",
    "#for i in range(0, len(columns_need_replacing)):\n",
    "#    tracker[i,0] = columns_need_replacing[i]\n",
    "\n",
    "#tracker[:,1] = 0\n",
    "\n",
    "#print(len(columns_need_replacing))\n",
    "#j = 0\n",
    "for thiscol in movies_df.columns:\n",
    "#for thiscol in columns_need_replacing:\n",
    "    print('Fixing {0:}...'.format(thiscol))\n",
    "    for thisid, thisrow in movies_df.iterrows():\n",
    "        if (\"'\" in str(thisrow[thiscol])):\n",
    "            priorloc = 0\n",
    "            tmpstr = ''\n",
    "            u = thisrow[thiscol].count(\"'\")\n",
    "            lenth = len(thisrow[thiscol])\n",
    "            rmn = thisrow[thiscol]\n",
    "            for i in range(0,u):\n",
    "                quoteloc = rmn.find(\"'\")\n",
    "                tmpstr += rmn[0:quoteloc]\n",
    "                tmpstr += \"''\"\n",
    "                rmn = rmn[quoteloc+1:]\n",
    "            tmpstr += rmn\n",
    "            movies_df.loc[thisid, thiscol] = tmpstr\n",
    "\n",
    "        if (',' in str(thisrow[thiscol])):\n",
    "            if (movies_df.loc[thisid, thiscol][0] != '\"'):\n",
    "                movies_df.loc[thisid, thiscol] = '\"' + str(movies_df.loc[thisid, thiscol]) + '\"'\n",
    "\n",
    "#print(tracker)\n",
    "\n",
    "print('Done')\n",
    "#movies_df.sample(10)"
   ]
  },
  {
   "cell_type": "code",
   "execution_count": 38,
   "metadata": {
    "collapsed": false
   },
   "outputs": [
    {
     "name": "stdout",
     "output_type": "stream",
     "text": [
      "Done\n",
      "61\n"
     ]
    },
    {
     "ename": "ValueError",
     "evalue": "Unable to parse string \"\"7,632\"\" at position 1",
     "output_type": "error",
     "traceback": [
      "\u001b[1;31m\u001b[0m",
      "\u001b[1;31mValueError\u001b[0mTraceback (most recent call last)",
      "\u001b[1;32mpandas/_libs/src/inference.pyx\u001b[0m in \u001b[0;36mpandas._libs.lib.maybe_convert_numeric (pandas/_libs/lib.c:55951)\u001b[1;34m()\u001b[0m\n",
      "\u001b[1;31mValueError\u001b[0m: Unable to parse string \"\"7,632\"\"",
      "\nDuring handling of the above exception, another exception occurred:\n",
      "\u001b[1;31mValueError\u001b[0mTraceback (most recent call last)",
      "\u001b[1;32m<ipython-input-38-6c6722be782f>\u001b[0m in \u001b[0;36m<module>\u001b[1;34m()\u001b[0m\n\u001b[0;32m     16\u001b[0m \u001b[1;31m#x_df\u001b[0m\u001b[1;33m\u001b[0m\u001b[1;33m\u001b[0m\u001b[0m\n\u001b[0;32m     17\u001b[0m \u001b[1;31m#movies_df.dtypes\u001b[0m\u001b[1;33m\u001b[0m\u001b[1;33m\u001b[0m\u001b[0m\n\u001b[1;32m---> 18\u001b[1;33m \u001b[0mmovies_df\u001b[0m\u001b[1;33m[\u001b[0m\u001b[1;34m'nVotes'\u001b[0m\u001b[1;33m]\u001b[0m \u001b[1;33m=\u001b[0m \u001b[0mpandas\u001b[0m\u001b[1;33m.\u001b[0m\u001b[0mto_numeric\u001b[0m\u001b[1;33m(\u001b[0m\u001b[0mmovies_df\u001b[0m\u001b[1;33m[\u001b[0m\u001b[1;34m'nVotes'\u001b[0m\u001b[1;33m]\u001b[0m\u001b[1;33m)\u001b[0m\u001b[1;33m\u001b[0m\u001b[0m\n\u001b[0m\u001b[0;32m     19\u001b[0m \u001b[0mmovies_df\u001b[0m\u001b[1;33m[\u001b[0m\u001b[1;34m'nVotes'\u001b[0m\u001b[1;33m]\u001b[0m\u001b[1;33m\u001b[0m\u001b[0m\n",
      "\u001b[1;32m/home/idies/anaconda3/lib/python3.5/site-packages/pandas/core/tools/numeric.py\u001b[0m in \u001b[0;36mto_numeric\u001b[1;34m(arg, errors, downcast)\u001b[0m\n\u001b[0;32m    124\u001b[0m             \u001b[0mcoerce_numeric\u001b[0m \u001b[1;33m=\u001b[0m \u001b[1;32mFalse\u001b[0m \u001b[1;32mif\u001b[0m \u001b[0merrors\u001b[0m \u001b[1;32min\u001b[0m \u001b[1;33m(\u001b[0m\u001b[1;34m'ignore'\u001b[0m\u001b[1;33m,\u001b[0m \u001b[1;34m'raise'\u001b[0m\u001b[1;33m)\u001b[0m \u001b[1;32melse\u001b[0m \u001b[1;32mTrue\u001b[0m\u001b[1;33m\u001b[0m\u001b[0m\n\u001b[0;32m    125\u001b[0m             values = lib.maybe_convert_numeric(values, set(),\n\u001b[1;32m--> 126\u001b[1;33m                                                coerce_numeric=coerce_numeric)\n\u001b[0m\u001b[0;32m    127\u001b[0m \u001b[1;33m\u001b[0m\u001b[0m\n\u001b[0;32m    128\u001b[0m     \u001b[1;32mexcept\u001b[0m \u001b[0mException\u001b[0m\u001b[1;33m:\u001b[0m\u001b[1;33m\u001b[0m\u001b[0m\n",
      "\u001b[1;32mpandas/_libs/src/inference.pyx\u001b[0m in \u001b[0;36mpandas._libs.lib.maybe_convert_numeric (pandas/_libs/lib.c:56433)\u001b[1;34m()\u001b[0m\n",
      "\u001b[1;31mValueError\u001b[0m: Unable to parse string \"\"7,632\"\" at position 1"
     ]
    }
   ],
   "source": [
    "#movies_df.sample(100)\n",
    "from SciServer import CasJobs\n",
    "x_df = movies_df['released']\n",
    "for thiscol in movies_df:\n",
    "    if ((movies_df[thiscol].dtype == 'int64') | (movies_df[thiscol].dtype == 'float64')):\n",
    "        movies_df[thiscol] = movies_df[thiscol].fillna(-1)\n",
    "#    else:\n",
    "#        print(movies_df[thiscol].head(1))\n",
    "\n",
    "#x = CasJobs.uploadPandasDataFrameToTable(x_df, 'movies21', context='MyDB')\n",
    "#print(x)\n",
    "print('Done')\n",
    "y = movies_df.columns\n",
    "print(len(y))\n",
    "movies_df['nVotes'].head(100)\n",
    "#x_df\n",
    "#movies_df.dtypes\n",
    "movies_df['nVotes'] = pandas.to_numeric(movies_df['nVotes'])\n",
    "movies_df['nVotes']"
   ]
  },
  {
   "cell_type": "markdown",
   "metadata": {},
   "source": [
    "## Choosing a study sample\n",
    "\n",
    "Next question: which movies are we going to study? I grabbed a lot of movies in scripts #1-6, but they won't necessarily all be of interest to us. This is where we decide what is in and what is out."
   ]
  },
  {
   "cell_type": "markdown",
   "metadata": {},
   "source": [
    "### Whose movies?\n",
    "\n",
    "The Bechdel test was invented to discuss Hollywood movies, which is a slightly vague and nebulous term. Ideally we would want to consider releases from \"major Hollywood studios,\" but that is hard to define. This is because of the \"Fox Searchlight problem.\" Fox Searchlight is a subsidiary of Fox that distributes foreign films. Should they be considered as a part of 20th Century Fox, or not?\n",
    "\n",
    "Even if that were easy to define, it would still be hard to put into code, because there are so damn many studios represented. Run the code block below to see just how many."
   ]
  },
  {
   "cell_type": "code",
   "execution_count": null,
   "metadata": {
    "collapsed": false
   },
   "outputs": [],
   "source": [
    "display(HTML('<p>The number of unique studios in our dataset (remember, not yet cut on time), according to two sources:'))\n",
    "\n",
    "#movies_df.columns\n",
    "nStudiosIMDb = len(movies_df.groupby('studio'))  # studio data from IMDb\n",
    "nStudiosBOM = len(movies_df.groupby('studio_boxofficemojo')) # studio data from boxofficemojo.com (as of May 2017)\n",
    "\n",
    "print('Number of studios according to IMDb: {0:,.0f}'.format(nStudiosIMDb))\n",
    "print('Number of studios according to Box Office Mojo: {0:,.0f}'.format(nStudiosBOM))\n",
    "print('(Those lists certainly overlap)')"
   ]
  },
  {
   "cell_type": "markdown",
   "metadata": {},
   "source": [
    "So let's try a different approach that is certainly not perfect, but will get us closer to where we want to be: consider only movies made in the US (the value for \"country\" from OMDb includes 'usa')."
   ]
  },
  {
   "cell_type": "code",
   "execution_count": null,
   "metadata": {
    "collapsed": false
   },
   "outputs": [],
   "source": [
    "#print('Number of movies before: {:,.0f}'.format(len(movies_df)))\n",
    "movies_df = movies_df[movies_df['usa'] == 1]\n",
    "print('Selected only movies made in the United States.')\n",
    "#print('Number of movies after: {:,.0f}'.format(len(movies_df)))"
   ]
  },
  {
   "cell_type": "markdown",
   "metadata": {},
   "source": [
    "### Movies from when?\n",
    "\n",
    "Assuming we have appropriately selected \"Hollywood movies\" as our object of study, \"Hollywood\" means something very different now than it did many years ago. We are interested mostly in the Hollywood of today, but we do also want to look back a bit to see if the situation has changed. Eliminating the very oldest movies will serve another purpose also: we know that our dataset is less complete for the earliest years, so this eliminates a possible source of bias.\n",
    "\n",
    "So we want to look back into the past, but not too far into the past - but when exactly is our cutoff for which movies to include? I picked 1969, which was the first full year in which MPAA ratings had replaced the Hays Code. That seems like as good a place as any to draw a line between \"Old Hollywood\" and \"Modern Hollywood.\"\n",
    "\n",
    "If you'd like to draw that line at a different point instead, change the value of <code>firstyear</code> in the very first line of the Code block below, then rerun everything below that point."
   ]
  },
  {
   "cell_type": "code",
   "execution_count": null,
   "metadata": {
    "collapsed": false
   },
   "outputs": [],
   "source": [
    "firstyear = 1969\n",
    "movies_df = movies_df[movies_df['bechdel_year'] >= firstyear]\n",
    "print('Selected only movies released since {:.0f}.'.format(firstyear))"
   ]
  },
  {
   "cell_type": "markdown",
   "metadata": {},
   "source": [
    "Cool, so how many movies does that leave us with? And how many do we have complete data for?\n",
    "\n",
    "Our dataset is such that every movie included has a Bechdel test result, but not every movie has financial data. Run the next Code block to see how many movies we are dealing with."
   ]
  },
  {
   "cell_type": "code",
   "execution_count": null,
   "metadata": {
    "collapsed": false
   },
   "outputs": [],
   "source": [
    "display(HTML('<h3>Number of movies in our study sample</h3>'.format(firstyear)))\n",
    "\n",
    "print('Total number of movies: {:,.0f}'.format(len(movies_df)))\n",
    "print('Movies with Bechdel test results: {:,.0f}'.format(len(movies_df[~pd.isnull(movies_df['bechdel_rating'])])))\n",
    "print('')\n",
    "print('Movies with box office receipt data: {:,.0f}'.format(len(movies_df[~pd.isnull(movies_df['boxoffice_adj'])])))\n",
    "print('Movies with budget, profit, and ROI data: {:,.0f}'.format(len(movies_df[~pd.isnull(movies_df['profit_adj'])])))"
   ]
  },
  {
   "cell_type": "markdown",
   "metadata": {},
   "source": [
    "It's hard to find sample sizes for either the 538 study or Keegan's study (I'll see if I can find them laters), I'm pretty sure ours is the largest study of this kind ever undertaken.\n",
    "\n",
    "w00t!"
   ]
  },
  {
   "cell_type": "markdown",
   "metadata": {},
   "source": [
    "## Whyfore art thou, Bechdel?\n",
    "### (AKA are we using the right methodology to answer our questions?)\n",
    "\n",
    "So now we know which movies are in for our study, and which are out. Next up: considering whether the Bechdel test is even a useful way to understand the representation of women in movies.\n",
    "\n",
    "I have my doubts, and maybe we can come up with a better metric later &mdash; but for now, the Bechdel test seems like the only game in town, so let's roll with it.\n",
    "\n",
    "Next question: how do we treat the Bechdel test? Because it's a three-part test, so you could easily imagine scoring it: zero points if there are one or zero women, one point if there are 2+ but they don't talk to each other, two points if they talk about a man, and three points for a full pass. I'll consider that in an appendix here. But I think it's more in line with the original purpose of the test to consider it as a hard pass/fail. That has another advantage: having only two (ordered) categories makes our analysis easier to undertake, interpret, and explain."
   ]
  },
  {
   "cell_type": "code",
   "execution_count": null,
   "metadata": {
    "collapsed": false
   },
   "outputs": [],
   "source": [
    "# Create a new variable called 'bechdel_passed': 1 for films that pass the test, 0 for films that fail.\n",
    "movies_df['bechdel_passed'] = np.where(movies_df['bechdel_rating'] == 3, 1, 0)\n",
    "display(HTML('<p>Created new variable with hard pass/fail Bechdel test results: <code>bechdel_passed</code>.</p>'))"
   ]
  },
  {
   "cell_type": "markdown",
   "metadata": {},
   "source": [
    "Which movies pass or fail the Bechdel test? As I said, I'm not entirely sure the Bechdel test is the right metric for measuring the representation of <a href='https://www.youtube.com/watch?v=KCjMZMxNr-0'>women in film</a>.\n",
    "\n",
    "Let's look at a few movies and apply some common sense check whether we think the Bechdel test is a legit way of looking at the representation of women (in stats lingo: testing for <em>face validity</em>). Run the code block below to see some movies that both fail and pass the Bechdel test. For both failures and passes, the code shows three randomly chosen movies followed by the five highest-grossing movies. They are displayed in a table. The last column of each table has a follow-able link to that movie's entry on the Bechdel test site, so you can see the text from the original submitter explaining why s/he scored that movie the way s/he did.\n",
    "\n",
    "Run the Code block below. Read the four lists of movies and ask yourself (to put it somewhat necessarily bluntly): Do I buy it?"
   ]
  },
  {
   "cell_type": "code",
   "execution_count": null,
   "metadata": {
    "collapsed": false,
    "scrolled": true
   },
   "outputs": [],
   "source": [
    "display(HTML('<h3>Movies that fail the Bechdel test</h3>'))\n",
    "\n",
    "display(HTML('<h4>Three randomly-chosen movies that fail the Bechdel test:</h4>'))\n",
    "random_failers = movies_df.dropna()[['title','bechdel_year','boxoffice_adj','bechdel_site_id']][movies_df['bechdel_passed'] == 0].sample(3).sort_values(['bechdel_year','title']).values.tolist()\n",
    "\n",
    "# Surely there is an easier way to print a pandas dataframe as a well-formatted table?\n",
    "#### Maybe by sending a dictionary of styles to .style.format()? Halp?\n",
    "#### But anyway, this kinda-hacky code does what needs doing.\n",
    "y = '<table>'\n",
    "y += '<tr>'\n",
    "y += '<th>Title</th>'\n",
    "y += '<th>Year</th>'\n",
    "y += '<th>Box office (Dec-2016 $)</th>'\n",
    "y += '<th>Link</th>'\n",
    "y += '</tr>'\n",
    "for row in random_failers:\n",
    "    link = 'http://www.bechdeltest.com/view/'+str(row[3])\n",
    "    link_str = '<a href=\\''+link+'\\' target=\"_blank\">'+link+'</a>'\n",
    "    y += '<tr>'\n",
    "    y += '<td>{:}</td>'.format(row[0])\n",
    "    y += '<td>{:.0f}</td>'.format(row[1])\n",
    "    y += '<td style=\"text-align:right\">${:,.0f}</td>'.format(row[2])\n",
    "    y += '<td>{:}</td>'.format(link_str)\n",
    "    y += '</tr>'\n",
    "y += '</table>'\n",
    "display(HTML(y))\n",
    "\n",
    "display(HTML('<h4>The five highest-grossing movies that fail the Bechdel test:</h2>'))\n",
    "highest_failers = movies_df[['title','bechdel_year','boxoffice_adj','bechdel_site_id']][movies_df['bechdel_passed'] == 0].sort_values('boxoffice_adj',ascending=False).head(5).values.tolist()\n",
    "\n",
    "y = '<table>'\n",
    "y += '<tr>'\n",
    "y += '<th>Title</th>'\n",
    "y += '<th>Year</th>'\n",
    "y += '<th>Box office (Dec-2016 $)</th>'\n",
    "y += '<th>Link</th>'\n",
    "y += '</tr>'\n",
    "for row in highest_failers:\n",
    "    link = 'http://www.bechdeltest.com/view/'+str(row[3])\n",
    "    link_str = '<a href=\\''+link+'\\' target=\"_blank\">'+link+'</a>'\n",
    "    y += '<tr>'\n",
    "    y += '<td>{:}</td>'.format(row[0])\n",
    "    y += '<td>{:.0f}</td>'.format(row[1])\n",
    "    y += '<td style=\"text-align:right\">${:,.0f}</td>'.format(row[2])\n",
    "    y += '<td>{:}</td>'.format(link_str)\n",
    "    y += '</tr>'\n",
    "y += '</table>'\n",
    "display(HTML(y))\n",
    "\n",
    "display(HTML('<h3>Movies that pass the Bechdel test</h3>'))\n",
    "\n",
    "display(HTML('<h4>Three randomly-chosen movies that pass the Bechdel test:</h4>'))\n",
    "random_passers = movies_df.dropna()[['title','bechdel_year','boxoffice_adj','bechdel_site_id']][movies_df['bechdel_passed'] == 1].sample(3).sort_values(['bechdel_year','title']).values.tolist()\n",
    "\n",
    "# Surely there is an easier way to print a pandas dataframe as a well-formatted table?\n",
    "#### Maybe by sending a dictionary of styles to .style.format()? Halp?\n",
    "#### But anyway, this kinda-hacky code does what needs doing.\n",
    "y = '<table>'\n",
    "y += '<tr>'\n",
    "y += '<th>Title</th>'\n",
    "y += '<th>Year</th>'\n",
    "y += '<th>Box office (Dec-2016 $)</th>'\n",
    "y += '<th>Link</th>'\n",
    "y += '</tr>'\n",
    "for row in random_passers:\n",
    "    link = 'http://www.bechdeltest.com/view/'+str(row[3])\n",
    "    link_str = '<a href=\\''+link+'\\' target=\"_blank\">'+link+'</a>'\n",
    "    y += '<tr>'\n",
    "    y += '<td>{:}</td>'.format(row[0])\n",
    "    y += '<td>{:.0f}</td>'.format(row[1])\n",
    "    y += '<td style=\"text-align:right\">${:,.0f}</td>'.format(row[2])\n",
    "    y += '<td>{:}</td>'.format(link_str)\n",
    "    y += '</tr>'\n",
    "y += '</table>'\n",
    "display(HTML(y))\n",
    "\n",
    "display(HTML('<h4>The five highest-grossing movies that pass the Bechdel test:</h2>'))\n",
    "highest_passers = movies_df[['title','bechdel_year','boxoffice_adj','bechdel_site_id']][movies_df['bechdel_passed'] == 1].sort_values('boxoffice_adj',ascending=False).head(5).values.tolist()\n",
    "\n",
    "y = '<table>'\n",
    "y += '<tr>'\n",
    "y += '<th>Title</th>'\n",
    "y += '<th>Year</th>'\n",
    "y += '<th>Box office (Dec-2016 $)</th>'\n",
    "y += '<th>Link</th>'\n",
    "y += '</tr>'\n",
    "for row in highest_passers:\n",
    "    link = 'http://www.bechdeltest.com/view/'+str(row[3])\n",
    "    link_str = '<a href=\\''+link+'\\' target=\"_blank\">'+link+'</a>'\n",
    "    y += '<tr>'\n",
    "    y += '<td>{:}</td>'.format(row[0])\n",
    "    y += '<td>{:.0f}</td>'.format(row[1])\n",
    "    y += '<td style=\"text-align:right\">${:,.0f}</td>'.format(row[2])\n",
    "    y += '<td>{:}</td>'.format(link_str)\n",
    "    y += '</tr>'\n",
    "y += '</table>'\n",
    "display(HTML(y))"
   ]
  },
  {
   "cell_type": "markdown",
   "metadata": {},
   "source": [
    "### Is the list of movies on bechdeltest.com representative of all movies?\n",
    "\n",
    "tl;dr: NO.\n",
    "\n",
    "If have a representative sample, then every movie in the population (all Hollywood movies) has an equal chance of appearing in the sample (the movies listed on bechdeltest.com). If not, then there is some factor or factors that make the movies on the list different from all movies overall. One possibility is that people who submit movies to bechdeltest.com are more likely to notice and submit movies that pass the Bechdel test, so that the percentage of passes in our dataset is greater than the percentage of passes in all movies. Or it could go the other way - people are more likely to notice and report movies that fail.\n",
    "\n",
    "Lots of people have wondered about the representativeness of movies on bechdeltest.com, but AFAIK no one has examined this question empirically. We can't either with the data we have now - but if we start with a complete list of movies from IMDb then join the bechdeltest.com list to it, we maybe can address this question. I'll address it ma&ntilde;ana.\n",
    "\n",
    "This is not a problem as long as we don't generalize beyond our scope. When we state our conclusions, we must be careful to restrict our statements to being about \"movies reported on bechdeltest.com\" and not just \"movies.\" Watch for that in the writeup."
   ]
  },
  {
   "cell_type": "markdown",
   "metadata": {},
   "source": [
    "# Das Bechdel Test: Results\n",
    "\n",
    "Yay, now we are in a position to explore for results!\n",
    "\n",
    "## How many movies pass the Bechdel test?\n",
    "\n",
    "First-order question: what percentage of movies in our sample pass and fail the Bechdel test?"
   ]
  },
  {
   "cell_type": "code",
   "execution_count": null,
   "metadata": {
    "collapsed": false
   },
   "outputs": [],
   "source": [
    "hollywood_string = ''\n",
    "if (int(movies_df['usa'][movies_df['usa'] == 0].size) == 0):\n",
    "    hollywood_string = 'US-made '\n",
    "display(HTML('<h3>Bechel test pass/fail results for {0:} movies released since {1:.0f} (n = {2:,.0f})</h3>'.format(hollywood_string,firstyear,len(movies_df))))\n",
    "bechdel_result_table = pd.DataFrame()\n",
    "bechdel_result_table['nMovies'] = movies_df.groupby('bechdel_passed').size()\n",
    "bechdel_result_table['result'] = ''\n",
    "bechdel_result_table['result'] = np.where(bechdel_result_table.index == 0, 'Fail',bechdel_result_table['result'])\n",
    "bechdel_result_table['result'] = np.where(bechdel_result_table.index == 1, 'Pass',bechdel_result_table['result'])\n",
    "bechdel_result_table['percentage'] = 100 * (bechdel_result_table['nMovies'] / len(movies_df))\n",
    "\n",
    "# I made this table again but only with movies that have profit data - percentages are identical: 41% fail, 59% pass\n",
    "#bechdel_result_table['nMovies'] = movies_df[~pd.isnull(movies_df['profit_adj'])].groupby('bechdel_rating').size()\n",
    "\n",
    "bechdel_result_table[['result','nMovies','percentage']].style.format({'result': '{:10}', 'nMovies': '{:,.0f}', 'percentage': '{0:.0f}%'})"
   ]
  },
  {
   "cell_type": "markdown",
   "metadata": {},
   "source": [
    "## Bechdel test results over time\n",
    "\n",
    "Now, we're getting to The Interesting Part (note Winnie-the-Pooh Capitals). Have the results changed over time? If we accept that the Bechdel test is an accurate measure of the representation of women in movies (maybe it isn't, but it's the only game in town for quantiative research into this question), then this is a way of asking: has Hollywood's depiction of women in movies changed over the years? Of course, this change could be positive or negative, but we would hope and expect Bechdel test scores to increase with time.\n",
    "\n",
    "Since the Bechdel test for us is a pass/fail (fail = 0, pass = 1), then asking what is the average score in a given year is the same as asking what percentage of films pass the test in that year. That's what the blue line in the graph below shows. The x-axis shows the year and the y-axis shows the percentage of US-made films released in that year that pass the Bechdel test. Error bars are standard error of the mean (stdev/n); note that they are larger in earlier years, when there are fewer movies in the dataset. The red line is explained below the graph."
   ]
  },
  {
   "cell_type": "code",
   "execution_count": null,
   "metadata": {
    "collapsed": false
   },
   "outputs": [],
   "source": [
    "#firstyear = 1969 # first year after the Hays code ended\n",
    "lastyear = 2017 # last full year in dataset\n",
    "avg_bechdel = movies_df.groupby('bechdel_year')['bechdel_passed'].agg(np.mean)\n",
    "avg_bechdel.index.name = 'date'\n",
    "avg_bechdel.name = 'bechdel'\n",
    "avg_bechdel = avg_bechdel[(avg_bechdel.index >= firstyear) & (avg_bechdel.index <= lastyear)]\n",
    "avg_bechdel = avg_bechdel.reset_index()\n",
    "#avg_bechdel\n",
    "\n",
    "stdevm_bechdel = movies_df.groupby('bechdel_year')['bechdel_passed'].agg(np.std) / movies_df.groupby('bechdel_year')['bechdel_passed'].size()\n",
    "stdevm_bechdel.index.name = 'date'\n",
    "stdevm_bechdel.name = 'bechdel'\n",
    "stdevm_bechdel = stdevm_bechdel[(stdevm_bechdel.index >= firstyear) & (stdevm_bechdel.index <= lastyear)]\n",
    "stdevm_bechdel = stdevm_bechdel.reset_index()\n",
    "\n",
    "# multiply both by 100 to express as percentage\n",
    "avg_bechdel['bechdel'] = avg_bechdel['bechdel'] * 100\n",
    "stdevm_bechdel['bechdel'] = stdevm_bechdel['bechdel'] * 100\n",
    "\n",
    "[slope,intercept,rvalue,pvalue,stderr] = linregress(avg_bechdel['date'],avg_bechdel['bechdel'])\n",
    "#print(slope,intercept,rvalue)\n",
    "r_squared = rvalue ** 2\n",
    "\n",
    "predicted = pd.DataFrame({\"date\": np.linspace(start=1969.,stop=2969.,num=1001)})\n",
    "predicted['bechdel'] = slope*predicted['date'] + intercept\n",
    "\n",
    "# Plot the observed data\n",
    "fig = plt.figure(figsize=(18,12))\n",
    "plt.errorbar(avg_bechdel['date'],avg_bechdel['bechdel'],yerr=stdevm_bechdel['bechdel'],c='b',label='Observed')\n",
    "# Plot the predictions from the model\n",
    "plt.plot(predicted['date'],predicted['bechdel'],c='r',label='Linear model',lw=3)\n",
    "plt.legend(loc='lower right', fontsize=30)\n",
    "plt.ylim((0,100))\n",
    "plt.xlim((1969,2017))\n",
    "plt.xlabel('Year', fontsize=30)\n",
    "plt.ylabel('Percent of movies that pass the Bechdel test', fontsize=30)\n",
    "plt.tick_params(axis='both', which='major', labelsize=24)\n",
    "#fig.show()\n",
    "plt.show()\n",
    "everything_passes_year = predicted['date'].loc[predicted['bechdel'] >= 100].agg(np.min)\n",
    "\n",
    "print('Each year since {0:.0f}, an additional {1:.2f}% of movies pass the Bechdel test (r^2 = {2:.2f}; p = {3:.8f}).'.format(firstyear,slope,r_squared,pvalue))\n",
    "print('At this rate of increase, all movies will pass the Bechdel test in the year {0:.0f}.'.format(everything_passes_year))\n",
    "\n",
    "display(HTML('<p><b><font color=\"red\">TODO</font></b>: fit data to a flat model, compare, calculate likelihood ratio.</p>'))"
   ]
  },
  {
   "cell_type": "markdown",
   "metadata": {},
   "source": [
    "The red line is a best-fit statistical model assuming that Bechdel teset scores change linearly with time.\n",
    "\n",
    "The model is described in words below the graph. Each year from 1969 to 2017, an additional 0.49% of movies pass the test. The numbers in parentheses are measures of the degree to which the simple model matches the real-life data. The most important number is r<sup>2</sup>, which varies from 0 to 1. The standards for what r<sup>2</sup> value are \"good enough\" to draw conclusions vary by field and are up to the writer to propose and the reader to evaluate. In this research, r<sup>2</sup> = 0.46 probably counts as a weak effect. It's not compelling, but it's suggestive that Bechdel test scores probably are increasing slowly over time."
   ]
  },
  {
   "cell_type": "markdown",
   "metadata": {},
   "source": [
    "## Bechdel results and budgets\n",
    "\n",
    "The next question - again, one that both fivethirtyeight and Keegan have looked at - is whether there is any relationship between a film's budget and its Bechdel test results. To do that, let's divide our data into two groups: those that fail the Bechdel test and those that pass. Then let's make a histogram that shows how many small-budget vs. big-budget movies are in each category. We don't make any assumptions about what a \"small\" or \"big budget\" is, let's just look at the data."
   ]
  },
  {
   "cell_type": "code",
   "execution_count": null,
   "metadata": {
    "collapsed": false
   },
   "outputs": [],
   "source": [
    "display(HTML('<h3>Budgets of {0:} movies released since {1:.0f} that pass or fail the Bechdel test (n = {2:,.0f})</h3>'.format(hollywood_string,firstyear,len(movies_df))))\n",
    "\n",
    "\n",
    "#x = movies_df['bechdel_passed'].apply(lambda x:float(x)+np.random.normal(0, 0.05))\n",
    "#y = movies_df['budget_adj']\n",
    "failer_budgets = movies_df.dropna()['budget_adj'][movies_df['bechdel_passed'] == 0]\n",
    "passer_budgets = movies_df.dropna()['budget_adj'][movies_df['bechdel_passed'] == 1]\n",
    "#plt.hist(failer_budgets,bins=30)\n",
    "\n",
    "# Calculate best bin widths by Freedman-Draconis rule.\n",
    "#The bin-width is set to h = 2 * IQR * n^(−1/3).\n",
    "#So the number of bins is (max−min)/h.\n",
    "\n",
    "fail_n = len(failer_budgets)\n",
    "fail_iqr = scipy.stats.iqr(failer_budgets)\n",
    "fail_binwidth = 2 * fail_iqr * (fail_n ** (-1/3))\n",
    "fail_bins = (np.max(failer_budgets) - np.min(failer_budgets)) / fail_binwidth\n",
    "\n",
    "pass_n = len(passer_budgets)\n",
    "pass_iqr = scipy.stats.iqr(passer_budgets)\n",
    "pass_binwidth = 2 * pass_iqr * (pass_n ** (-1/3))\n",
    "pass_bins = (np.max(passer_budgets) - np.min(passer_budgets)) / pass_binwidth\n",
    "\n",
    "nbins = int(np.round(np.mean([fail_bins,pass_bins]),0))\n",
    "#print(nbins)\n",
    "\n",
    "fig = plt.figure(figsize=(18,18))\n",
    "\n",
    "ax1 = fig.add_subplot(221)\n",
    "ax1.hist(failer_budgets,bins=nbins,range=(0,500000000))\n",
    "plt.ylim([0,300])\n",
    "plt.xlabel('Budget (Dec-2016$)')\n",
    "plt.ylabel('Number of movies')\n",
    "plt.title('Fail')\n",
    "\n",
    "ax2 = fig.add_subplot(222)\n",
    "ax2.hist(passer_budgets,bins=nbins,range=(0,500000000))\n",
    "plt.ylim([0,300])\n",
    "plt.xlabel('Budget (million Dec-2016$)')\n",
    "plt.ylabel('Number of movies')\n",
    "plt.title('Pass')\n",
    "\n",
    "fig.show()\n"
   ]
  },
  {
   "cell_type": "code",
   "execution_count": null,
   "metadata": {
    "collapsed": false
   },
   "outputs": [],
   "source": [
    "display(HTML('<p>Movie budgets vary widely.</p>'))\n",
    "movies_df[['title','bechdel_year','budget','budget_adj']].sort_values('budget_adj',ascending=True).head(5)  # five lowest budgets\n",
    "#movies_df[['title','bechdel_year','budget','budget_adj']].sort_values('budget_adj',ascending=False).head(5) # five highest budgets\n",
    "\n",
    "lowest_budget_movie = movies_df.sort_values('budget_adj')['title'].iloc[0]\n",
    "lowest_budget_year = movies_df.sort_values('budget_adj')['bechdel_year'].iloc[0]\n",
    "lowest_budget_budget_raw = movies_df.sort_values('budget_adj')['budget'].iloc[0]\n",
    "lowest_budget_budget_adj = movies_df.sort_values('budget_adj')['budget_adj'].iloc[0]\n",
    "\n",
    "print('For example:')\n",
    "print('{0:} was made for ${1:,.0f} in {2:.0f} (${3:,.0f} Dec-2016-adjusted).'.format(lowest_budget_movie,lowest_budget_budget_raw,lowest_budget_year,lowest_budget_budget_adj))\n",
    "print('...while...')\n",
    "\n",
    "highest_budget_movie = movies_df.sort_values('budget_adj',ascending=False)['title'].iloc[0]\n",
    "highest_budget_year = movies_df.sort_values('budget_adj',ascending=False)['bechdel_year'].iloc[0]\n",
    "highest_budget_budget_raw = movies_df.sort_values('budget_adj',ascending=False)['budget'].iloc[0]\n",
    "highest_budget_budget_adj = movies_df.sort_values('budget_adj',ascending=False)['budget_adj'].iloc[0]\n",
    "\n",
    "print('{0:} was made for ${1:,.0f} in {2:.0f} (${3:,.0f} Dec-2016-adjusted).'.format(highest_budget_movie,highest_budget_budget_raw,highest_budget_year,highest_budget_budget_adj))"
   ]
  },
  {
   "cell_type": "markdown",
   "metadata": {},
   "source": [
    "When faced with data that covers such a wide range, sometimes it helps to plot the data on a logarithmic scale:"
   ]
  },
  {
   "cell_type": "code",
   "execution_count": null,
   "metadata": {
    "collapsed": false
   },
   "outputs": [],
   "source": [
    "fig = plt.figure(figsize=(12,12))\n",
    "\n",
    "failer_budgets_logged = np.log10(failer_budgets)\n",
    "passer_budgets_logged = np.log10(passer_budgets)\n",
    "\n",
    "faillog_n = len(failer_budgets_logged)\n",
    "faillog_iqr = scipy.stats.iqr(failer_budgets_logged)\n",
    "faillog_binwidth = 2 * faillog_iqr * (faillog_n ** (-1/3))\n",
    "faillog_bins = (np.max(failer_budgets_logged) - np.min(failer_budgets_logged)) / faillog_binwidth\n",
    "\n",
    "passlog_n = len(passer_budgets_logged)\n",
    "passlog_iqr = scipy.stats.iqr(passer_budgets_logged)\n",
    "passlog_binwidth = 2 * passlog_iqr * (passlog_n ** (-1/3))\n",
    "passlog_bins = (np.max(passer_budgets_logged) - np.min(passer_budgets_logged)) / faillog_binwidth\n",
    "\n",
    "nbins = int(np.round(np.mean([faillog_bins,passlog_bins]),0))\n",
    "\n",
    "ax1 = fig.add_subplot(221)\n",
    "ax1.hist(failer_budgets_logged,bins=nbins)#,range=(0.1,9))\n",
    "plt.xlim([4,9])\n",
    "plt.ylim([0,100])\n",
    "plt.xlabel('Budget (Dec-2016$): LOG SCALE')\n",
    "plt.ylabel('Number of movies')\n",
    "plt.title('Fail')\n",
    "\n",
    "ax2 = fig.add_subplot(222)\n",
    "ax2.hist(passer_budgets_logged,bins=nbins)#,range=(0,500000000))\n",
    "plt.xlim([4,9])\n",
    "plt.ylim([0,100])\n",
    "plt.xlabel('Budget (million Dec-2016$): LOG SCALE')\n",
    "plt.ylabel('Number of movies')\n",
    "plt.title('Pass')\n",
    "\n",
    "fig.show()\n"
   ]
  },
  {
   "cell_type": "markdown",
   "metadata": {},
   "source": [
    "The log-scale graph helps us see that there is definitely some difference in budgets between the two groups, although it's hard to tell at a glance what that difference is.\n",
    "\n",
    "The best way to test for differences in data with such wide variation is to look for differences in the median. Finding the median budget in each group means let's line up all the budget values from lowest to highest and picking the one in the middle.\n",
    "\n",
    "What are the median budgets of movies that fail and pass the Bechdel test? Which value is higher, and by how much?"
   ]
  },
  {
   "cell_type": "code",
   "execution_count": null,
   "metadata": {
    "collapsed": false
   },
   "outputs": [],
   "source": [
    "failer_n = len(failer_budgets)\n",
    "passer_n = len(passer_budgets)\n",
    "\n",
    "failer_median_budget = failer_budgets.agg(np.median)\n",
    "passer_median_budget = passer_budgets.agg(np.median)\n",
    "\n",
    "print('Movies that fail the Bechdel test have a median budget of ${0:,.0f} (n={1:.0f}).'.format(failer_median_budget, failer_n))\n",
    "print('Movies that pass the Bechdel test have a median budget of ${0:,.0f} (n={1:.0f}).'.format(passer_median_budget, passer_n))\n",
    "\n",
    "median_difference = passer_median_budget - failer_median_budget\n",
    "direction_string = '<b>'\n",
    "if (median_difference < 0):\n",
    "    direction_string += 'lower than'\n",
    "elif (median_difference > 0):\n",
    "    direction_string += 'higher than'\n",
    "else:\n",
    "    direction_string += 'equal to'\n",
    "direction_string += '</b>'\n",
    "median_difference = abs(median_difference)\n",
    "\n",
    "display(HTML('<p>Movies that pass the Bechdel test have a median budget ${0:,.0f} {1:} those that fail.</p>.'.format(median_difference,direction_string)))"
   ]
  },
  {
   "cell_type": "markdown",
   "metadata": {},
   "source": [
    "Is that difference in median budget statistically significant? That question calls for a Mann-Whitney U test."
   ]
  },
  {
   "cell_type": "code",
   "execution_count": null,
   "metadata": {
    "collapsed": false
   },
   "outputs": [],
   "source": [
    "display(HTML('<p>Is the difference in median budgets statistically significant?</p>'))\n",
    "[ustat, pvalue] = scipy.stats.mannwhitneyu(failer_budgets, passer_budgets, use_continuity=True, alternative='two-sided')\n",
    "\n",
    "if (pvalue < .05):\n",
    "    print('YES')\n",
    "else:\n",
    "    print('NO')\n",
    "\n",
    "print('p-value: ',pvalue)\n",
    "\n",
    "display(HTML('<p><b><font color=\"red\">TODO:</font></b> Calculate effect size also!</h1>'))"
   ]
  },
  {
   "cell_type": "markdown",
   "metadata": {},
   "source": [
    "# EVERYTHING BELOW HERE IS WORK IN PROGRESS"
   ]
  },
  {
   "cell_type": "markdown",
   "metadata": {},
   "source": [
    "# PROFITS\n",
    "\n",
    "Now what about profit?"
   ]
  },
  {
   "cell_type": "code",
   "execution_count": null,
   "metadata": {
    "collapsed": false
   },
   "outputs": [],
   "source": [
    "failer_profits = movies_df.dropna()['profit_adj'][movies_df['bechdel_passed'] == 0]\n",
    "passer_profits = movies_df.dropna()['profit_adj'][movies_df['bechdel_passed'] == 1]\n",
    "\n",
    "#print('Median profit of films that fail the Bechdel test: ${0:,.0f}.'.format(failer_budgets.agg(np.median)))\n",
    "#print('Median budget of films that pass the Bechdel test: ${0:,.0f}.'.format(passer_budgets.agg(np.median)))\n",
    "\n",
    "# Calculate best bin widths by Freedman-Draconis rule.\n",
    "#The bin-width is set to h = 2 * IQR * n^(−1/3).\n",
    "#So the number of bins is (max−min)/h.\n",
    "\n",
    "fail_n = len(failer_profits)\n",
    "fail_iqr = scipy.stats.iqr(failer_profits)\n",
    "fail_binwidth = 2 * fail_iqr * (fail_n ** (-1/3))\n",
    "fail_bins = (np.max(failer_profits) - np.min(failer_profits)) / fail_binwidth\n",
    "#print(fail_bins)\n",
    "\n",
    "pass_n = len(passer_profits)\n",
    "pass_iqr = scipy.stats.iqr(passer_profits)\n",
    "pass_binwidth = 2 * fail_iqr * (fail_n ** (-1/3))\n",
    "pass_bins = (np.max(passer_profits) - np.min(passer_profits)) / pass_binwidth\n",
    "#print(pass_bins)\n",
    "nbins = int(np.round(np.mean([fail_bins,pass_bins]),0))\n",
    "#print(nbins)\n",
    "\n",
    "fig = plt.figure(figsize=(12,12))\n",
    "\n",
    "ax1 = fig.add_subplot(221)\n",
    "ax1.hist(failer_profits,bins=nbins)#,range=(-30000000,1000000000))\n",
    "plt.ylim([0,35])\n",
    "plt.xlabel('Profit (Dec-2016$)')\n",
    "plt.ylabel('Number of movies')\n",
    "plt.title('Fail')\n",
    "\n",
    "ax2 = fig.add_subplot(222)\n",
    "ax2.hist(passer_profits,bins=nbins)#,range=(-30000000,1000000000))\n",
    "plt.ylim([0,35])\n",
    "plt.xlabel('Profit (million Dec-2016$)')\n",
    "plt.ylabel('Number of movies')\n",
    "plt.title('Pass')\n",
    "print('Min: {0:,.0f} Max: {1:,.0f}'.format(np.min(failer_profits),np.max(failer_profits)))\n",
    "print('Min: {0:,.0f} Max: {1:,.0f}'.format(np.min(passer_profits),np.max(passer_profits)))\n",
    "#fig.show()\n",
    "z  = movies_df[['title','bechdel_year','budget_adj','boxoffice_adj','profit_adj']][movies_df['title'] == 'Star Wars'].values.tolist()"
   ]
  },
  {
   "cell_type": "markdown",
   "metadata": {},
   "source": [
    "# Below here, I consider \"partial pass\" results also"
   ]
  },
  {
   "cell_type": "code",
   "execution_count": null,
   "metadata": {
    "collapsed": false
   },
   "outputs": [],
   "source": [
    "display(HTML('<h2>Total movies with Bechel test results</h2>'))\n",
    "bechdel_result_table = pd.DataFrame()\n",
    "bechdel_result_table['nMovies'] = movies_df.groupby('bechdel_rating').size()\n",
    "bechdel_result_table['result'] = ''\n",
    "bechdel_result_table['result'] = np.where(bechdel_result_table.index == 0, 'Fewer than two women',bechdel_result_table['result'])\n",
    "bechdel_result_table['result'] = np.where(bechdel_result_table.index == 1, 'Women don\\'t talk',bechdel_result_table['result'])\n",
    "bechdel_result_table['result'] = np.where(bechdel_result_table.index == 2, 'Women talk about a man',bechdel_result_table['result'])\n",
    "bechdel_result_table['result'] = np.where(bechdel_result_table.index == 3, 'Passes Bechdel test',bechdel_result_table['result'])\n",
    "bechdel_result_table['percentage'] = 100 * (bechdel_result_table['nMovies'] / len(movies_df))\n",
    "bechdel_result_table[['result','nMovies','percentage']].style.format({'result': '{:10}', 'nMovies': '{:,.0f}', 'percentage': '{0:.0f}%'})\n",
    "# I made this table again but only with movies that have profit data - percentages are identical.\n",
    "#bechdel_result_table2['nMovies'] = movies_df[~pd.isnull(movies_df['profit_adj'])].groupby('bechdel_rating').size()"
   ]
  },
  {
   "cell_type": "markdown",
   "metadata": {},
   "source": [
    "We can also estimate a statistical model to forecast future changes in the average Bechdel score over time. We observe a general upward trend in movies passing more of the Bechdel test and can try to extrapolate this going forward."
   ]
  },
  {
   "cell_type": "code",
   "execution_count": null,
   "metadata": {
    "collapsed": false
   },
   "outputs": [],
   "source": [
    "#import statsmodels.formula.api as smf\n",
    "#from scipy import ols\n",
    "firstyear = 1969 # first year after the Hays code ended\n",
    "lastyear = 2016 # last full year in dataset\n",
    "avg_bechdel = movies_df.groupby('bechdel_year')['bechdel_rating'].agg(np.mean)\n",
    "avg_bechdel.index.name = 'date'\n",
    "avg_bechdel.name = 'bechdel'\n",
    "avg_bechdel = avg_bechdel[(avg_bechdel.index >= firstyear) & (avg_bechdel.index <= lastyear)]\n",
    "avg_bechdel = avg_bechdel.reset_index()\n",
    "#avg_bechdel\n",
    "\n",
    "stdevm_bechdel = movies_df.groupby('bechdel_year')['bechdel_rating'].agg(np.std) / movies_df.groupby('bechdel_year')['bechdel_rating'].size()\n",
    "stdevm_bechdel = stdevm_bechdel[(stdevm_bechdel.index >= firstyear) & (stdevm_bechdel.index <= lastyear)]\n",
    "\n",
    "errorbarsy = stdevm_bechdel.get_values()\n",
    "\n",
    "[slope,intercept,rvalue,pvalue,stderr] = linregress(avg_bechdel['date'],avg_bechdel['bechdel'])\n",
    "#print(slope,intercept,rvalue)\n",
    "r_squared = rvalue ** 2\n",
    "\n",
    "print('Regression model: Bechdel test scores have increased by {0:.3f} each year since {1:.0f}, with r^2 = {2:.2f}.'.format(slope,firstyear,r_squared))\n",
    "predicted = pd.DataFrame({\"date\": np.linspace(start=1969.,stop=2016.,num=48)})\n",
    "predicted['bechdel'] = slope*predicted['date'] + intercept\n",
    "\n",
    "# Plot the observed data\n",
    "plt.errorbar(avg_bechdel['date'],avg_bechdel['bechdel'],yerr=errorbarsy,c='b',label='Observed')\n",
    "# Plot the predictions from the model\n",
    "plt.plot(predicted['date'],predicted['bechdel'],c='r',label='Linear model',lw=3)\n",
    "plt.legend(loc='lower right')\n",
    "plt.ylim((0,3))\n",
    "plt.xlim((1969,2016))\n",
    "plt.xlabel('Year')\n",
    "plt.ylabel('Avg. Bechdel Test')\n",
    "plt.show()"
   ]
  },
  {
   "cell_type": "code",
   "execution_count": null,
   "metadata": {
    "collapsed": false
   },
   "outputs": [],
   "source": [
    "movies_df['bechdel_passed'] = np.where((movies_df['bechdel_rating'] == 3), 1, 0)\n",
    "\n",
    "display(HTML('<h2>Total movies with Bechel test pass/fail results</h2>'))\n",
    "bechdel_result_table = pd.DataFrame()\n",
    "bechdel_result_table['nMovies'] = movies_df.groupby('bechdel_passed').size()\n",
    "bechdel_result_table['result'] = ''\n",
    "bechdel_result_table['result'] = np.where(bechdel_result_table.index == 0, 'Fail',bechdel_result_table['result'])\n",
    "bechdel_result_table['result'] = np.where(bechdel_result_table.index == 1, 'Pass',bechdel_result_table['result'])\n",
    "bechdel_result_table['percentage'] = 100 * (bechdel_result_table['nMovies'] / len(movies_df))\n",
    "bechdel_result_table[['result','nMovies','percentage']].style.format({'result': '{:10}', 'nMovies': '{:,.0f}', 'percentage': '{0:.0f}%'})\n",
    "# I made this table again but only with movies that have profit data - percentages are identical.\n",
    "#bechdel_result_table2['nMovies'] = movies_df[~pd.isnull(movies_df['profit_adj'])].groupby('bechdel_rating').size()"
   ]
  },
  {
   "cell_type": "code",
   "execution_count": null,
   "metadata": {
    "collapsed": false
   },
   "outputs": [],
   "source": [
    "#import statsmodels.formula.api as smf\n",
    "#from scipy import ols\n",
    "firstyear = 1969 # first year after the Hays code ended\n",
    "lastyear = 2016 # last full year in dataset\n",
    "avg_bechdel = movies_df.groupby('bechdel_year')['bechdel_passed'].agg(np.mean)\n",
    "avg_bechdel.index.name = 'date'\n",
    "avg_bechdel.name = 'bechdel'\n",
    "avg_bechdel = avg_bechdel[(avg_bechdel.index >= firstyear) & (avg_bechdel.index <= lastyear)]\n",
    "avg_bechdel = avg_bechdel.reset_index()\n",
    "#avg_bechdel\n",
    "\n",
    "stdevm_bechdel = movies_df.groupby('bechdel_year')['bechdel_passed'].agg(np.std) / movies_df.groupby('bechdel_year')['bechdel_passed'].size()\n",
    "stdevm_bechdel.index.name = 'date'\n",
    "stdevm_bechdel.name = 'bechdel'\n",
    "stdevm_bechdel = stdevm_bechdel[(stdevm_bechdel.index >= firstyear) & (stdevm_bechdel.index <= lastyear)]\n",
    "stdevm_bechdel = stdevm_bechdel.reset_index()\n",
    "\n",
    "# multiply both by 100 to express as percentage\n",
    "avg_bechdel['bechdel'] = avg_bechdel['bechdel'] * 100\n",
    "#stdevm_bechdel['bechdel'] = stdevm_bechdel['bechdel'] * 100\n",
    "\n",
    "#errorbarsy = stdevm_bechdel.get_values()\n",
    "\n",
    "[slope,intercept,rvalue,pvalue,stderr] = linregress(avg_bechdel['date'],avg_bechdel['bechdel'])\n",
    "#print(slope,intercept,rvalue)\n",
    "r_squared = rvalue ** 2\n",
    "\n",
    "print('Regression model: Each year since {0:.0f}, an additional {1:.2f}% of movies pass the Bechdel test (r^2 = {2:.2f}).'.format(firstyear,slope,r_squared))\n",
    "\n",
    "predicted = pd.DataFrame({\"date\": np.linspace(start=1969.,stop=2969.,num=1001)})\n",
    "predicted['bechdel'] = slope*predicted['date'] + intercept\n",
    "\n",
    "# Plot the observed data\n",
    "plt.errorbar(avg_bechdel['date'],avg_bechdel['bechdel'],yerr=stdevm_bechdel['bechdel'],c='b',label='Observed')\n",
    "# Plot the predictions from the model\n",
    "plt.plot(predicted['date'],predicted['bechdel'],c='r',label='Linear model',lw=3)\n",
    "plt.legend(loc='lower right')\n",
    "plt.ylim((0,100))\n",
    "plt.xlim((1969,2016))\n",
    "plt.xlabel('Year')\n",
    "plt.ylabel('Percent of movies that pass the Bechdel test')\n",
    "plt.show()\n",
    "everything_passes_year = predicted['date'].loc[predicted['bechdel'] >= 100].agg(np.min)\n",
    "print('At this rate of increase, all movies will pass the Bechdel test in the year {0:.0f}.'.format(everything_passes_year))"
   ]
  },
  {
   "cell_type": "markdown",
   "metadata": {},
   "source": [
    "As I discussed above, the claim that budgets for Bechdel-passing movies is relatively uncontroversial and given the description of the data in the article, should be easy to reproduce. Visualizing the distribution of the data, there are no strong differences that jump out but if you squint hard enough, you can make out a negative trend: movies passing the Bechdel test have lower budgets.\n",
    "\n",
    "You'll notice each cloud of points around 0, 1, 2, and 3. These are simply \"jittered\" by adding a bit of normally-distributed errors to the plots (but not the underlying data we're estimating) to show the frequency of datapoints without them all sitting on top of each other."
   ]
  },
  {
   "cell_type": "code",
   "execution_count": null,
   "metadata": {
    "collapsed": false
   },
   "outputs": [],
   "source": [
    "x = movies_df['bechdel_rating'].apply(lambda x:float(x)+np.random.normal(0, 0.05))\n",
    "y = movies_df['budget_adj']\n",
    "\n",
    "# Plot with an alpha so the overlaps reveal something about relative density\n",
    "plt.scatter(x,y,alpha=.2,label='Data',c='g')\n",
    "plt.ylabel('Budgets (Dec-2016 $)',fontsize=18)\n",
    "plt.xlabel('Bechdel dimensions',fontsize=18)\n",
    "plt.xticks(np.arange(0,4))\n",
    "plt.yscale('log')\n",
    "plt.grid(False,which='minor')\n",
    "#plt.ylim((2e0,1e10))"
   ]
  },
  {
   "cell_type": "markdown",
   "metadata": {},
   "source": [
    "We can also visualize the median budgets with a bar chart to see that movies featuring two women who don't talk to each other appear to have much larger budgets than the rest. Movies that pass the Bechdel test also appear to have slightly smaller budgets than movies that don't pass."
   ]
  },
  {
   "cell_type": "code",
   "execution_count": null,
   "metadata": {
    "collapsed": false
   },
   "outputs": [],
   "source": [
    "print(groupby)\n",
    "movies_df['budget_adj'].groupby(movies_df['bechdel_rating']).agg(np.median).plot(kind='barh')\n",
    "#plt.xticks(range(0,7e7,1e7),range(0,70,10),fontsize=15)\n",
    "#plt.xticks(range(0e7,7e7,1e7),range(0,70,10),fontsize=15)\n",
    "plt.xticks(range(0,60000000,10000000),range(0,60,10),fontsize=15)\n",
    "plt.yticks(plt.yticks()[0],[\"Fewer than two women\",\n",
    "                             \"Women don't talk to each other\",\n",
    "                             'Women only talk about men',\n",
    "                             'Passes Bechdel Test'\n",
    "                             ],fontsize=18)\n",
    "plt.xlabel('Budget (Dec-2016 $millions)',fontsize=18)\n",
    "plt.title('Median Budget for Films',fontsize=24)\n",
    "plt.ylabel('')\n",
    "plt.show()"
   ]
  },
  {
   "cell_type": "code",
   "execution_count": null,
   "metadata": {
    "collapsed": false
   },
   "outputs": [],
   "source": []
  },
  {
   "cell_type": "code",
   "execution_count": null,
   "metadata": {
    "collapsed": true
   },
   "outputs": [],
   "source": []
  }
 ],
 "metadata": {
  "kernelspec": {
   "display_name": "Python 3",
   "language": "python",
   "name": "python3"
  },
  "language_info": {
   "codemirror_mode": {
    "name": "ipython",
    "version": 3
   },
   "file_extension": ".py",
   "mimetype": "text/x-python",
   "name": "python",
   "nbconvert_exporter": "python",
   "pygments_lexer": "ipython3",
   "version": "3.5.3"
  }
 },
 "nbformat": 4,
 "nbformat_minor": 0
}
