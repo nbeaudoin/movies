{
 "cells": [
  {
   "cell_type": "code",
   "execution_count": 1,
   "metadata": {
    "collapsed": false
   },
   "outputs": [
    {
     "data": {
      "text/plain": [
       "{'Actors': 'Robert Downey Jr., Chris Evans, Mark Ruffalo, Chris Hemsworth',\n",
       " 'Awards': 'Nominated for 1 Oscar. Another 37 wins & 79 nominations.',\n",
       " 'BoxOffice': '$623,279,547',\n",
       " 'Country': 'USA',\n",
       " 'DVD': '25 Sep 2012',\n",
       " 'Director': 'Joss Whedon',\n",
       " 'Genre': 'Action, Sci-Fi',\n",
       " 'Language': 'English, Russian, Hindi',\n",
       " 'Metascore': '69',\n",
       " 'Plot': \"Nick Fury is the director of S.H.I.E.L.D., an international peace-keeping agency. The agency is a who's who of Marvel Super Heroes, with Iron Man, The Incredible Hulk, Thor, Captain America, Hawkeye and Black Widow. When global security is threatened by Loki and his cohorts, Nick Fury and his team will need all their powers to save the world from disaster.\",\n",
       " 'Poster': 'https://images-na.ssl-images-amazon.com/images/M/MV5BMTk2NTI1MTU4N15BMl5BanBnXkFtZTcwODg0OTY0Nw@@._V1_SX300.jpg',\n",
       " 'Production': 'Walt Disney Pictures',\n",
       " 'Rated': 'PG-13',\n",
       " 'Ratings': [{'Source': 'Internet Movie Database', 'Value': '8.1/10'},\n",
       "  {'Source': 'Rotten Tomatoes', 'Value': '92%'},\n",
       "  {'Source': 'Metacritic', 'Value': '69/100'}],\n",
       " 'Released': '04 May 2012',\n",
       " 'Response': 'True',\n",
       " 'Runtime': '143 min',\n",
       " 'Title': 'The Avengers',\n",
       " 'Type': 'movie',\n",
       " 'Website': 'http://marvel.com/avengers_movie',\n",
       " 'Writer': 'Joss Whedon (screenplay), Zak Penn (story), Joss Whedon (story)',\n",
       " 'Year': '2012',\n",
       " 'imdbID': 'tt0848228',\n",
       " 'imdbRating': '8.1',\n",
       " 'imdbVotes': '1,056,595'}"
      ]
     },
     "execution_count": 1,
     "metadata": {},
     "output_type": "execute_result"
    }
   ],
   "source": [
    "import urllib.request\n",
    "import json\n",
    "import pandas as pd\n",
    "bechdel_data = pd.read_csv('bechdel.csv',encoding='utf-8')\n",
    "bechdel_data = bechdel_data.set_index('imdb_id')\n",
    "bechdel_data.sample(3)        \n",
    "testurl = 'http://www.omdbapi.com/?i=tt0848228&apikey=949d45c1&plot=full'  # The Avengers (2012)\n",
    "page = urllib.request.urlopen(testurl).read().decode('utf-8')\n",
    "x = json.loads(page,encoding='utf-8')\n",
    "x"
   ]
  },
  {
   "cell_type": "code",
   "execution_count": 12,
   "metadata": {
    "collapsed": false
   },
   "outputs": [
    {
     "name": "stdout",
     "output_type": "stream",
     "text": [
      "7319\n",
      "Processing movie 1,000 of 7,319...\n",
      "Processing movie 2,000 of 7,319...\n",
      "Processing movie 3,000 of 7,319...\n",
      "Processing movie 4,000 of 7,319...\n",
      "Processing movie 5,000 of 7,319...\n",
      "Processing movie 6,000 of 7,319...\n",
      "Processing movie 7,000 of 7,319...\n",
      "[84516, 1019452]\n",
      "\n",
      "\n"
     ]
    }
   ],
   "source": [
    "omdb_data = dict()\n",
    "exceptions = list()\n",
    "id_list = bechdel_data.index.tolist()\n",
    "#id_list\n",
    "totalmovies = len(id_list)\n",
    "print(totalmovies)\n",
    "i = 0\n",
    "for theid in id_list:\n",
    "    i = i + 1\n",
    "    id_string = 'tt'    \n",
    "    needed_zeroes = 7 - len(str(theid))\n",
    "    for j in range(0,needed_zeroes):\n",
    "        id_string = id_string + '0'\n",
    "    id_string = id_string + str(theid)\n",
    "    omdburl = 'http://www.omdbapi.com/?i={0}&apikey=949d45c1'.format(id_string)\n",
    "    try:\n",
    "        omdbpage = urllib.request.urlopen(omdburl).read().decode('utf-8')\n",
    "        omdb_data[theid] = json.loads(omdbpage,encoding='utf-8')\n",
    "    except:\n",
    "        exceptions.append(theid)\n",
    "        pass\n",
    "    if (i % 1000 == 0):\n",
    "        print('Processing movie {0:,.0f} of {1:,.0f}...'.format(i,totalmovies))\n",
    "print(exceptions)\n",
    "for theid in exceptions:\n",
    "    print()\n"
   ]
  },
  {
   "cell_type": "code",
   "execution_count": 13,
   "metadata": {
    "collapsed": false
   },
   "outputs": [
    {
     "name": "stdout",
     "output_type": "stream",
     "text": [
      "['Internet Movie Database', 'Rotten Tomatoes', 'Metacritic']\n",
      "Done\n"
     ]
    }
   ],
   "source": [
    "#from pprint import pprint\n",
    "ratings_sources = []\n",
    "for thismovie in omdb_data:   # iterate through each movie by its key (imdb_id)\n",
    "    theseratings = omdb_data[thismovie].get('Ratings')  # save the Ratings dict of this movie, if it exists\n",
    "    if (theseratings is not None):           # if ratings exist for this movie...\n",
    "        for i in range(0,len(theseratings)):   # iterate through each rating, each of which is a dict\n",
    "            for thiskey in theseratings[i]:    # iterate through the keys for each rating in this one movie\n",
    "                if (thiskey == 'Source'):      # if the key is 'Source', this might be a new source of ratings\n",
    "                    if (theseratings[i]['Source'] not in ratings_sources):  # is the key already in the list of sources?\n",
    "                        ratings_sources.append(theseratings[i]['Source'])         # if not, add it to the list of sources.\n",
    "print(ratings_sources)\n",
    "# w00t, so the only sources of ratings are IMDb, Rotten Tomatoes, and Metacritic! And the only one we're missing is RT.\n",
    "\n",
    "for thismovie in omdb_data:   # iterate through each movie by its key (imdb_id)\n",
    "    theseratings = omdb_data[thismovie].get('Ratings')  # save the Ratings dict of this movie, if it exists\n",
    "    if (theseratings is not None):           # if ratings exist for this movie...\n",
    "        for i in range(0,len(theseratings)):   # iterate through each rating, each of which is a dict\n",
    "            for thiskey in theseratings[i]:    # iterate through the keys for each rating in this one movie\n",
    "                if (theseratings[i][thiskey] == 'Rotten Tomatoes'):\n",
    "                    omdb_data[thismovie]['RottenTomatoesScore'] = theseratings[i]['Value']\n",
    "print('Done')"
   ]
  },
  {
   "cell_type": "code",
   "execution_count": 35,
   "metadata": {
    "collapsed": false
   },
   "outputs": [
    {
     "name": "stdout",
     "output_type": "stream",
     "text": [
      "Done\n"
     ]
    }
   ],
   "source": [
    "omdb_df = pd.DataFrame.from_dict(omdb_data,orient='index')\n",
    "omdb_df.index.name = 'imdb_id'\n",
    "\n",
    "#omdb_df.sample(3).transpose()\n",
    "#omdb_df[omdb_df.index == 1409024].transpose()   # Star Wars: The Force Awakens\n",
    "omdb_df.to_csv('omdb.csv',encoding='utf-8')\n",
    "print('Done')"
   ]
  },
  {
   "cell_type": "code",
   "execution_count": 37,
   "metadata": {
    "collapsed": false
   },
   "outputs": [
    {
     "name": "stdout",
     "output_type": "stream",
     "text": [
      "Done\n"
     ]
    }
   ],
   "source": [
    "import numpy as np\n",
    "#import pandas as pd\n",
    "import time\n",
    "omdb_df = pd.read_csv('omdb.csv',encoding='utf-8') \n",
    "\n",
    "# Drop non-movie-related columns\n",
    "omdb_df.drop(['Season','seriesID','Episode','totalSeasons'],axis=1,inplace=True)\n",
    "\n",
    "# Rename columns to what we want them to be.\n",
    "omdb_df=omdb_df.rename(columns = {'Actors':'actors','Writer':'writers','Response':'response','Language':'languages'})\n",
    "omdb_df=omdb_df.rename(columns = {'Title':'imdbtitle','Rated':'mpaa_rating','imdbRating':'userscore','Type':'type'})\n",
    "omdb_df=omdb_df.rename(columns = {'Poster':'posterlink','BoxOffice':'imdb_boxoffice','Country':'countries'})\n",
    "omdb_df=omdb_df.rename(columns = {'Ratings':'all_ratings_list','Genre':'genres','Runtime':'runtime','Metascore':'metascore'})\n",
    "omdb_df=omdb_df.rename(columns = {'Awards':'awards','Plot':'imdb_plot','DVD':'dvd_release_date','Director':'director'})\n",
    "omdb_df=omdb_df.rename(columns = {'Website':'website','Year':'imdbyear','Released':'imdb_release_date','imdbID':'imdb_id_str'})\n",
    "omdb_df=omdb_df.rename(columns = {'Production':'studio','imdbVotes':'nVotes'})\n",
    "\n",
    "# Drop non-movies\n",
    "omdb_df = omdb_df[omdb_df['type'] == 'movie']\n",
    "\n",
    "# Fix runtimes to be integers\n",
    "omdb_df['runtime'] = omdb_df['runtime'].str.slice(stop=-4).replace('',np.nan)\n",
    "omdb_df['runtime'] = omdb_df['runtime'].apply(float)\n",
    "omdb_df['runtime'] = omdb_df['runtime'].apply(lambda x: '{:.0f}'.format(x))\n",
    "\n",
    "\n",
    "\n",
    "# Fix release dates to be datetime, formatted as yyyy-mm-dd\n",
    "omdb_df['imdb_release_date'] = pd.to_datetime(omdb_df['imdb_release_date'],format=\"%d %b %Y\", errors='coerce')\n",
    "\n",
    "# Convert Release dateimte into new columns for year, month, and week\n",
    "#omdb_df['imdb_release_year'] = omdb_df['imdb_release_date'].dt.strftime('%Y')\n",
    "#omdb_df['imdb_release_month'] = omdb_df['imdb_release_date'].dt.strftime('%B')\n",
    "#omdb_df['imdb_release_weekday'] = omdb_df['imdb_release_date'].dt.strftime('%A')\n",
    "\n",
    "#omdb_df['imdb_release_week'] = omdb_df['imdb_release_date'].apply(lambda x:x.week)\n",
    "\n",
    "# Take the imdbVotes formatted as string containing \"N/A\" and comma-delimited thousands, convert to float\n",
    "omdb_df['nVotes'] = omdb_df['nVotes'].dropna().replace('N/A',np.nan).dropna().apply(lambda x:float(x.replace(',','')))\n",
    "\n",
    "#imdb_df[['imdb_id','imdbtitle','mpaa_rating','type','imdb_release_date','imdb_release_year','imdb_release_month','imdb_release_week','imdb_release_weekday']]\n",
    "omdb_df['nVotes'] = omdb_df['nVotes'].apply(lambda x: '{:,.0f}'.format(x))\n",
    "\n",
    "# Take the Metascore formatted as string containing \"N/A\", convert to float\n",
    "# Also divide by 10 to make effect sizes more comparable\n",
    "omdb_df['metascore'] = omdb_df['metascore'].dropna().replace('N/A',np.nan).dropna().apply(float)\n",
    "\n",
    "# Take the imdbRating formatted as string containing \"N/A\", convert to float\n",
    "omdb_df['userscore'] = omdb_df['userscore'].dropna().replace('N/A',np.nan).dropna().apply(float)\n",
    "\n",
    "# Remove % from rotten tomatoes scores, convert to float\n",
    "omdb_df['RottenTomatoesScore'] = omdb_df['RottenTomatoesScore'].dropna().apply(lambda x: str(x)[0:-1]).apply(float)\n",
    "\n",
    "# Create indicator variables for English and USA movies (English is at least one of its languages etc.) (0 = no, 1 =yes)\n",
    "omdb_df['english'] = (omdb_df['languages'].dropna().str.contains('nglish')).astype(int)\n",
    "omdb_df['usa'] = (omdb_df['countries'].dropna().str.contains('USA')).astype(int)\n",
    "\n",
    "# Convert imdb_ID to int, set it as the index\n",
    "omdb_df['imdb_id'] = omdb_df['imdb_id'].dropna().apply(int)\n",
    "omdb_df = omdb_df.set_index('imdb_id')\n",
    "\n",
    "#omdb_df.sample(3).transpose()\n",
    "#omdb_df[omdb_df.index == 1409024].transpose()   # Star Wars: The Force Awakens\n",
    "omdb_df.to_csv('omdb.csv',encoding='utf-8')\n",
    "print('Done')"
   ]
  },
  {
   "cell_type": "code",
   "execution_count": null,
   "metadata": {
    "collapsed": true
   },
   "outputs": [],
   "source": []
  }
 ],
 "metadata": {
  "kernelspec": {
   "display_name": "Python 3",
   "language": "python",
   "name": "python3"
  },
  "language_info": {
   "codemirror_mode": {
    "name": "ipython",
    "version": 3
   },
   "file_extension": ".py",
   "mimetype": "text/x-python",
   "name": "python",
   "nbconvert_exporter": "python",
   "pygments_lexer": "ipython3",
   "version": "3.5.3"
  }
 },
 "nbformat": 4,
 "nbformat_minor": 0
}
