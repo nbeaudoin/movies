{
 "cells": [
  {
   "cell_type": "code",
   "execution_count": 1,
   "metadata": {
    "collapsed": false
   },
   "outputs": [
    {
     "name": "stdout",
     "output_type": "stream",
     "text": [
      "Processing movie 1000 of 7253...\n",
      "Processing movie 2000 of 7253...\n",
      "Processing movie 3000 of 7253...\n",
      "Processing movie 4000 of 7253...\n",
      "Processing movie 5000 of 7253...\n",
      "Processing movie 6000 of 7253...\n",
      "Processing movie 7000 of 7253...\n",
      "Done\n"
     ]
    }
   ],
   "source": [
    "import urllib.request\n",
    "import json\n",
    "import pandas as pd\n",
    "from pprint import pprint\n",
    "\n",
    "with open('bechdel.csv') as f:\n",
    "    bechdel_data = pd.read_csv(f,encoding='utf-8')\n",
    "#bechdel_data\n",
    "omdb_data = dict()\n",
    "exceptions = list()\n",
    "\n",
    "id_list = bechdel_data['imdb_id'].tolist()\n",
    "#id_list = ['0250258','0389619','2614684','1022603','0275847','1449283','0450278','1572006']\n",
    "totalmovies = len(id_list)\n",
    "i = 0\n",
    "for theid in id_list:\n",
    "    i = i + 1\n",
    "    id_string = 'tt'    \n",
    "    needed_zeroes = 7 - len(str(theid))\n",
    "    for j in range(0,needed_zeroes):\n",
    "        id_string = id_string + '0'\n",
    "    id_string = id_string + str(theid)\n",
    "    omdburl = 'http://www.omdbapi.com/?i={0}&apikey=949d45c1'.format(id_string)\n",
    "    try:\n",
    "        omdbpage = urllib.request.urlopen(omdburl).read().decode('utf-8')\n",
    "        omdb_data[theid] = json.loads(omdbpage,encoding='utf-8')\n",
    "    except:\n",
    "        exceptions.append(theid)\n",
    "        pass\n",
    "    if (i % 1000 == 0):\n",
    "        print('Processing movie '+str(i)+' of '+str(totalmovies)+'...')\n",
    "        \n",
    "omdb_df = pd.DataFrame.from_dict(omdb_data,orient='index')\n",
    "omdb_df.index.name = 'imdb_id'\n",
    "#omdb_df\n",
    "#bechdel_data\n",
    "omdb_df.to_csv('omdb.csv',encoding='utf-8')\n",
    "print('Done')"
   ]
  },
  {
   "cell_type": "code",
   "execution_count": 2,
   "metadata": {
    "collapsed": false
   },
   "outputs": [
    {
     "name": "stdout",
     "output_type": "stream",
     "text": [
      "Done\n"
     ]
    }
   ],
   "source": [
    "import numpy as np\n",
    "#import pandas as pd\n",
    "import time\n",
    "omdb_df = pd.read_csv('omdb.csv',encoding='utf-8')\n",
    "\n",
    "# Drop non-movie-related columns\n",
    "omdb_df.drop(['Season','seriesID','Episode','totalSeasons'],axis=1,inplace=True)\n",
    "\n",
    "# Rename columns to what we want them to be.\n",
    "omdb_df=omdb_df.rename(columns = {'Actors':'actors','Writer':'writers','Response':'response','Language':'languages'})\n",
    "omdb_df=omdb_df.rename(columns = {'Title':'imdbtitle','Rated':'mpaa_rating','imdbRating':'userscore','Type':'type'})\n",
    "omdb_df=omdb_df.rename(columns = {'Poster':'posterlink','BoxOffice':'imdb_boxoffice','Country':'countries'})\n",
    "omdb_df=omdb_df.rename(columns = {'Ratings':'all_ratings_list','Genre':'genres','Runtime':'runtime','Metascore':'metascore'})\n",
    "omdb_df=omdb_df.rename(columns = {'Awards':'awards','Plot':'imdb_plot','DVD':'dvd_release_date','Director':'director'})\n",
    "omdb_df=omdb_df.rename(columns = {'Website':'website','Year':'imdbyear','Released':'imdb_release_date','imdbID':'imdb_id_str'})\n",
    "omdb_df=omdb_df.rename(columns = {'Production':'studio','imdbVotes':'nVotes'})\n",
    "\n",
    "# Drop non-movies\n",
    "omdb_df = omdb_df[omdb_df['type'] == 'movie']\n",
    "\n",
    "# Fix runtimes to be integers\n",
    "omdb_df['runtime'] = omdb_df['runtime'].str.slice(stop=-4).replace('',np.nan)\n",
    "omdb_df['runtime'] = omdb_df['runtime'].apply(float)\n",
    "omdb_df['runtime'] = omdb_df['runtime'].apply(lambda x: '{:.0f}'.format(x))\n",
    "\n",
    "\n",
    "\n",
    "# Fix release dates to be datetime, formatted as yyyy-mm-dd\n",
    "omdb_df['imdb_release_date'] = pd.to_datetime(omdb_df['imdb_release_date'],format=\"%d %b %Y\", errors='coerce')\n",
    "\n",
    "# Convert Release dateimte into new columns for year, month, and week\n",
    "#omdb_df['imdb_release_year'] = omdb_df['imdb_release_date'].dt.strftime('%Y')\n",
    "#omdb_df['imdb_release_month'] = omdb_df['imdb_release_date'].dt.strftime('%B')\n",
    "#omdb_df['imdb_release_weekday'] = omdb_df['imdb_release_date'].dt.strftime('%A')\n",
    "\n",
    "#omdb_df['imdb_release_week'] = omdb_df['imdb_release_date'].apply(lambda x:x.week)\n",
    "\n",
    "# Take the imdbVotes formatted as string containing \"N/A\" and comma-delimited thousands, convert to float\n",
    "omdb_df['nVotes'] = omdb_df['nVotes'].dropna().replace('N/A',np.nan).dropna().apply(lambda x:float(x.replace(',','')))\n",
    "\n",
    "#imdb_df[['imdb_id','imdbtitle','mpaa_rating','type','imdb_release_date','imdb_release_year','imdb_release_month','imdb_release_week','imdb_release_weekday']]\n",
    "omdb_df['nVotes'] = omdb_df['nVotes'].apply(lambda x: '{:,.0f}'.format(x))\n",
    "\n",
    "# Take the Metascore formatted as string containing \"N/A\", convert to float\n",
    "# Also divide by 10 to make effect sizes more comparable\n",
    "omdb_df['metascore'] = omdb_df['metascore'].dropna().replace('N/A',np.nan).dropna().apply(float)/10.\n",
    "\n",
    "# Take the imdbRating formatted as string containing \"N/A\", convert to float\n",
    "omdb_df['userscore'] = omdb_df['userscore'].dropna().replace('N/A',np.nan).dropna().apply(float)\n",
    "\n",
    "# Create indicator variables for English and USA movies (English is at least one of its languages etc.) (0 = no, 1 =yes)\n",
    "omdb_df['english'] = (omdb_df['languages'].dropna().str.contains('nglish')).astype(int)\n",
    "omdb_df['usa'] = (omdb_df['countries'].dropna().str.contains('USA')).astype(int)\n",
    "\n",
    "# Convert imdb_ID to int, set it as the index\n",
    "omdb_df['imdb_id'] = omdb_df['imdb_id'].dropna().apply(int)\n",
    "omdb_df = omdb_df.set_index('imdb_id')\n",
    "\n",
    "#omdb_df.loc[3].transpose()\n",
    "omdb_df.to_csv('omdb.csv',encoding='utf-8')\n",
    "print('Done')"
   ]
  },
  {
   "cell_type": "code",
   "execution_count": null,
   "metadata": {
    "collapsed": true
   },
   "outputs": [],
   "source": []
  }
 ],
 "metadata": {
  "kernelspec": {
   "display_name": "Python 3",
   "language": "python",
   "name": "python3"
  },
  "language_info": {
   "codemirror_mode": {
    "name": "ipython",
    "version": 3
   },
   "file_extension": ".py",
   "mimetype": "text/x-python",
   "name": "python",
   "nbconvert_exporter": "python",
   "pygments_lexer": "ipython3",
   "version": "3.5.2"
  }
 },
 "nbformat": 4,
 "nbformat_minor": 0
}
