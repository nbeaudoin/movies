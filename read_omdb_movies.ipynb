{
 "cells": [
  {
   "cell_type": "code",
   "execution_count": 1,
   "metadata": {},
   "outputs": [
    {
     "name": "stdout",
     "output_type": "stream",
     "text": [
      "Identified files...\n",
      "Reading file 1 of 90...\n",
      "Reading file 11 of 90...\n",
      "Reading file 21 of 90...\n",
      "Reading file 31 of 90...\n",
      "Reading file 41 of 90...\n",
      "Reading file 51 of 90...\n",
      "Reading file 61 of 90...\n",
      "Reading file 71 of 90...\n",
      "Reading file 81 of 90...\n",
      "Reading file 90 of 90...\n",
      "Sorting...\n",
      "Read 8,981,661 OMDb entries in 973 seconds.\n",
      "Removing error entries...\n",
      "3,778,948 OMDb entries remaining.\n",
      "Removing non-movies...\n",
      "1,285,965 movies remaining.\n",
      "Converting retreived_at to datetime...\n",
      "Done!\n"
     ]
    }
   ],
   "source": [
    "import pandas\n",
    "import numpy as np\n",
    "import os\n",
    "from pprint import pprint\n",
    "import time\n",
    "debug = 0\n",
    "\n",
    "os.chdir('/home/idies/workspace/Temporary/raddick/movies_scratch/omdb_all')\n",
    "thefiles = os.listdir()\n",
    "thefiles.remove('exceptions')\n",
    "thefiles.remove('.ipynb_checkpoints')\n",
    "print('Identified files...')\n",
    "\n",
    "s = time.time()\n",
    "for i in range(0, len(thefiles)):\n",
    "    if (debug == 0):\n",
    "        if ((np.mod(i, 10) == 0) | (i == len(thefiles) - 1)):\n",
    "            print('Reading file {0:.0f} of {1:.0f}...'.format(i+1, len(thefiles)))\n",
    "    else:\n",
    "        print('Reading file {0:.0f} of {1:.0f} total: {2:}...'.format(i, len(thefiles), thefiles[i]))\n",
    "    if (i == 0):\n",
    "        movies_df = pandas.read_csv(thefiles[i], low_memory=False, index_col='imdb_id', encoding='utf-8')\n",
    "    else:\n",
    "        movies_df = movies_df.append(pandas.read_csv(thefiles[i], low_memory=False, index_col='imdb_id', encoding='utf-8'), sort=True)\n",
    "e = time.time()\n",
    "print('Sorting...')\n",
    "movies_df = movies_df.sort_index()\n",
    "print('Read {0:,.0f} OMDb entries in {1:,.0f} seconds.'.format(len(movies_df), e-s))\n",
    "\n",
    "print('Removing error entries...')\n",
    "movies_df = movies_df[movies_df['Error'].isnull()]\n",
    "movies_df = movies_df.drop(['Error', 'Response'], axis=1)\n",
    "print('{0:,.0f} OMDb entries remaining.'.format(len(movies_df)))\n",
    "\n",
    "print('Removing non-movies...')\n",
    "movies_df = movies_df[movies_df['Type'] == 'movie']\n",
    "movies_df = movies_df.drop(['Type', 'seriesID', 'Episode', 'Season', 'totalSeasons'], axis=1)\n",
    "print('{0:,.0f} movies remaining.'.format(len(movies_df)))\n",
    "\n",
    "print('Converting retreived_at to datetime...')\n",
    "movies_df['retrieved_at'] = pandas.to_datetime(movies_df['retrieved_at'], unit='s')\n",
    "\n",
    "#print('Writing outfile...')\n",
    "#movies_df.to_csv('movies_omdb_all.csv', encoding='utf-8')\n",
    "\n",
    "print('Done!')"
   ]
  },
  {
   "cell_type": "code",
   "execution_count": 2,
   "metadata": {},
   "outputs": [
    {
     "name": "stdout",
     "output_type": "stream",
     "text": [
      "Done\n"
     ]
    }
   ],
   "source": [
    "number_of_chunks = 9\n",
    "\n",
    "[movies_df_i.to_csv('omdb{id}.csv'.format(id=id)) for id, movies_df_i in  enumerate(np.array_split(movies_df, number_of_chunks))]\n",
    "print('Done')\n",
    "\n"
   ]
  },
  {
   "cell_type": "code",
   "execution_count": null,
   "metadata": {},
   "outputs": [],
   "source": []
  }
 ],
 "metadata": {
  "kernelspec": {
   "display_name": "Python 3",
   "language": "python",
   "name": "python3"
  },
  "language_info": {
   "codemirror_mode": {
    "name": "ipython",
    "version": 3
   },
   "file_extension": ".py",
   "mimetype": "text/x-python",
   "name": "python",
   "nbconvert_exporter": "python",
   "pygments_lexer": "ipython3",
   "version": "3.6.6"
  },
  "toc": {
   "base_numbering": 1,
   "nav_menu": {},
   "number_sections": false,
   "sideBar": false,
   "skip_h1_title": false,
   "title_cell": "Table of Contents",
   "title_sidebar": "Contents",
   "toc_cell": false,
   "toc_position": {},
   "toc_section_display": false,
   "toc_window_display": false
  }
 },
 "nbformat": 4,
 "nbformat_minor": 2
}
