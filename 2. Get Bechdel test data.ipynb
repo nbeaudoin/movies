{
 "cells": [
  {
   "cell_type": "code",
   "execution_count": 6,
   "metadata": {
    "collapsed": true
   },
   "outputs": [],
   "source": [
    "import urllib\n",
    "import json\n",
    "import pandas as pd"
   ]
  },
  {
   "cell_type": "code",
   "execution_count": 2,
   "metadata": {
    "collapsed": false
   },
   "outputs": [
    {
     "name": "stdout",
     "output_type": "stream",
     "text": [
      "There are 7,261 movies in the Bechdel test corpus.\n",
      "7,261 of them have IMDb IDs.\n"
     ]
    }
   ],
   "source": [
    "bechdel_url = 'http://bechdeltest.com/api/v1/getAllMovieIds'\n",
    "bechdel_page = urllib.request.urlopen(bechdel_url).read().decode('utf-8')\n",
    "#print(bechdel_page)\n",
    "movie_ids = json.loads(bechdel_page)\n",
    "bechdel_ids = [movie[u'id'] for movie in movie_ids]\n",
    "imdb_ids = [movie[u'imdbid'] for movie in movie_ids]\n",
    "print(u\"There are {0:,.0f} movies in the Bechdel test corpus.\".format(len(bechdel_ids)))\n",
    "print(u\"{0:,.0f} of them have IMDb IDs.\".format(len(imdb_ids)))"
   ]
  },
  {
   "cell_type": "code",
   "execution_count": 3,
   "metadata": {
    "collapsed": false
   },
   "outputs": [
    {
     "data": {
      "text/plain": [
       "{'date': '2013-12-25 14:31:21',\n",
       " 'dubious': '0',\n",
       " 'id': '4982',\n",
       " 'imdbid': '0000091',\n",
       " 'rating': '0',\n",
       " 'submitterid': '9025',\n",
       " 'title': 'House of the Devil, The',\n",
       " 'visible': '1',\n",
       " 'year': '1896'}"
      ]
     },
     "execution_count": 3,
     "metadata": {},
     "output_type": "execute_result"
    }
   ],
   "source": [
    "bechdel_url = 'http://bechdeltest.com/api/v1/getMovieByImdbId?imdbid=0000091'\n",
    "bechdel_page = urllib.request.urlopen(bechdel_url).read().decode('utf-8')\n",
    "x = json.loads(bechdel_page)\n",
    "x\n",
    "#imdb_ids"
   ]
  },
  {
   "cell_type": "code",
   "execution_count": 4,
   "metadata": {
    "collapsed": false
   },
   "outputs": [
    {
     "name": "stdout",
     "output_type": "stream",
     "text": [
      "There are 7,261 movies in the Bechdel test corpus.\n",
      "7,261 of them have IMDb IDs.\n",
      "Processing movie number 100 of 7,261...\n",
      "Processing movie number 200 of 7,261...\n",
      "Processing movie number 300 of 7,261...\n",
      "Processing movie number 400 of 7,261...\n",
      "Processing movie number 500 of 7,261...\n",
      "Processing movie number 600 of 7,261...\n",
      "Processing movie number 700 of 7,261...\n",
      "Processing movie number 800 of 7,261...\n",
      "Processing movie number 900 of 7,261...\n",
      "Processing movie number 1000 of 7,261...\n",
      "Processing movie number 1100 of 7,261...\n",
      "Processing movie number 1200 of 7,261...\n",
      "Processing movie number 1300 of 7,261...\n",
      "Processing movie number 1400 of 7,261...\n",
      "Processing movie number 1500 of 7,261...\n",
      "Processing movie number 1600 of 7,261...\n",
      "Processing movie number 1700 of 7,261...\n",
      "Processing movie number 1800 of 7,261...\n",
      "Processing movie number 1900 of 7,261...\n",
      "Processing movie number 2000 of 7,261...\n",
      "Processing movie number 2100 of 7,261...\n",
      "Processing movie number 2200 of 7,261...\n",
      "Processing movie number 2300 of 7,261...\n",
      "Processing movie number 2400 of 7,261...\n",
      "Processing movie number 2500 of 7,261...\n",
      "Processing movie number 2600 of 7,261...\n",
      "Processing movie number 2700 of 7,261...\n",
      "Processing movie number 2800 of 7,261...\n",
      "Processing movie number 2900 of 7,261...\n",
      "Processing movie number 3000 of 7,261...\n",
      "Processing movie number 3100 of 7,261...\n",
      "Processing movie number 3200 of 7,261...\n",
      "Processing movie number 3300 of 7,261...\n",
      "Processing movie number 3400 of 7,261...\n",
      "Processing movie number 3500 of 7,261...\n",
      "Processing movie number 3600 of 7,261...\n",
      "Processing movie number 3700 of 7,261...\n",
      "Processing movie number 3800 of 7,261...\n",
      "Processing movie number 3900 of 7,261...\n",
      "Processing movie number 4000 of 7,261...\n",
      "Processing movie number 4100 of 7,261...\n",
      "Processing movie number 4200 of 7,261...\n",
      "Processing movie number 4300 of 7,261...\n",
      "Processing movie number 4400 of 7,261...\n",
      "Processing movie number 4500 of 7,261...\n",
      "Processing movie number 4600 of 7,261...\n",
      "Processing movie number 4700 of 7,261...\n",
      "Processing movie number 4800 of 7,261...\n",
      "Processing movie number 4900 of 7,261...\n",
      "Processing movie number 5000 of 7,261...\n",
      "Processing movie number 5100 of 7,261...\n",
      "Processing movie number 5200 of 7,261...\n",
      "Processing movie number 5300 of 7,261...\n",
      "Processing movie number 5400 of 7,261...\n",
      "Processing movie number 5500 of 7,261...\n",
      "Processing movie number 5600 of 7,261...\n",
      "Processing movie number 5700 of 7,261...\n",
      "Processing movie number 5800 of 7,261...\n",
      "Processing movie number 5900 of 7,261...\n",
      "Processing movie number 6000 of 7,261...\n",
      "Processing movie number 6100 of 7,261...\n",
      "Processing movie number 6200 of 7,261...\n",
      "Processing movie number 6300 of 7,261...\n",
      "Processing movie number 6400 of 7,261...\n",
      "Processing movie number 6500 of 7,261...\n",
      "Processing movie number 6600 of 7,261...\n",
      "Processing movie number 6700 of 7,261...\n",
      "Processing movie number 6800 of 7,261...\n",
      "Processing movie number 6900 of 7,261...\n",
      "Processing movie number 7000 of 7,261...\n",
      "Processing movie number 7100 of 7,261...\n",
      "Processing movie number 7200 of 7,261...\n",
      "Movies processed\n"
     ]
    },
    {
     "ename": "NameError",
     "evalue": "name 'pd' is not defined",
     "output_type": "error",
     "traceback": [
      "\u001b[1;31m\u001b[0m",
      "\u001b[1;31mNameError\u001b[0mTraceback (most recent call last)",
      "\u001b[1;32m<ipython-input-4-4140f7172aad>\u001b[0m in \u001b[0;36m<module>\u001b[1;34m()\u001b[0m\n\u001b[0;32m     40\u001b[0m \u001b[1;32mfor\u001b[0m \u001b[0mkey\u001b[0m \u001b[1;32min\u001b[0m \u001b[0mratings\u001b[0m\u001b[1;33m:\u001b[0m\u001b[1;33m\u001b[0m\u001b[0m\n\u001b[0;32m     41\u001b[0m     \u001b[0mratings\u001b[0m\u001b[1;33m[\u001b[0m\u001b[0mkey\u001b[0m\u001b[1;33m]\u001b[0m\u001b[1;33m[\u001b[0m\u001b[1;34m'title'\u001b[0m\u001b[1;33m]\u001b[0m \u001b[1;33m=\u001b[0m \u001b[0mratings\u001b[0m\u001b[1;33m[\u001b[0m\u001b[0mkey\u001b[0m\u001b[1;33m]\u001b[0m\u001b[1;33m[\u001b[0m\u001b[1;34m'title'\u001b[0m\u001b[1;33m]\u001b[0m\u001b[1;33m.\u001b[0m\u001b[0mreplace\u001b[0m\u001b[1;33m(\u001b[0m\u001b[1;34m'&#39;'\u001b[0m\u001b[1;33m,\u001b[0m\u001b[1;34m'\\''\u001b[0m\u001b[1;33m)\u001b[0m\u001b[1;33m\u001b[0m\u001b[0m\n\u001b[1;32m---> 42\u001b[1;33m \u001b[0mratings_df\u001b[0m \u001b[1;33m=\u001b[0m \u001b[0mpd\u001b[0m\u001b[1;33m.\u001b[0m\u001b[0mDataFrame\u001b[0m\u001b[1;33m.\u001b[0m\u001b[0mfrom_dict\u001b[0m\u001b[1;33m(\u001b[0m\u001b[0mratings\u001b[0m\u001b[1;33m,\u001b[0m\u001b[0morient\u001b[0m\u001b[1;33m=\u001b[0m\u001b[1;34m'index'\u001b[0m\u001b[1;33m)\u001b[0m\u001b[1;33m\u001b[0m\u001b[0m\n\u001b[0m\u001b[0;32m     43\u001b[0m \u001b[0mratings_df\u001b[0m\u001b[1;33m.\u001b[0m\u001b[0mindex\u001b[0m\u001b[1;33m.\u001b[0m\u001b[0mname\u001b[0m \u001b[1;33m=\u001b[0m \u001b[1;34m'imdb_id'\u001b[0m\u001b[1;33m\u001b[0m\u001b[0m\n\u001b[0;32m     44\u001b[0m \u001b[1;31m#ratings_df\u001b[0m\u001b[1;33m\u001b[0m\u001b[1;33m\u001b[0m\u001b[0m\n",
      "\u001b[1;31mNameError\u001b[0m: name 'pd' is not defined"
     ]
    }
   ],
   "source": [
    "import urllib\n",
    "import json\n",
    "\n",
    "bechdel_url = 'http://bechdeltest.com/api/v1/getAllMovieIds'\n",
    "bechdel_page = urllib.request.urlopen(bechdel_url).read().decode('utf-8')\n",
    "#print(bechdel_page)\n",
    "movie_ids = json.loads(bechdel_page)\n",
    "bechdel_ids = [movie[u'id'] for movie in movie_ids]\n",
    "imdb_ids = [movie[u'imdbid'] for movie in movie_ids]\n",
    "print(u\"There are {0:,.0f} movies in the Bechdel test corpus.\".format(len(bechdel_ids)))\n",
    "print(u\"{0:,.0f} of them have IMDb IDs.\".format(len(imdb_ids)))\n",
    "\n",
    "ratings = dict()\n",
    "exceptions = list()\n",
    "\n",
    "\n",
    "totalmovies = len(imdb_ids)\n",
    "#i = 0\n",
    "#for num,imdb_id in enumerate(imdb_ids):\n",
    "#for i in range(1,500):\n",
    "for i in range(1,totalmovies):\n",
    "    imdb_id = imdb_ids[i]\n",
    "    try:\n",
    "        bechdel_url = 'http://bechdeltest.com/api/v1/getMovieByImdbId?imdbid={0}'.format(imdb_id)\n",
    "#        print(bechdel_url)\n",
    "        bechdel_info = urllib.request.urlopen(bechdel_url).info()\n",
    "        bechdel_page = urllib.request.urlopen(bechdel_url).read().decode('ISO-8859-1')\n",
    "#        print(bechdel_info)\n",
    "        ratings[imdb_id] = json.loads(bechdel_page)\n",
    "    except:\n",
    "        exceptions.append(imdb_id)\n",
    "        pass\n",
    "#    i = i + 1\n",
    "    if (i % 100 == 0):\n",
    "        print('Processing movie number {0} of {1:,.0f}...'.format(i,totalmovies))\n",
    "print('Movies processed')\n",
    "\n"
   ]
  },
  {
   "cell_type": "code",
   "execution_count": 7,
   "metadata": {
    "collapsed": false
   },
   "outputs": [
    {
     "name": "stdout",
     "output_type": "stream",
     "text": [
      "Done!\n"
     ]
    }
   ],
   "source": [
    "#from pprint import pprint\n",
    "#ratings\n",
    "for key in ratings:\n",
    "    ratings[key]['title'] = ratings[key]['title'].replace('&#39;','\\'')\n",
    "ratings_df = pd.DataFrame.from_dict(ratings,orient='index')\n",
    "ratings_df.index.name = 'imdb_id'\n",
    "#ratings_df\n",
    "ratings_df.to_csv('bechdel.csv',encoding='utf-8')\n",
    "print('Done!')"
   ]
  },
  {
   "cell_type": "code",
   "execution_count": null,
   "metadata": {
    "collapsed": true
   },
   "outputs": [],
   "source": []
  }
 ],
 "metadata": {
  "kernelspec": {
   "display_name": "Python 3",
   "language": "python",
   "name": "python3"
  },
  "language_info": {
   "codemirror_mode": {
    "name": "ipython",
    "version": 3
   },
   "file_extension": ".py",
   "mimetype": "text/x-python",
   "name": "python",
   "nbconvert_exporter": "python",
   "pygments_lexer": "ipython3",
   "version": "3.5.2"
  }
 },
 "nbformat": 4,
 "nbformat_minor": 0
}
